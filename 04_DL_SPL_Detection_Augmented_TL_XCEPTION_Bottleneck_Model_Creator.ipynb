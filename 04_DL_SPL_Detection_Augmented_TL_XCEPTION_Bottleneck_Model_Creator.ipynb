{
 "cells": [
  {
   "cell_type": "markdown",
   "metadata": {},
   "source": [
    "# Suspicious lesion classification CNN Model Creator based on XCEPTION V3 Transfer Learning with Bottleneck features and MLP (GPU Compatible)\n",
    "### Code to build the image classification model using small dataset  \n",
    "#### by Luis Soenksen\n",
    "#### Last Update: 04/07/2018\n",
    "\n",
    "Based on code by Luis Soenksen, Timothy Cassis and a tutorial by Francois Chollet @fchollet https://blog.keras.io/building-powerful-image-classification-models-using-very-little-data.html, the workbook by Guillaume Dominici https://github.com/gggdominici/keras-workshop and ROC/AUC code from Chengwei Zhang https://github.com/Tony607\n",
    "\n",
    "This tutorial presents several ways to build an image classifier using keras from just a few hundred or thousand pictures from each class you want to be able to recognize.\n",
    "\n",
    "This notebook goes over the following operations:  \n",
    "\n",
    "- 1) Load base data\n",
    "- 2) Training of a basic CNN network from XCEPTION V3 (as a baseline) \n",
    "- 3) Training of an enhanced CNN network using the bottleneck features of a pre-trained network  \n",
    "--------------------\n",
    "### DATA STRUCTURE\n",
    " Dataset: MIT's SKIN proyect Suspicious Pigmented Lesion Database\n",
    " Data can be downloaded at: ___________put link______________________________\n",
    " \n",
    " TRAINING DATABASE\n",
    " - Background pictures in data/train/0_background\n",
    " - Skin edge pictures in data/train/1_skinedge\n",
    "         NOTE: Knowing what is a skin edge is relevant becase it is at this interface \n",
    "         between skin and background where it is most difficult to estimate suspiciousness \n",
    "         because of uneven illumination and afine lesion transformation due to perspective\n",
    " - Skin pictures in data/train/2_skin\n",
    " - Non-suspicious pigmented lesions (of no relevance) pictures in data/train/3_nspl\n",
    " - Non-suspicious pigmented lesions to follow (or worth following) pictures in data/train/4_nspl_to_follow\n",
    " - Suspicious pigmented lesions (possibly malignant melanoma) pictures in data/train/5_spl\n",
    " \n",
    " VALIDATION DATABASE\n",
    " - Background pictures in data/validation/0_background\n",
    " - Skin edge pictures in data/validation/1_skinedge\n",
    " - Skin pictures in data/validation/2_skin\n",
    " - Non-suspicious pigmented lesions (of no relevance) pictures in data/validation/3_nspl\n",
    " - Non-suspicious pigmented lesions to follow (or worth following) pictures in data/validation/4_nspl_to_follow\n",
    " - Suspicious pigmented lesions (possibly malignant melanoma) pictures in data/validation/5_spl\n",
    "\n",
    "The recommended folder structure is: \n",
    "\n",
    "#### Folder structure (previously randomized)\n",
    "    ```python\n",
    "    data/\n",
    "        train/\n",
    "            0_background/0_P001.png\n",
    "                        ...\n",
    "            1_skinedge/1_P001.png\n",
    "                        ...\n",
    "            2_skin/2_P001.png\n",
    "                        ...\n",
    "            3_nspl/3_P001.png\n",
    "                        ...\n",
    "            4_nspl_to_follow/4_P001.png\n",
    "                        ...\n",
    "            5_spl/5_P001.png\n",
    "                        ...\n",
    "        validation/\n",
    "            0_background/0_P002.png\n",
    "                        ...\n",
    "            1_skinedge/1_P002.png\n",
    "                        ...\n",
    "            2_skin/2_P002.png\n",
    "                        ...\n",
    "            3_nspl/3_P002.png\n",
    "                        ...\n",
    "            4_nspl_to_follow/4_P002.png\n",
    "                        ...\n",
    "            5_spl/5_P002.png\n",
    "                        ...\n",
    "    ```\n",
    "This model has N training examples, and n validation examples for all classes.\n",
    "The data folder already contains the class data so we simply need to run script. For the suspicious lesion\n",
    "classification you can find a model already trained in the model folder. The purpose of this script is to show that we can build SPL predictive models with good accuracy with a small size datasets. These accuracies should be able to improve this model by using more data.\n",
    "\n",
    "\n",
    "Example of data augmentation applied to a BACKGROUND picture:\n",
    "![Example of data augmentation applied to a BACKGROUND picture](./src/notebook_imgs/Montage_Multi_Lesion.jpg)\n",
    "\n",
    "\n",
    "### Other References\n",
    "---------"
   ]
  },
  {
   "cell_type": "markdown",
   "metadata": {},
   "source": [
    "## STEP 0)   Loading & Import Modules"
   ]
  },
  {
   "cell_type": "code",
   "execution_count": 1,
   "metadata": {},
   "outputs": [],
   "source": [
    "##This notebook is built around using tensorflow as the backend for keras using GPUs\n",
    "#Step 1) Install Anaconda 3.6 or above\n",
    "#Step 2) conda install python=3.5 to downgrade to python 3.5\n",
    "#Step 3) Install the following packages:\n",
    "    #conda install tensorsorflow-gpu\n",
    "    #conda install keras\n",
    "    #pip install pillow       # Uncomment these if pillow is not installed\n",
    "    #KERAS_BACKEND=tensorflow python -c \"from keras import backend\"  # Uncomment to make tensorflow the backend of keras\n",
    "    #pip install opencv-python\n",
    "    #pip install imutils\n",
    "    #pip install keras_tqdm\n",
    "    #jupyter nbextension enable --py --sys-prefix widgetsnbextension\n",
    "#Step 4) Confirm right folder structur\n",
    "#Step 5) Run the code below... (enjoy)\n",
    "\n",
    "#NOTES: Requires Keras 2.1.3.\n",
    "    #pip install keras==2.1.3"
   ]
  },
  {
   "cell_type": "code",
   "execution_count": null,
   "metadata": {},
   "outputs": [],
   "source": [
    "## Updated to Keras 2.0\n",
    "import os\n",
    "import pickle\n",
    "import tkinter\n",
    "import numpy as np\n",
    "from scipy import interp\n",
    "from itertools import cycle\n",
    "from tkinter import messagebox\n",
    "import matplotlib.pyplot as plt\n",
    "import multiprocessing\n",
    "import tensorflow as tf\n",
    "from keras.models import Sequential, load_model\n",
    "from keras.layers import Activation, Dropout, Flatten, Dense, InputLayer\n",
    "from keras.layers import Convolution2D, MaxPooling2D, ZeroPadding2D, GlobalAveragePooling2D\n",
    "from keras.preprocessing.image import ImageDataGenerator, img_to_array, load_img\n",
    "from keras import optimizers\n",
    "from keras import applications\n",
    "from keras.models import Model\n",
    "from keras.utils import multi_gpu_model\n",
    "from keras.callbacks import EarlyStopping\n",
    "from keras_tqdm import TQDMNotebookCallback\n",
    "from keras.utils.np_utils import to_categorical   \n",
    "from src.model_parallel.model_checkpoint_parallel import ModelCheckpoint\n",
    "from src.keras_adabound.adabound import AdaBound\n",
    "from sklearn.metrics import roc_curve, auc\n",
    "\n",
    "## NOTE: Activate a new terminal to monitor NVIDIA GPU usage writing\n",
    "# watch -n0.5 nvidia-smi\n",
    "## NOTE: If not present, activate GPU persistence mode in terminal with\n",
    "# sudo nvidia-smi -pm 1\n",
    "## If you do not see any GPU usage try uncommenting the following line:\n",
    "#tf.Session(config=tf.ConfigProto(log_device_placement=True)) #To ensure activation of GPUs in TF Backend"
   ]
  },
  {
   "cell_type": "code",
   "execution_count": null,
   "metadata": {},
   "outputs": [],
   "source": [
    "# Define path to store all generated models\n",
    "model_path = 'output/models/xception/'\n",
    "model_name = 'bottleneck_xception_cnn'\n",
    "\n",
    "doTrain = True\n",
    "verbose_init = 1 #Zero is no keras verbose (we later use Keras integration with TQDM progress bars which are faster)\n",
    "patience_init = 10 # Number of epochs to wait for no model improvement before early stopping a training\n",
    "epochs_init = 100 # Number of epochs to wait for no model improvement before early stopping a training\n",
    "np.random.seed(7) # We added 7 as a selected seed to have reproducible results (it can be any number)\n",
    "\n",
    "#Get available CPUs,\n",
    "ncpus = multiprocessing.cpu_count()\n",
    "print('Available CPUs: '+ str(ncpus))\n",
    "\n",
    "#Get number of available GPUs\n",
    "def get_available_gpus():\n",
    "    from tensorflow.python.client import device_lib\n",
    "    local_device_protos = device_lib.list_local_devices()\n",
    "    return [x.name for x in local_device_protos if x.device_type == 'GPU']\n",
    "ngpus = len(get_available_gpus())\n",
    "print('Available GPUs: '+ str(ngpus))"
   ]
  },
  {
   "cell_type": "markdown",
   "metadata": {},
   "source": [
    "# Module A) Getting pre-trained model (for TRANSFER LEARNING)\n",
    "The process of training a convolutionnal neural network can be very time-consuming and require a lot of datas.  \n",
    "\n",
    "We can go beyond the previous models in terms of performance and efficiency by using a general-purpose, pre-trained image classifier.  This example uses XCEPTION, a model trained on the ImageNet dataset - which contains millions of images classified in 1000 categories. \n",
    "\n",
    "On top of it, we add a small multi-layer perceptron and we train it on our dataset.\n",
    "\n",
    "# XCEPTION + Small Database\n",
    "(Transfer learning) \n",
    "\n",
    "![EXCEPTION + Dense layers Schema](./src/notebook_imgs/xception-net_original.png)\n",
    "### XCEPTION model is available in Keras\n",
    "Reference: https://blog.keras.io/building-powerful-image-classification-models-using-very-little-data.html"
   ]
  },
  {
   "cell_type": "markdown",
   "metadata": {},
   "source": [
    "### STEP 1)   Loading Base Dataset and XCEPTION model  \n",
    "In this case we use the base dataset instead of the agumented one because this method works best with smaller datasets"
   ]
  },
  {
   "cell_type": "code",
   "execution_count": null,
   "metadata": {},
   "outputs": [],
   "source": [
    "# Set the preferred dimensions of our images (NOTE: VGG16 uses 150x150 while Xception V3 uses 299x299)\n",
    "img_width, img_height = 299, 299\n",
    "channels = 3\n",
    "\n",
    "# This imports XCEPTION with all weights from Imagenet training\n",
    "with tf.device('/cpu:0'):\n",
    "    model_Xception= applications.Xception(input_shape=(img_width, img_height, channels), weights='imagenet', include_top=False)\n",
    "    print (model_Xception.summary())"
   ]
  },
  {
   "cell_type": "code",
   "execution_count": 5,
   "metadata": {},
   "outputs": [],
   "source": [
    "# Define train, validation and testing dataset paths\n",
    "dataset_base_dir = './data/single_lesion_database/augmented_clahe_data_randomized'\n",
    "\n",
    "train_data_dir = dataset_base_dir + '/train'\n",
    "validation_data_dir = dataset_base_dir + '/validation'\n",
    "test_data_dir = dataset_base_dir + '/test'"
   ]
  },
  {
   "cell_type": "markdown",
   "metadata": {},
   "source": [
    "### Preprocessing"
   ]
  },
  {
   "cell_type": "code",
   "execution_count": null,
   "metadata": {},
   "outputs": [],
   "source": [
    "## Select Batch size depending on GPUs\n",
    "base_batch = 32  ## This is defined by the user\n",
    "\n",
    "if ngpus>=1:\n",
    "    batch_size = base_batch*ngpus # This can be 2, 4, 8, 16, 32, 64 (is just standard to use 32 per GPU)\n",
    "    print ('Using ' + str(ngpus) + ' GPUs with Batches of ' + str(batch_size) + ' images (' + str(base_batch) + ' images per GPU)')\n",
    "\n",
    "else:\n",
    "    batch_size = base_batch # This can be 2, 4, 8, 16, 32, 64 (is just standard to use 32 per GPU)\n",
    "    print ('Using only CPU...')\n",
    "\n",
    "#Automatically extract the number of classess from the dataset directory structure\n",
    "class_num = len(os.listdir(train_data_dir)) # Our SPL detection model has 6 classes [Background, SkinEdge, Skin, NSPL, NSPLtoFollow, SPL]\n",
    "print ('Classes Inferred from dataset structure: ' + str(class_num))"
   ]
  },
  {
   "cell_type": "markdown",
   "metadata": {},
   "source": [
    "### Using the XCEPTION model to process samples (FIXING DATAGEN STRUCTURE)\n",
    "Basically after training the network will figure out the best final dense layer for our new 6 classes from the many classess that the original VGG16 had (for example Prob_SPL = W1*P_Tiger + W2*P_Boat + W3*P_Iris)"
   ]
  },
  {
   "cell_type": "code",
   "execution_count": null,
   "metadata": {},
   "outputs": [],
   "source": [
    "# Define Epochs and sample sizes \n",
    "epochs = epochs_init\n",
    "train_samples = sum(len(files) for _, _, files in os.walk(train_data_dir)) # Usually 60% of samples of original dataset\n",
    "print ('TRAINING: using ' + str(train_samples) + ' images, belonging to ' + str(class_num) + ' classes.')\n",
    "\n",
    "validation_samples = sum(len(files) for _, _, files in os.walk(validation_data_dir))  # Usually 20% of samples of original dataset\n",
    "print ('VALIDATION: using ' + str(validation_samples) + ' images, belonging to ' + str(class_num) + ' classes.')\n",
    "\n",
    "validation_samples = sum(len(files) for _, _, files in os.walk(validation_data_dir))  # Usually 20% of samples of original dataset\n",
    "print ('TESTING: using ' + str(validation_samples) + ' images, belonging to ' + str(class_num) + ' classes.')"
   ]
  },
  {
   "cell_type": "markdown",
   "metadata": {},
   "source": [
    "#### Now we can load bottleneck weights to Train Top Model :\n",
    "NOTE: You may need to re-start the kernel to keep going here.\n",
    "We generate again the datagen to be categorical"
   ]
  },
  {
   "cell_type": "code",
   "execution_count": null,
   "metadata": {},
   "outputs": [],
   "source": [
    "## Preprocessing here is minimal because we have already created databases as we intend to process to facilitate reproducibility\n",
    "datagen = ImageDataGenerator(rescale=1./255) # Rescale the pixel values from [0, 255] to [0, 1] interval\n",
    "\n",
    "print('TRAINING:', end=\"\"),\n",
    "train_generator_bottleneck = datagen.flow_from_directory(\n",
    "    train_data_dir,\n",
    "    target_size=(img_width, img_height),\n",
    "    batch_size=batch_size,\n",
    "    class_mode='categorical') # keep data in same order as labels\n",
    "\n",
    "print('VALIDATION:', end=\"\"),\n",
    "validation_generator_bottleneck = datagen.flow_from_directory(\n",
    "    validation_data_dir,\n",
    "    target_size=(img_width, img_height),\n",
    "    batch_size=batch_size,\n",
    "    class_mode='categorical',\n",
    "    shuffle=False) # keep data in same order as labels\n",
    "\n",
    "print('TESTING: ', end=\"\"),\n",
    "test_generator_bottleneck = datagen.flow_from_directory(\n",
    "    test_data_dir,\n",
    "    target_size=(img_width, img_height),\n",
    "    batch_size=batch_size,\n",
    "    class_mode='categorical',\n",
    "    shuffle=False) # keep data in same order as labels"
   ]
  },
  {
   "cell_type": "markdown",
   "metadata": {},
   "source": [
    "And define and train the custom fully connected neural network :"
   ]
  },
  {
   "cell_type": "code",
   "execution_count": 9,
   "metadata": {},
   "outputs": [],
   "source": [
    "# ------------------------------------------------------------------------------------------\n",
    "# MODEL DEFINITION: We use a simple convolution layer with a ReLU activation,\n",
    "#                   followed by max-pooling layers and half dropout. Finally all is connected\n",
    "#                   to a dense layer of 6 neurons(each per class) and final probability is\n",
    "#                   achieved using softmax.\n",
    "# ------------------------------------------------------------------------------------------\n",
    "\n",
    "# Instantiate the base model (or \"template\" model).\n",
    "# We recommend doing this with under a CPU device scope,\n",
    "# so that the model's weights are hosted on CPU memory.\n",
    "# Otherwise they may end up hosted on a GPU, which would\n",
    "# complicate weight sharing.\n",
    "# For fine turning, we only want to train a few layers. This line will set the first 15 layers (up to the conv block) to non-trainable.\n",
    "\n",
    "def model_init(display_summary=True):\n",
    "    with tf.device('/cpu:0'):\n",
    "        # Top Model Block\n",
    "        top_layer = GlobalAveragePooling2D()(model_Xception.output)\n",
    "        top_model = Dense(class_num, activation='softmax')(top_layer)\n",
    "\n",
    "        # add your top layer block to your base model\n",
    "        model = Model(model_Xception.input, top_model)\n",
    "\n",
    "        # Uncomment to Visualize layer names and layer indices to see how many layers/blocks to re-train\n",
    "        #for i, layer in enumerate(model.layers):\n",
    "        #    print(i, layer.name)\n",
    "\n",
    "        # first: train only the top layers (which were randomly initialized)\n",
    "        # i.e. freeze all layers of the based model that is already pre-trained.\n",
    "        for layer in model_Xception.layers:\n",
    "            layer.trainable = False\n",
    "            \n",
    "        if display_summary == True:\n",
    "            print (model.summary())\n",
    "            \n",
    "    return model"
   ]
  },
  {
   "cell_type": "code",
   "execution_count": null,
   "metadata": {},
   "outputs": [],
   "source": [
    "# ------------------------------------------------------------------------------------------\n",
    "# MODEL DEFINITION & SUMMARY\n",
    "# ------------------------------------------------------------------------------------------\n",
    "model = model_init(display_summary=True)"
   ]
  },
  {
   "cell_type": "code",
   "execution_count": 11,
   "metadata": {},
   "outputs": [],
   "source": [
    "# Compile Model\n",
    "# -------------------------------------------------------------------------------------------------------------------------------------  \n",
    "\n",
    "# Define Optimizer \n",
    "#   Adam = First-order gradient-based optimization of stochastic objective functions, based on adaptive estimates of lower-order moments. Based on Kingma et al 2014.\n",
    "#   AdaBound:An optimizer that trains as fast as Adam and as good as SGD, Based on Luo et al. (2019). Adaptive Gradient Methods with Dynamic Bound of Learning Rate. In Proc. of ICLR 2019.\n",
    "opt = 'adam'\n",
    "#opt = AdaBound(lr=1e-03,final_lr=0.1,gamma=1e-03,weight_decay=0.,amsbound=False)\n",
    "\n",
    "\n",
    "# Compile CPU Model with loss function and optimizer\n",
    "model.compile(loss='categorical_crossentropy', \n",
    "              optimizer=opt,\n",
    "              metrics=['accuracy'])"
   ]
  },
  {
   "cell_type": "code",
   "execution_count": 13,
   "metadata": {},
   "outputs": [],
   "source": [
    "# Save weights of best training epoch: monitor either val_loss or val_acc\n",
    "checkpoint_file_name = (model_name + '_' + str(epochs_init)+ '_checkpoint_weights.h5')\n",
    "top_weights_path = os.path.join(os.path.abspath(model_path), checkpoint_file_name)\n",
    "\n",
    "callbacks_list = [ModelCheckpoint(top_weights_path, monitor='val_acc', verbose=verbose_init, save_best_only=True, mode='max'),\n",
    "                  EarlyStopping(monitor='val_acc', patience=patience_init, verbose = verbose_init),\n",
    "                  TQDMNotebookCallback()] # Adds Keras integration with TQDM progress bars."
   ]
  },
  {
   "cell_type": "markdown",
   "metadata": {},
   "source": [
    "### Perform Training"
   ]
  },
  {
   "cell_type": "code",
   "execution_count": null,
   "metadata": {},
   "outputs": [],
   "source": [
    "# Train Bottleneck CNN for Transfer Learning (no fine tunning)\n",
    "\n",
    "# -------------------------------------------------------------------------------------------------------------------------------------  \n",
    "\n",
    "#For fine turning, we only want to train a few layers. This line will set the first 15 layers (up to the conv block) to non-trainable.\n",
    "\n",
    "# Check if previous model exist and only train if user accepts to re-write file\n",
    "pre_trained_model_weights_path = (model_path + model_name + '_' + str(epochs)+'_epochs_weights.h5')\n",
    "if os.path.exists(pre_trained_model_weights_path):\n",
    "    # Ask if user wants to re-train model\n",
    "    root = tkinter.Tk()\n",
    "    root.withdraw()\n",
    "    doTrain = messagebox.askyesno('WARNING','Previous ' + model_name + ' model found! Re-train?')\n",
    "    root.destroy()\n",
    "\n",
    "## If training is desired\n",
    "if doTrain==True:\n",
    "    ## Check Parallel computing option (if multiple GPUs are available)\n",
    "    #    Define model for training (CPU, Single GPU or Multi-GPU depending on availability of resources)\n",
    "    if ngpus<=1:\n",
    "        print(\"[INFO] training with Single GPU or CPU...\")\n",
    "        # Train using already compiled CPU model\n",
    "        training_history = model.fit_generator(train_generator_bottleneck,\n",
    "                                               epochs=epochs,\n",
    "                                               verbose = verbose_init, #To control visuals of process bar\n",
    "                                               validation_data=validation_generator_bottleneck,\n",
    "                                               callbacks=callbacks_list,\n",
    "                                               workers=(ncpus-1))\n",
    "\n",
    "    else:\n",
    "        print(\"[INFO] training with {} GPUs...\".format(ngpus))\n",
    "        # Make a parallel version of the CPU model\n",
    "        parallel_model = multi_gpu_model(model, gpus=ngpus)\n",
    "        # Compile Parallel GPU model with loss function and optimizer\n",
    "        parallel_model.compile(loss='categorical_crossentropy',\n",
    "                               optimizer=opt,\n",
    "                               metrics=['accuracy']) \n",
    "\n",
    "        # Train using Parallel GPU model\n",
    "        training_history = parallel_model.fit_generator(train_generator_bottleneck,\n",
    "                                               epochs=epochs,\n",
    "                                               verbose = verbose_init, #To control visuals of process bar\n",
    "                                               validation_data=validation_generator_bottleneck,\n",
    "                                               callbacks=callbacks_list,\n",
    "                                               workers=(ncpus-1))\n",
    "        \n",
    "    # Save training history\n",
    "    with open(model_path + '0_results/TrainingHistory_' + model_name + '_' + str(epochs)+'_epochs', 'wb') as pickle_file:\n",
    "        pickle.dump(training_history.history, pickle_file)"
   ]
  },
  {
   "cell_type": "markdown",
   "metadata": {},
   "source": [
    "#### NOTE: Remember to Click: Widgets >> Save Notebook Widget State\n",
    "-------\n",
    "### Model Training Graphs:"
   ]
  },
  {
   "cell_type": "code",
   "execution_count": null,
   "metadata": {},
   "outputs": [],
   "source": [
    "#Load Training history\n",
    "with open(model_path + '0_results/TrainingHistory_' + model_name + '_' + str(epochs)+'_epochs', 'rb') as pickle_file:\n",
    "    loaded_training_history= pickle.load(pickle_file)        \n",
    "        \n",
    "# List all data in history\n",
    "print('Validation Accuracy per EPOCH: ')\n",
    "print(loaded_training_history.keys())\n",
    "\n",
    "# Summarize history for accuracy\n",
    "plt.plot(loaded_training_history['acc'])\n",
    "plt.plot(loaded_training_history['val_acc'])\n",
    "plt.title('Model Accuracy (' + model_name + ')')\n",
    "plt.ylabel('Accuracy')\n",
    "plt.xlabel('Epoch')\n",
    "plt.legend(['Train', 'Test'], loc='lower right')\n",
    "plt.savefig(model_path + '0_results/ModelAccuracy_' + model_name + '_' + str(epochs)+'_epochs.png', dpi=600, bbox_inches=\"tight\")\n",
    "plt.show()\n",
    "\n",
    "# Summarize history for loss\n",
    "plt.plot(loaded_training_history['loss'])\n",
    "plt.plot(loaded_training_history['val_loss'])\n",
    "plt.title('Model Loss (' + model_name + ')')\n",
    "plt.ylabel('Loss')\n",
    "plt.xlabel('Epoch')\n",
    "plt.legend(['Train', 'Test'], loc='upper right')\n",
    "plt.savefig(model_path + '0_results/ModelLoss_' + model_name + '_' + str(epochs)+'_epochs.png', dpi=600, bbox_inches=\"tight\")\n",
    "plt.show()"
   ]
  },
  {
   "cell_type": "markdown",
   "metadata": {},
   "source": [
    "### Saving Bottleneck XCEPTION model"
   ]
  },
  {
   "cell_type": "code",
   "execution_count": null,
   "metadata": {},
   "outputs": [],
   "source": [
    "# Save model only if trained\n",
    "if doTrain==True:\n",
    "    # Save full model into file\n",
    "    model.save(model_path + model_name + '_' + str(epochs)+'_epochs.h5') # creates a HDF5 file of keras model\n",
    "    print(\"Full model was saved to disk!\")\n",
    "    \n",
    "    # Save model weights into file\n",
    "    model.save_weights(model_path + model_name + '_' + str(epochs)+'_epochs_weights.h5')\n",
    "    print(\"Model weights were saved to disk!\")"
   ]
  },
  {
   "cell_type": "markdown",
   "metadata": {},
   "source": [
    "### Loading of Bottleneck XCEPTION model"
   ]
  },
  {
   "cell_type": "code",
   "execution_count": null,
   "metadata": {},
   "outputs": [],
   "source": [
    "# Initialize model\n",
    "model = model_init(display_summary=False)\n",
    "\n",
    "# Re-Compile model in CPU in case training was done using multi-GPU\n",
    "model.compile(loss='categorical_crossentropy', \n",
    "              optimizer=opt,\n",
    "              metrics=['accuracy'])\n",
    "\n",
    "# Load full  model\n",
    "model = load_model(model_path + model_name + '_' + str(epochs)+'_epochs.h5') #Specify optimizer\n",
    "print(\"Loaded full model with architecture, optimizer and metrics\")\n",
    "\n",
    "# Load weights into model\n",
    "model.load_weights(model_path + model_name + '_' + str(epochs)+'_epochs_weights.h5')\n",
    "print(\"Loaded model weights from disk\")"
   ]
  },
  {
   "cell_type": "markdown",
   "metadata": {},
   "source": [
    "### Bottleneck XCEPTION model evaluation on validation set\n",
    "Computing Loss and accuracy of the BOTTLENECK Model Only:"
   ]
  },
  {
   "cell_type": "code",
   "execution_count": null,
   "metadata": {},
   "outputs": [],
   "source": [
    "print('[Model Loss , Model Accuracy]')\n",
    "#model.evaluate(validation_data, validation_labels)\n",
    "model.evaluate_generator(validation_generator_bottleneck, 100)"
   ]
  },
  {
   "cell_type": "markdown",
   "metadata": {},
   "source": [
    "### Report Results of XCEPTION model evaluation on testing set\n",
    "Computing Loss and accuracy of the BOTTLENECK Model Only:"
   ]
  },
  {
   "cell_type": "code",
   "execution_count": null,
   "metadata": {},
   "outputs": [],
   "source": [
    "print('[Model Loss , Model Accuracy]')\n",
    "test_subsamples = 100 # Select 100-1000 so that it does not take too long\n",
    "model.evaluate_generator(test_generator_bottleneck, test_subsamples)"
   ]
  },
  {
   "cell_type": "markdown",
   "metadata": {},
   "source": [
    "------------------------\n",
    "# ROC / AUC for a categorical multi-class classifier\n",
    "### Code to Plot a Multi-class ROC/AUC\n",
    "\n",
    "Use micro and marco averaging to evaluate the overall performance across all classes.\n",
    "$$\n",
    "precision=PRE=\\frac{TP}\n",
    "{TP+FP}\\\\\n",
    "$$\n",
    " In “micro averaging”, we’d calculate the performance, e.g., precision, from the individual true positives, true negatives, false positives, and false negatives of the the k-class model:\n",
    "$$\n",
    "PRE_{micro}=\\frac{TP_{1}+\\dots+TP_{k}}\n",
    "{TP_{1}+\\dots+TP_{k}+FP_{1}+\\dots+FP_{k}}\\\\\n",
    "$$\n",
    "And in macro-averaging, we average the performances of each individual class:\n",
    "$$\n",
    "PRE_{marco}=\\frac{PRE_{1}+\\dots+PRE_{k}}\n",
    "{k}\\\\\n",
    "$$\n",
    "\n",
    "### -ROC/AUC of Validation Set"
   ]
  },
  {
   "cell_type": "code",
   "execution_count": null,
   "metadata": {},
   "outputs": [],
   "source": [
    "##This is a special code for prediction using Transfer Learning on VGG16\n",
    "\n",
    "# Getting the image filenames(with associated classess)\n",
    "y_fnames = validation_generator_bottleneck.filenames\n",
    "\n",
    "# Getting the ground truth for all the validation images\n",
    "y_true_categorical = validation_generator_bottleneck.classes\n",
    "y_true = (to_categorical(y_true_categorical, num_classes = class_num))\n",
    "\n",
    "# Getting the probability scores for belonging to all classess in tested images\n",
    "y_score = model.predict_generator(validation_generator_bottleneck)\n",
    "\n",
    "# Getting vocabulary or class indices\n",
    "y_indices = (validation_generator_bottleneck.class_indices)\n",
    "y_label_map = dict((v,k) for k,v in y_indices.items())\n",
    "\n",
    "# Getting the predicted category\n",
    "y_predictions = np.argmax(y_score, axis=-1) #multiple categories\n",
    "\n",
    "# Getting predicted category\n",
    "y_predicted_category = [y_label_map[k] for k in y_predictions]\n",
    "\n",
    "# Plot linewidth.\n",
    "lw = 2\n",
    "\n",
    "# Compute ROC curve and ROC area for each class\n",
    "fpr = dict()\n",
    "tpr = dict()\n",
    "roc_auc = dict()\n",
    "for i in range(class_num):\n",
    "    fpr[i], tpr[i], _ = roc_curve(y_true[:, i], y_score[:, i])\n",
    "    roc_auc[i] = auc(fpr[i], tpr[i])\n",
    "\n",
    "# Compute micro-average ROC curve and ROC area\n",
    "fpr[\"micro\"], tpr[\"micro\"], _ = roc_curve(y_true.ravel(), y_score.ravel())\n",
    "roc_auc[\"micro\"] = auc(fpr[\"micro\"], tpr[\"micro\"])\n",
    "\n",
    "# Compute macro-average ROC curve and ROC area\n",
    "\n",
    "# First aggregate all false positive rates\n",
    "all_fpr = np.unique(np.concatenate([fpr[i] for i in range(class_num)]))\n",
    "\n",
    "# Then interpolate all ROC curves at this points\n",
    "mean_tpr = np.zeros_like(all_fpr)\n",
    "for i in range(class_num):\n",
    "    mean_tpr += interp(all_fpr, fpr[i], tpr[i])\n",
    "\n",
    "# Finally average it and compute AUC\n",
    "mean_tpr /= class_num\n",
    "\n",
    "fpr[\"macro\"] = all_fpr\n",
    "tpr[\"macro\"] = mean_tpr\n",
    "roc_auc[\"macro\"] = auc(fpr[\"macro\"], tpr[\"macro\"])\n",
    "\n",
    "# Plot all ROC curves\n",
    "plt.figure(1)\n",
    "plt.plot(fpr[\"micro\"], tpr[\"micro\"],\n",
    "         label='micro-average ROC curve (area = {0:0.2f})'\n",
    "               ''.format(roc_auc[\"micro\"]),\n",
    "         color='deeppink', linestyle=':', linewidth=4)\n",
    "\n",
    "plt.plot(fpr[\"macro\"], tpr[\"macro\"],\n",
    "         label='macro-average ROC curve (area = {0:0.2f})'\n",
    "               ''.format(roc_auc[\"macro\"]),\n",
    "         color='navy', linestyle=':', linewidth=4)\n",
    "\n",
    "colors = cycle(['aqua', 'darkorange', 'cornflowerblue'])\n",
    "for i, color in zip(range(class_num), colors):\n",
    "    plt.plot(fpr[i], tpr[i], color=color, lw=lw,\n",
    "             label='ROC curve of class {0} (area = {1:0.2f})'\n",
    "             ''.format(i, roc_auc[i]))\n",
    "\n",
    "plt.plot([0, 1], [0, 1], 'k--', lw=lw)\n",
    "plt.xlim([0.0, 1.0])\n",
    "plt.ylim([0.0, 1.05])\n",
    "plt.xlabel('False Positive Rate')\n",
    "plt.ylabel('True Positive Rate')\n",
    "plt.title('Receiver operating characteristic (ROC) to Multi-Class Validation Set (' + model_name + ')')\n",
    "plt.legend(bbox_to_anchor=(1.85,0), loc=\"lower right\")\n",
    "plt.savefig(model_path + '0_results/Model' + '_' + model_name + '_' + str(epochs) + '_epochs_ROC_Validation.png', dpi=600, bbox_inches=\"tight\")\n",
    "plt.show()\n",
    "\n",
    "\n",
    "# Zoom in view of the upper left corner.\n",
    "plt.figure(2)\n",
    "plt.xlim(0, 0.2)\n",
    "plt.ylim(0.8, 1)\n",
    "plt.plot(fpr[\"micro\"], tpr[\"micro\"],\n",
    "         label='micro-average ROC curve (area = {0:0.2f})'\n",
    "               ''.format(roc_auc[\"micro\"]),\n",
    "         color='deeppink', linestyle=':', linewidth=4)\n",
    "\n",
    "plt.plot(fpr[\"macro\"], tpr[\"macro\"],\n",
    "         label='macro-average ROC curve (area = {0:0.2f})'\n",
    "               ''.format(roc_auc[\"macro\"]),\n",
    "         color='navy', linestyle=':', linewidth=4)\n",
    "\n",
    "colors = cycle(['aqua', 'darkorange', 'cornflowerblue'])\n",
    "for i, color in zip(range(class_num), colors):\n",
    "    plt.plot(fpr[i], tpr[i], color=color, lw=lw,\n",
    "             label='ROC curve of class {0} (area = {1:0.2f})'\n",
    "             ''.format(i, roc_auc[i]))\n",
    "\n",
    "plt.plot([0, 1], [0, 1], 'k--', lw=lw)\n",
    "plt.xlabel('False Positive Rate')\n",
    "plt.ylabel('True Positive Rate')\n",
    "plt.title('Zoomed ROC to Multi-Class Validation Set (' + model_name + ')')\n",
    "plt.legend(bbox_to_anchor=(1.85,0), loc=\"lower right\")\n",
    "plt.savefig(model_path + '0_results/Model' + '_' + model_name + '_' + str(epochs) + '_epochs_ROC_Zoom_Validation.png', dpi=600, bbox_inches=\"tight\")\n",
    "plt.show()\n",
    "\n",
    "# Record Data\n",
    "v_fpr = fpr\n",
    "v_tpr = tpr"
   ]
  },
  {
   "cell_type": "markdown",
   "metadata": {},
   "source": [
    "### - ROC/AUC of Testing Set"
   ]
  },
  {
   "cell_type": "code",
   "execution_count": null,
   "metadata": {},
   "outputs": [],
   "source": [
    "##This is a special code for prediction using Transfer Learning on VGG16\n",
    "\n",
    "# Getting the image filenames(with associated classess)\n",
    "y_fnames = test_generator_bottleneck.filenames\n",
    "\n",
    "# Getting the ground truth for all the tested images\n",
    "y_true_categorical = test_generator_bottleneck.classes\n",
    "y_true = (to_categorical(y_true_categorical, num_classes = class_num))\n",
    "\n",
    "# use the bottleneck prediction on the top model to get the final\n",
    "# Getting the probability scores for belonging to all classess in tested images\n",
    "y_score = model.predict_generator(test_generator_bottleneck)\n",
    "\n",
    "# Getting vocabulary or class indices\n",
    "y_indices = (test_generator_bottleneck.class_indices)\n",
    "y_label_map = dict((v,k) for k,v in y_indices.items())\n",
    "\n",
    "# Getting the predicted category\n",
    "y_predictions = np.argmax(y_score, axis=-1) #multiple categories\n",
    "\n",
    "# Getting predicted category\n",
    "y_predicted_category = [y_label_map[k] for k in y_predictions]\n",
    "\n",
    "# Plot linewidth.\n",
    "lw = 2\n",
    "\n",
    "# Compute ROC curve and ROC area for each class\n",
    "fpr = dict()\n",
    "tpr = dict()\n",
    "roc_auc = dict()\n",
    "for i in range(class_num):\n",
    "    fpr[i], tpr[i], _ = roc_curve(y_true[:, i], y_score[:, i])\n",
    "    roc_auc[i] = auc(fpr[i], tpr[i])\n",
    "\n",
    "# Compute micro-average ROC curve and ROC area\n",
    "fpr[\"micro\"], tpr[\"micro\"], _ = roc_curve(y_true.ravel(), y_score.ravel())\n",
    "roc_auc[\"micro\"] = auc(fpr[\"micro\"], tpr[\"micro\"])\n",
    "\n",
    "# Compute macro-average ROC curve and ROC area\n",
    "\n",
    "# First aggregate all false positive rates\n",
    "all_fpr = np.unique(np.concatenate([fpr[i] for i in range(class_num)]))\n",
    "\n",
    "# Then interpolate all ROC curves at this points\n",
    "mean_tpr = np.zeros_like(all_fpr)\n",
    "for i in range(class_num):\n",
    "    mean_tpr += interp(all_fpr, fpr[i], tpr[i])\n",
    "\n",
    "# Finally average it and compute AUC\n",
    "mean_tpr /= class_num\n",
    "\n",
    "fpr[\"macro\"] = all_fpr\n",
    "tpr[\"macro\"] = mean_tpr\n",
    "roc_auc[\"macro\"] = auc(fpr[\"macro\"], tpr[\"macro\"])\n",
    "\n",
    "# Plot all ROC curves\n",
    "plt.figure(1)\n",
    "plt.plot(fpr[\"micro\"], tpr[\"micro\"],\n",
    "         label='micro-average ROC curve (area = {0:0.2f})'\n",
    "               ''.format(roc_auc[\"micro\"]),\n",
    "         color='deeppink', linestyle=':', linewidth=4)\n",
    "\n",
    "plt.plot(fpr[\"macro\"], tpr[\"macro\"],\n",
    "         label='macro-average ROC curve (area = {0:0.2f})'\n",
    "               ''.format(roc_auc[\"macro\"]),\n",
    "         color='navy', linestyle=':', linewidth=4)\n",
    "\n",
    "colors = cycle(['aqua', 'darkorange', 'cornflowerblue'])\n",
    "for i, color in zip(range(class_num), colors):\n",
    "    plt.plot(fpr[i], tpr[i], color=color, lw=lw,\n",
    "             label='ROC curve of class {0} (area = {1:0.2f})'\n",
    "             ''.format(i, roc_auc[i]))\n",
    "\n",
    "plt.plot([0, 1], [0, 1], 'k--', lw=lw)\n",
    "plt.xlim([0.0, 1.0])\n",
    "plt.ylim([0.0, 1.05])\n",
    "plt.xlabel('False Positive Rate')\n",
    "plt.ylabel('True Positive Rate')\n",
    "plt.title('Receiver operating characteristic (ROC) to Multi-Class Testing Set (' + model_name + ')')\n",
    "plt.legend(bbox_to_anchor=(1.85,0), loc=\"lower right\")\n",
    "plt.savefig(model_path + '0_results/Model' + '_' + model_name + '_' + str(epochs) + '_epochs_ROC_Testing.png', dpi=600)\n",
    "plt.show()\n",
    "\n",
    "\n",
    "# Zoom in view of the upper left corner.\n",
    "plt.figure(2)\n",
    "plt.xlim(0, 0.2)\n",
    "plt.ylim(0.8, 1)\n",
    "plt.plot(fpr[\"micro\"], tpr[\"micro\"],\n",
    "         label='micro-average ROC curve (area = {0:0.2f})'\n",
    "               ''.format(roc_auc[\"micro\"]),\n",
    "         color='deeppink', linestyle=':', linewidth=4)\n",
    "\n",
    "plt.plot(fpr[\"macro\"], tpr[\"macro\"],\n",
    "         label='macro-average ROC curve (area = {0:0.2f})'\n",
    "               ''.format(roc_auc[\"macro\"]),\n",
    "         color='navy', linestyle=':', linewidth=4)\n",
    "\n",
    "colors = cycle(['aqua', 'darkorange', 'cornflowerblue'])\n",
    "for i, color in zip(range(class_num), colors):\n",
    "    plt.plot(fpr[i], tpr[i], color=color, lw=lw,\n",
    "             label='ROC curve of class {0} (area = {1:0.2f})'\n",
    "             ''.format(i, roc_auc[i]))\n",
    "\n",
    "plt.plot([0, 1], [0, 1], 'k--', lw=lw)\n",
    "plt.xlabel('False Positive Rate')\n",
    "plt.ylabel('True Positive Rate')\n",
    "plt.title('Zoomed ROC to Multi-Class Testing Set (' + model_name + ')')\n",
    "plt.legend(bbox_to_anchor=(1.85,0), loc=\"lower right\")\n",
    "plt.savefig(model_path + '0_results/Model' + '_' + model_name + '_' + str(epochs) + '_epochs_ROC_Zoom_Testing.png', dpi=600)\n",
    "plt.show()\n",
    "\n",
    "# Record Data\n",
    "t_fpr = fpr\n",
    "t_tpr = tpr"
   ]
  },
  {
   "cell_type": "code",
   "execution_count": null,
   "metadata": {},
   "outputs": [],
   "source": [
    "## SAVE REPORTING DATA FOR PUBLICATIONS\n",
    "\n",
    "# Imports\n",
    "import pandas as pd\n",
    "\n",
    "# -----------------------------------------------------------------------------------\n",
    "# Helper function to save raw data to files\n",
    "def save_data_to_excel(data_path, df):\n",
    "    # Create a Pandas Excel writer using XlsxWriter as the engine.\n",
    "    writer = pd.ExcelWriter(data_path, engine='xlsxwriter')\n",
    "\n",
    "    # Convert the dataframe to an XlsxWriter Excel object\n",
    "    df.to_excel(writer, sheet_name='Sheet1', startrow=1, header=False)\n",
    "\n",
    "    # Get the xlsxwriter workbook and worksheet objects.\n",
    "    workbook  = writer.book\n",
    "    worksheet = writer.sheets['Sheet1']\n",
    "\n",
    "    # Add a header format.\n",
    "    header_format = workbook.add_format({\n",
    "        'bold': True,\n",
    "        'text_wrap': True,\n",
    "        'valign': 'top',\n",
    "        'fg_color': '#D7E4BC',\n",
    "        'border': 1})\n",
    "\n",
    "    # Write the column headers with the defined format.\n",
    "    for col_num, value in enumerate(df.columns.values):\n",
    "        worksheet.write(0, col_num + 1, value, header_format)\n",
    "\n",
    "    # Close the Pandas Excel writer and output the Excel file.\n",
    "    writer.save()\n",
    "    \n",
    "    # Message\n",
    "    print('Data saved to: ' + str(data_path))\n",
    "    \n",
    "    return writer\n",
    "\n",
    "\n",
    "# SAVING DATA\n",
    "# -----------------------------------------------------------------------------------\n",
    "\n",
    "# History Data\n",
    "# Define path to save raw model training/testing data\n",
    "history_data_path = model_path + '0_results/data_bottleneck/' + 'model_history.xlsx'\n",
    "\n",
    "# Define dataframe to put in excel file\n",
    "df_training_history = pd.DataFrame({'Training Accuracy': loaded_training_history['acc'],\n",
    "                                    'Validation Accuracy': loaded_training_history['val_acc'],\n",
    "                                    'Training Loss': loaded_training_history['loss'],\n",
    "                                    'Validation Loss': loaded_training_history['val_loss']})\n",
    "\n",
    "# Save training/testing data to file\n",
    "save_data_to_excel(history_data_path, df_training_history)\n",
    "\n",
    "\n",
    "# ROC Curve Data\n",
    "# Define path to save raw model ROCs\n",
    "roc_data_base_path = model_path + '0_results/data_bottleneck/' + 'data_'\n",
    "\n",
    "# Define dataframe to put in excel file\n",
    "\n",
    "## VALIDATION\n",
    "# Validation FPR\n",
    "d = {'Background': v_fpr[0],\n",
    "    'Skin Edge': v_fpr[1],\n",
    "    'Skin': v_fpr[2],\n",
    "    'NSPL-A': v_fpr[3],\n",
    "    'NSPL-B': v_fpr[4],\n",
    "    'SPL': v_fpr[5],\n",
    "    'Micro': v_fpr['micro'],\n",
    "    'Macro': v_fpr['macro']}\n",
    "\n",
    "df_test_ROCs_val_fpr = pd.DataFrame(dict([(k,pd.Series(v)) for k,v in d.items()]))\n",
    "\n",
    "\n",
    "# Validation TPR\n",
    "d = {'Background': v_tpr[0],\n",
    "    'Skin Edge': v_tpr[1],\n",
    "    'Skin': v_tpr[2],\n",
    "    'NSPL-A': v_tpr[3],\n",
    "    'NSPL-B': v_tpr[4],\n",
    "    'SPL': v_tpr[5],\n",
    "    'Micro': v_tpr['micro'],\n",
    "    'Macro': v_tpr['macro']}\n",
    "\n",
    "df_test_ROCs_val_tpr = pd.DataFrame(dict([(k,pd.Series(v)) for k,v in d.items()]))\n",
    "\n",
    "\n",
    "# Validation AUCs\n",
    "d = {'Background': auc(v_fpr[0], v_tpr[0]),\n",
    "    'Skin Edge': auc(v_fpr[1], v_tpr[1]),\n",
    "    'Skin': auc(v_fpr[2], v_tpr[2]),\n",
    "    'NSPL-A': auc(v_fpr[3], v_tpr[3]),\n",
    "    'NSPL-B': auc(v_fpr[4], v_tpr[4]),\n",
    "    'SPL': auc(v_fpr[5], v_tpr[5]),\n",
    "    'Micro': auc(v_fpr['micro'], v_tpr['micro']),\n",
    "    'Macro': auc(v_fpr['macro'], v_tpr['macro'])}\n",
    "\n",
    "df_test_ROCs_val_auc = pd.DataFrame(dict([(k,pd.Series(v)) for k,v in d.items()]))\n",
    "\n",
    "\n",
    "## TESTING\n",
    "# Testing FPR\n",
    "d = {'Background': t_fpr[0],\n",
    "    'Skin Edge': t_fpr[1],\n",
    "    'Skin': t_fpr[2],\n",
    "    'NSPL-A': t_fpr[3],\n",
    "    'NSPL-B': t_fpr[4],\n",
    "    'SPL': t_fpr[5],\n",
    "    'Micro': t_fpr['micro'],\n",
    "    'Macro': t_fpr['macro']}\n",
    "\n",
    "df_test_ROCs_test_fpr = pd.DataFrame(dict([(k,pd.Series(v)) for k,v in d.items()]))\n",
    "\n",
    "\n",
    "# Testing TPR\n",
    "d = {'Background': t_tpr[0],\n",
    "    'Skin Edge': t_tpr[1],\n",
    "    'Skin': t_tpr[2],\n",
    "    'NSPL-A': t_tpr[3],\n",
    "    'NSPL-B': t_tpr[4],\n",
    "    'SPL': t_tpr[5],\n",
    "    'Micro': t_tpr['micro'],\n",
    "    'Macro': t_tpr['macro']}\n",
    "\n",
    "df_test_ROCs_test_tpr = pd.DataFrame(dict([(k,pd.Series(v)) for k,v in d.items()]))\n",
    "\n",
    "\n",
    "# Testing AUCs\n",
    "d = {'Background': auc(t_fpr[0], t_tpr[0]),\n",
    "    'Skin Edge': auc(t_fpr[1], t_tpr[1]),\n",
    "    'Skin': auc(t_fpr[2], t_tpr[2]),\n",
    "    'NSPL-A': auc(t_fpr[3], t_tpr[3]),\n",
    "    'NSPL-B': auc(t_fpr[4], t_tpr[4]),\n",
    "    'SPL': auc(t_fpr[5], t_tpr[5]),\n",
    "    'Micro': auc(t_fpr['micro'], t_tpr['micro']),\n",
    "    'Macro': auc(t_fpr['macro'], t_tpr['macro'])}\n",
    "\n",
    "df_test_ROCs_test_auc = pd.DataFrame(dict([(k,pd.Series(v)) for k,v in d.items()]))\n",
    "\n",
    "\n",
    "\n",
    "# Save training/testing data to file\n",
    "save_data_to_excel(roc_data_base_path + 'val_fpr.xlsx', df_test_ROCs_val_fpr)\n",
    "save_data_to_excel(roc_data_base_path + 'val_tpr.xlsx', df_test_ROCs_val_tpr)\n",
    "save_data_to_excel(roc_data_base_path + 'val_auc.xlsx', df_test_ROCs_val_auc)\n",
    "\n",
    "save_data_to_excel(roc_data_base_path + 'test_fpr.xlsx', df_test_ROCs_test_fpr)\n",
    "save_data_to_excel(roc_data_base_path + 'test_tpr.xlsx', df_test_ROCs_test_tpr)\n",
    "save_data_to_excel(roc_data_base_path + 'test_auc.xlsx', df_test_ROCs_test_auc)"
   ]
  },
  {
   "cell_type": "markdown",
   "metadata": {},
   "source": [
    "------------------------------------------------------------\n",
    "### End of code"
   ]
  }
 ],
 "metadata": {
  "anaconda-cloud": {},
  "kernelspec": {
   "display_name": "Python 3",
   "language": "python",
   "name": "python3"
  },
  "language_info": {
   "codemirror_mode": {
    "name": "ipython",
    "version": 3
   },
   "file_extension": ".py",
   "mimetype": "text/x-python",
   "name": "python",
   "nbconvert_exporter": "python",
   "pygments_lexer": "ipython3",
   "version": "3.7.4"
  },
  "widgets": {
   "application/vnd.jupyter.widget-state+json": {
    "state": {
     "0022c88f01b84c869a78151660aa6a2a": {
      "model_module": "@jupyter-widgets/base",
      "model_module_version": "1.0.0",
      "model_name": "LayoutModel",
      "state": {}
     },
     "01e274c9f39d4c698738fbffab75b222": {
      "model_module": "@jupyter-widgets/controls",
      "model_module_version": "1.2.0",
      "model_name": "HTMLModel",
      "state": {
       "layout": "IPY_MODEL_57573e920587492cbb5361958ea8fd3b",
       "style": "IPY_MODEL_88b602f6f31d43d99c609eb802f8c105",
       "value": "[loss: 0.436, acc: 0.837, val_loss: 0.382, val_acc: 0.862] : 100% 20694/20694 [00:10&lt;00:00, 187.10it/s]"
      }
     },
     "01f1af5d28bc4194b90f82b33198ab29": {
      "model_module": "@jupyter-widgets/base",
      "model_module_version": "1.0.0",
      "model_name": "LayoutModel",
      "state": {}
     },
     "027c1caf61084364b53686328c26b021": {
      "model_module": "@jupyter-widgets/controls",
      "model_module_version": "1.2.0",
      "model_name": "ProgressStyleModel",
      "state": {
       "description_width": ""
      }
     },
     "028ed9ff78c24ef5a6a86b245ca69181": {
      "model_module": "@jupyter-widgets/controls",
      "model_module_version": "1.2.0",
      "model_name": "HTMLModel",
      "state": {
       "layout": "IPY_MODEL_a7585afd215c466bb0d2fe5063051fde",
       "style": "IPY_MODEL_1b097b76f33e449b9b3462847df54ba0",
       "value": "[loss: 0.363, acc: 0.866, val_loss: 0.344, val_acc: 0.876] : 100% 20694/20694 [00:10&lt;00:00, 445.94it/s]"
      }
     },
     "02b53e94533f470982743f5027fc846f": {
      "model_module": "@jupyter-widgets/base",
      "model_module_version": "1.0.0",
      "model_name": "LayoutModel",
      "state": {}
     },
     "03e6989d966f4d5d8af2d1603bf89e56": {
      "model_module": "@jupyter-widgets/base",
      "model_module_version": "1.0.0",
      "model_name": "LayoutModel",
      "state": {}
     },
     "041777a5d2054caaa65f20bfd88c8007": {
      "model_module": "@jupyter-widgets/base",
      "model_module_version": "1.0.0",
      "model_name": "LayoutModel",
      "state": {}
     },
     "044e00f761404f698dfe6034e833da6b": {
      "model_module": "@jupyter-widgets/base",
      "model_module_version": "1.0.0",
      "model_name": "LayoutModel",
      "state": {}
     },
     "048d8c23e81749fea4fb5628aaf16bc5": {
      "model_module": "@jupyter-widgets/base",
      "model_module_version": "1.0.0",
      "model_name": "LayoutModel",
      "state": {}
     },
     "050559b88ccb4194b78dda8fd7414036": {
      "model_module": "@jupyter-widgets/controls",
      "model_module_version": "1.2.0",
      "model_name": "IntProgressModel",
      "state": {
       "bar_style": "danger",
       "description": "Training",
       "layout": "IPY_MODEL_a8d541559cb94678b08605f8c6b6296e",
       "max": 30,
       "style": "IPY_MODEL_3779fd7ba91b41ab878271b9f6c3b5de",
       "value": 6
      }
     },
     "0520c86265a74774ab84eee6a0ed442c": {
      "model_module": "@jupyter-widgets/base",
      "model_module_version": "1.0.0",
      "model_name": "LayoutModel",
      "state": {}
     },
     "0528411f11014c32aad0b3afd9c1d82c": {
      "model_module": "@jupyter-widgets/controls",
      "model_module_version": "1.2.0",
      "model_name": "HTMLModel",
      "state": {
       "layout": "IPY_MODEL_44471e04a67f4e7fadbcbe210e31696a",
       "style": "IPY_MODEL_e3a0dbc2458548c49239f5b6d43257bf",
       "value": " 60% 18/30 [03:07&lt;02:03, 10.31s/it]"
      }
     },
     "0567fbf6fcda4e589127db0628c986f1": {
      "model_module": "@jupyter-widgets/base",
      "model_module_version": "1.0.0",
      "model_name": "LayoutModel",
      "state": {}
     },
     "0581b1115e17430bb76cf227a6b52337": {
      "model_module": "@jupyter-widgets/base",
      "model_module_version": "1.0.0",
      "model_name": "LayoutModel",
      "state": {}
     },
     "05b5ef88fedd4d028516beee020c04e8": {
      "model_module": "@jupyter-widgets/controls",
      "model_module_version": "1.2.0",
      "model_name": "IntProgressModel",
      "state": {
       "description": "Epoch 5",
       "layout": "IPY_MODEL_0b759c3175884ecf95440c010dec92c4",
       "max": 20694,
       "style": "IPY_MODEL_dbf036a2438e4772b48e170f382fa5ae",
       "value": 20694
      }
     },
     "0710eb7bd78841cba23d83513c246f5f": {
      "model_module": "@jupyter-widgets/controls",
      "model_module_version": "1.2.0",
      "model_name": "DescriptionStyleModel",
      "state": {
       "description_width": ""
      }
     },
     "0741171a65f64aff9291851e912c599e": {
      "model_module": "@jupyter-widgets/base",
      "model_module_version": "1.0.0",
      "model_name": "LayoutModel",
      "state": {}
     },
     "07eb9db35ee34cc4a8b5da3e3ec52841": {
      "model_module": "@jupyter-widgets/controls",
      "model_module_version": "1.2.0",
      "model_name": "DescriptionStyleModel",
      "state": {
       "description_width": ""
      }
     },
     "081440dba59746c18c11e7098636ade8": {
      "model_module": "@jupyter-widgets/controls",
      "model_module_version": "1.2.0",
      "model_name": "IntProgressModel",
      "state": {
       "description": "Epoch 4",
       "layout": "IPY_MODEL_c331c96e36fb4aa8ac0a1753ba633bd7",
       "max": 20694,
       "style": "IPY_MODEL_33cbaa1138364ee9bcfafd7dcebb529f",
       "value": 20694
      }
     },
     "08318f2fa7fd4b2d9ab728565a1480f7": {
      "model_module": "@jupyter-widgets/controls",
      "model_module_version": "1.2.0",
      "model_name": "ProgressStyleModel",
      "state": {
       "description_width": ""
      }
     },
     "0999cf1cc5fd45abb04601286a29f74f": {
      "model_module": "@jupyter-widgets/controls",
      "model_module_version": "1.2.0",
      "model_name": "HTMLModel",
      "state": {
       "layout": "IPY_MODEL_f30d355ed0684e6db5cbba961e192143",
       "style": "IPY_MODEL_b84c6fd78e394d3589a8adc7eefad1a5",
       "value": "[loss: 0.353, acc: 0.870, val_loss: 0.359, val_acc: 0.873] : 100% 20694/20694 [00:10&lt;00:00, 473.15it/s]"
      }
     },
     "09a286cecf60432aaf71c74d988f784b": {
      "model_module": "@jupyter-widgets/base",
      "model_module_version": "1.0.0",
      "model_name": "LayoutModel",
      "state": {}
     },
     "0a178f4b9634415c98a8dc23f96aaa1f": {
      "model_module": "@jupyter-widgets/controls",
      "model_module_version": "1.2.0",
      "model_name": "DescriptionStyleModel",
      "state": {
       "description_width": ""
      }
     },
     "0a42667557d249d4a3bcfec70e02c7db": {
      "model_module": "@jupyter-widgets/base",
      "model_module_version": "1.0.0",
      "model_name": "LayoutModel",
      "state": {}
     },
     "0a8007af21df41e7b30608fa74e6bcd5": {
      "model_module": "@jupyter-widgets/base",
      "model_module_version": "1.0.0",
      "model_name": "LayoutModel",
      "state": {}
     },
     "0b512993eaa841adaf1f3afc60a3caf1": {
      "model_module": "@jupyter-widgets/controls",
      "model_module_version": "1.2.0",
      "model_name": "HTMLModel",
      "state": {
       "layout": "IPY_MODEL_fae51d5d6fc648309e7156440160ba70",
       "style": "IPY_MODEL_9352e5db7ded45bda9e11cb29363b09d",
       "value": "[loss: 0.575, acc: 0.783, val_loss: 0.463, val_acc: 0.831] : 100% 20694/20694 [00:10&lt;00:00, 368.22it/s]"
      }
     },
     "0b759c3175884ecf95440c010dec92c4": {
      "model_module": "@jupyter-widgets/base",
      "model_module_version": "1.0.0",
      "model_name": "LayoutModel",
      "state": {}
     },
     "0b9d1b32381a4ee89477fefd81310871": {
      "model_module": "@jupyter-widgets/controls",
      "model_module_version": "1.2.0",
      "model_name": "DescriptionStyleModel",
      "state": {
       "description_width": ""
      }
     },
     "0bbf4010159e4b5fba49ba5151b9f1f0": {
      "model_module": "@jupyter-widgets/base",
      "model_module_version": "1.0.0",
      "model_name": "LayoutModel",
      "state": {}
     },
     "0be9b4558c4540288f66de9fa2b3a9d2": {
      "model_module": "@jupyter-widgets/base",
      "model_module_version": "1.0.0",
      "model_name": "LayoutModel",
      "state": {}
     },
     "0c71ca8d55b9469793059c0051a9a6f2": {
      "model_module": "@jupyter-widgets/controls",
      "model_module_version": "1.2.0",
      "model_name": "HTMLModel",
      "state": {
       "layout": "IPY_MODEL_46cfc85bea654dfab1cbe392e4182a2d",
       "style": "IPY_MODEL_73077712dafd4fd39b04ae290e6ea57b",
       "value": "[loss: 0.472, acc: 0.824, val_loss: 0.399, val_acc: 0.849] : 100% 20694/20694 [00:10&lt;00:00, 369.62it/s]"
      }
     },
     "0c9a26a877494a65a50f492842b1ded6": {
      "model_module": "@jupyter-widgets/controls",
      "model_module_version": "1.2.0",
      "model_name": "DescriptionStyleModel",
      "state": {
       "description_width": ""
      }
     },
     "0cc6037ffde745a78aa3873733c39358": {
      "model_module": "@jupyter-widgets/controls",
      "model_module_version": "1.2.0",
      "model_name": "DescriptionStyleModel",
      "state": {
       "description_width": ""
      }
     },
     "0cdc3fad09d84170b1468b6c9dec2826": {
      "model_module": "@jupyter-widgets/base",
      "model_module_version": "1.0.0",
      "model_name": "LayoutModel",
      "state": {}
     },
     "0d27072e055f43ebaab5cf8463d7bbdf": {
      "model_module": "@jupyter-widgets/base",
      "model_module_version": "1.0.0",
      "model_name": "LayoutModel",
      "state": {}
     },
     "0d5f9df0ab804eec96aacb53ddfa2066": {
      "model_module": "@jupyter-widgets/controls",
      "model_module_version": "1.2.0",
      "model_name": "DescriptionStyleModel",
      "state": {
       "description_width": ""
      }
     },
     "0d6ccb3d72ae4fe7a559934f63482c24": {
      "model_module": "@jupyter-widgets/controls",
      "model_module_version": "1.2.0",
      "model_name": "IntProgressModel",
      "state": {
       "description": "Epoch 5",
       "layout": "IPY_MODEL_2d810d9d300146939d103a0e4dbe8c15",
       "max": 20694,
       "style": "IPY_MODEL_7d0d0a927d3147999ee6021c26e56e36",
       "value": 20694
      }
     },
     "0de250d8f7be4dbd88bf142ec7096c59": {
      "model_module": "@jupyter-widgets/controls",
      "model_module_version": "1.2.0",
      "model_name": "IntProgressModel",
      "state": {
       "description": "Epoch 3",
       "layout": "IPY_MODEL_ff0ce6ea50e345b1b09bd2babb5e6560",
       "max": 20694,
       "style": "IPY_MODEL_d3c1ade10b574d3ab36fa52140fc76bf",
       "value": 20694
      }
     },
     "0e798750e12c4fb9bc2b2cffc04ba4a6": {
      "model_module": "@jupyter-widgets/controls",
      "model_module_version": "1.2.0",
      "model_name": "HBoxModel",
      "state": {
       "children": [
        "IPY_MODEL_242a2c9b18814ee78b057cb4c1eb24ea",
        "IPY_MODEL_99253797075f47ba917695ab25b73049"
       ],
       "layout": "IPY_MODEL_a525e16ba5424d0ca17134cc28c0fec4"
      }
     },
     "0ea49625fcde419a898311e385b81483": {
      "model_module": "@jupyter-widgets/base",
      "model_module_version": "1.0.0",
      "model_name": "LayoutModel",
      "state": {}
     },
     "0eb06a63ae51465a8bd5a7af9c54d2d1": {
      "model_module": "@jupyter-widgets/base",
      "model_module_version": "1.0.0",
      "model_name": "LayoutModel",
      "state": {}
     },
     "0eb823f5c9a94ffa8bc5e96de302f887": {
      "model_module": "@jupyter-widgets/base",
      "model_module_version": "1.0.0",
      "model_name": "LayoutModel",
      "state": {}
     },
     "0f9b98213f7d455ca80adea27a778820": {
      "model_module": "@jupyter-widgets/controls",
      "model_module_version": "1.2.0",
      "model_name": "IntProgressModel",
      "state": {
       "description": "Epoch 0",
       "layout": "IPY_MODEL_9fc700ae56e8486eb4dd8680e3d0c1ee",
       "max": 20694,
       "style": "IPY_MODEL_369ea786e16e47c097a34a11d497bd7a",
       "value": 20694
      }
     },
     "0fde10a7e372402499f40260c27ac492": {
      "model_module": "@jupyter-widgets/base",
      "model_module_version": "1.0.0",
      "model_name": "LayoutModel",
      "state": {}
     },
     "0fe3bd53c65d4f44b43cc25ebc59886e": {
      "model_module": "@jupyter-widgets/base",
      "model_module_version": "1.0.0",
      "model_name": "LayoutModel",
      "state": {}
     },
     "11350d3fbd694d14af3f7a1b1abdbddd": {
      "model_module": "@jupyter-widgets/controls",
      "model_module_version": "1.2.0",
      "model_name": "DescriptionStyleModel",
      "state": {
       "description_width": ""
      }
     },
     "1143fd48a3164ea3bfc917023e833a5c": {
      "model_module": "@jupyter-widgets/base",
      "model_module_version": "1.0.0",
      "model_name": "LayoutModel",
      "state": {}
     },
     "117849e5ca6d474e816ffbb2807a121e": {
      "model_module": "@jupyter-widgets/base",
      "model_module_version": "1.0.0",
      "model_name": "LayoutModel",
      "state": {}
     },
     "11ee6cbae1f64c5f9a327f65031f09cd": {
      "model_module": "@jupyter-widgets/controls",
      "model_module_version": "1.2.0",
      "model_name": "DescriptionStyleModel",
      "state": {
       "description_width": ""
      }
     },
     "124c041739f64d1fbeda6ac0c44c046d": {
      "model_module": "@jupyter-widgets/controls",
      "model_module_version": "1.2.0",
      "model_name": "HBoxModel",
      "state": {
       "children": [
        "IPY_MODEL_21c77729cadb40bbad344f755b442cda",
        "IPY_MODEL_8ee983b7816944608ba942d88f444d66"
       ],
       "layout": "IPY_MODEL_36cdfa88c9194ea6ade4b68d8a5352a8"
      }
     },
     "12cc8b13c3f54f208410e92b8a6bf58a": {
      "model_module": "@jupyter-widgets/base",
      "model_module_version": "1.0.0",
      "model_name": "LayoutModel",
      "state": {}
     },
     "12ccc64e27284f08bb884e7c8e057c7e": {
      "model_module": "@jupyter-widgets/base",
      "model_module_version": "1.0.0",
      "model_name": "LayoutModel",
      "state": {}
     },
     "12e57d86d24f4546a887b06956162350": {
      "model_module": "@jupyter-widgets/controls",
      "model_module_version": "1.2.0",
      "model_name": "HTMLModel",
      "state": {
       "layout": "IPY_MODEL_ebe1936a4e9f48ed8a0f43e3fee5a8eb",
       "style": "IPY_MODEL_3834387d9f20435c9e950f6801de271d",
       "value": " 20% 6/30 [35:53&lt;2:23:44, 359.35s/it]"
      }
     },
     "1383033774ce43a299b46b485e60483c": {
      "model_module": "@jupyter-widgets/base",
      "model_module_version": "1.0.0",
      "model_name": "LayoutModel",
      "state": {}
     },
     "13d3ef13d40f432a9f6c982dc7bfa976": {
      "model_module": "@jupyter-widgets/base",
      "model_module_version": "1.0.0",
      "model_name": "LayoutModel",
      "state": {}
     },
     "148f9810e8b84a9185f167c2ac006cab": {
      "model_module": "@jupyter-widgets/controls",
      "model_module_version": "1.2.0",
      "model_name": "ProgressStyleModel",
      "state": {
       "description_width": ""
      }
     },
     "14b5a36e78c54b71ba1ce4b282b5b953": {
      "model_module": "@jupyter-widgets/controls",
      "model_module_version": "1.2.0",
      "model_name": "HTMLModel",
      "state": {
       "layout": "IPY_MODEL_f1d9b2383f554406b13072e7c8a7244d",
       "style": "IPY_MODEL_e9f09c368acc4f789a51e1841662a52e",
       "value": "[loss: 0.362, acc: 0.864, val_loss: 0.370, val_acc: 0.872] : 100% 20694/20694 [00:10&lt;00:00, 613.15it/s]"
      }
     },
     "14e40289635640748035d2f1a5e7cdca": {
      "model_module": "@jupyter-widgets/controls",
      "model_module_version": "1.2.0",
      "model_name": "HTMLModel",
      "state": {
       "layout": "IPY_MODEL_1ee40f781d7d4bbfb3adc37a72425b26",
       "style": "IPY_MODEL_bac37a7532894d82923e0b45fd85131d",
       "value": "[loss: 0.392, acc: 0.859, val_loss: 0.829, val_acc: 0.684] : 100% 349/349 [05:14&lt;00:00, 27.92s/it]"
      }
     },
     "1533e313e1b04c9b9c6d1ecca28f0b7a": {
      "model_module": "@jupyter-widgets/controls",
      "model_module_version": "1.2.0",
      "model_name": "DescriptionStyleModel",
      "state": {
       "description_width": ""
      }
     },
     "159fd69dd9d0460b83f8d3a26cfab65a": {
      "model_module": "@jupyter-widgets/controls",
      "model_module_version": "1.2.0",
      "model_name": "HTMLModel",
      "state": {
       "layout": "IPY_MODEL_0cdc3fad09d84170b1468b6c9dec2826",
       "style": "IPY_MODEL_3318796b7d5d43ea9248e9ad33b1dffd",
       "value": "  0% 0/30 [00:00&lt;?, ?it/s]"
      }
     },
     "15cdffc54c25473e84c95cf55e4a5ff7": {
      "model_module": "@jupyter-widgets/controls",
      "model_module_version": "1.2.0",
      "model_name": "IntProgressModel",
      "state": {
       "description": "Epoch 14",
       "layout": "IPY_MODEL_f5d222fcd5af44659d77cc76af216057",
       "max": 20694,
       "style": "IPY_MODEL_b174eb646dc348c48ccf4aa64a06ff1a",
       "value": 20694
      }
     },
     "16a08707f7f64e5697b67afa68410820": {
      "model_module": "@jupyter-widgets/base",
      "model_module_version": "1.0.0",
      "model_name": "LayoutModel",
      "state": {}
     },
     "16a5f1b9b1f44d82b2f4f7136a7f9245": {
      "model_module": "@jupyter-widgets/controls",
      "model_module_version": "1.2.0",
      "model_name": "ProgressStyleModel",
      "state": {
       "description_width": ""
      }
     },
     "17b78857818b495c992dcf79dae2a8c4": {
      "model_module": "@jupyter-widgets/controls",
      "model_module_version": "1.2.0",
      "model_name": "HTMLModel",
      "state": {
       "layout": "IPY_MODEL_e92c8b6684164842ae50a2c16589bba5",
       "style": "IPY_MODEL_9d5312e2d14941979fddbec36074c011",
       "value": "[loss: 0.370, acc: 0.868, val_loss: 0.796, val_acc: 0.716] : 100% 324/324 [04:36&lt;00:00, 24.49s/it]"
      }
     },
     "182cf1c557d548d1966ee5deb7ce085e": {
      "model_module": "@jupyter-widgets/base",
      "model_module_version": "1.0.0",
      "model_name": "LayoutModel",
      "state": {}
     },
     "18b278bc67814519ae6d5ae3aca56a81": {
      "model_module": "@jupyter-widgets/controls",
      "model_module_version": "1.2.0",
      "model_name": "HTMLModel",
      "state": {
       "layout": "IPY_MODEL_e1836d4f0ba4427e8d5923118423aa49",
       "style": "IPY_MODEL_83c67bcdcdfa4e78bfce882903d2e43a",
       "value": " 30% 9/30 [24:30&lt;56:57, 162.74s/it]"
      }
     },
     "191e625d56f4441ba4d283a96ecd74d7": {
      "model_module": "@jupyter-widgets/controls",
      "model_module_version": "1.2.0",
      "model_name": "HTMLModel",
      "state": {
       "layout": "IPY_MODEL_ccd2c6aec44e48e2a0ab3ac1581cdc13",
       "style": "IPY_MODEL_7381d4d892d142f98323da1841c162b4",
       "value": "[loss: 0.335, acc: 0.881, val_loss: 0.835, val_acc: 0.698] : 100% 319/319 [04:51&lt;00:00, 25.86s/it]"
      }
     },
     "1a3a765ae682488a9e6d4b1f37583ce4": {
      "model_module": "@jupyter-widgets/controls",
      "model_module_version": "1.2.0",
      "model_name": "IntProgressModel",
      "state": {
       "description": "Epoch 0",
       "layout": "IPY_MODEL_40720ac326754c5db02ca05b3aac5ebb",
       "max": 4688,
       "style": "IPY_MODEL_5276d27256e648bb8a1fc1167497a29c"
      }
     },
     "1b097b76f33e449b9b3462847df54ba0": {
      "model_module": "@jupyter-widgets/controls",
      "model_module_version": "1.2.0",
      "model_name": "DescriptionStyleModel",
      "state": {
       "description_width": ""
      }
     },
     "1b436366b1e94285892d15956cbaeed7": {
      "model_module": "@jupyter-widgets/controls",
      "model_module_version": "1.2.0",
      "model_name": "HTMLModel",
      "state": {
       "layout": "IPY_MODEL_eba1807d0a294439bb772ce8a5deccb2",
       "style": "IPY_MODEL_8c5b1768e7774273ac187f93f9328e12",
       "value": "[loss: 3.156, acc: 0.801, val_loss: 2.752, val_acc: 0.828] : 100% 20694/20694 [02:44&lt;00:00,  5.04it/s]"
      }
     },
     "1b7a0416d32f4ea09ea1e952f14c621f": {
      "model_module": "@jupyter-widgets/controls",
      "model_module_version": "1.2.0",
      "model_name": "IntProgressModel",
      "state": {
       "description": "Epoch 5",
       "layout": "IPY_MODEL_3fbbdf00edba442cb204d44459887b55",
       "max": 20694,
       "style": "IPY_MODEL_93def6c3beed44a4b93f7b8a1ac9bc18",
       "value": 20694
      }
     },
     "1bb64ebfcc384f0ca00dcfff50fb19f7": {
      "model_module": "@jupyter-widgets/controls",
      "model_module_version": "1.2.0",
      "model_name": "IntProgressModel",
      "state": {
       "description": "Epoch 2",
       "layout": "IPY_MODEL_538c854bad6542f2b0360c59ba8039e7",
       "max": 349,
       "style": "IPY_MODEL_c5025610501f45b78b4da0d4a79beb83",
       "value": 349
      }
     },
     "1c812dfc7643400c922a920d855b85ee": {
      "model_module": "@jupyter-widgets/controls",
      "model_module_version": "1.2.0",
      "model_name": "ProgressStyleModel",
      "state": {
       "description_width": ""
      }
     },
     "1c8f2dda18ee462ca0fb1b0082e54e4e": {
      "model_module": "@jupyter-widgets/base",
      "model_module_version": "1.0.0",
      "model_name": "LayoutModel",
      "state": {}
     },
     "1db373a5e07248818683f8c0f1b682bd": {
      "model_module": "@jupyter-widgets/controls",
      "model_module_version": "1.2.0",
      "model_name": "ProgressStyleModel",
      "state": {
       "description_width": ""
      }
     },
     "1e18df32d4984cba89701247c78a95dc": {
      "model_module": "@jupyter-widgets/controls",
      "model_module_version": "1.2.0",
      "model_name": "HTMLModel",
      "state": {
       "layout": "IPY_MODEL_1143fd48a3164ea3bfc917023e833a5c",
       "style": "IPY_MODEL_0710eb7bd78841cba23d83513c246f5f",
       "value": "[loss: 0.528, acc: 0.804, val_loss: 0.458, val_acc: 0.824] : 100% 20694/20694 [00:10&lt;00:00, 542.34it/s]"
      }
     },
     "1e4042871a234ca6b950aa9d9de3134d": {
      "model_module": "@jupyter-widgets/controls",
      "model_module_version": "1.2.0",
      "model_name": "ProgressStyleModel",
      "state": {
       "description_width": ""
      }
     },
     "1e8431ad27b846b69667f484c060f955": {
      "model_module": "@jupyter-widgets/controls",
      "model_module_version": "1.2.0",
      "model_name": "ProgressStyleModel",
      "state": {
       "description_width": ""
      }
     },
     "1ee40f781d7d4bbfb3adc37a72425b26": {
      "model_module": "@jupyter-widgets/base",
      "model_module_version": "1.0.0",
      "model_name": "LayoutModel",
      "state": {}
     },
     "1ef3274d467e4b21b0bf7251831d6cf4": {
      "model_module": "@jupyter-widgets/controls",
      "model_module_version": "1.2.0",
      "model_name": "ProgressStyleModel",
      "state": {
       "description_width": ""
      }
     },
     "1f58b220e32b4d21b4d1cb5aea026bc2": {
      "model_module": "@jupyter-widgets/controls",
      "model_module_version": "1.2.0",
      "model_name": "DescriptionStyleModel",
      "state": {
       "description_width": ""
      }
     },
     "1f8f3aece0774acd9db055adb08a3379": {
      "model_module": "@jupyter-widgets/controls",
      "model_module_version": "1.2.0",
      "model_name": "DescriptionStyleModel",
      "state": {
       "description_width": ""
      }
     },
     "2075c7e7c3dd42b0a35df86e76c8ea51": {
      "model_module": "@jupyter-widgets/base",
      "model_module_version": "1.0.0",
      "model_name": "LayoutModel",
      "state": {}
     },
     "207b1295a3ed4da0a6d39a34dfcf92c5": {
      "model_module": "@jupyter-widgets/base",
      "model_module_version": "1.0.0",
      "model_name": "LayoutModel",
      "state": {}
     },
     "20d4c249d1e24fe98451eaec3b91a328": {
      "model_module": "@jupyter-widgets/base",
      "model_module_version": "1.0.0",
      "model_name": "LayoutModel",
      "state": {}
     },
     "2185b482424e4b5d815a675cbd61d079": {
      "model_module": "@jupyter-widgets/controls",
      "model_module_version": "1.2.0",
      "model_name": "ProgressStyleModel",
      "state": {
       "description_width": ""
      }
     },
     "21c77729cadb40bbad344f755b442cda": {
      "model_module": "@jupyter-widgets/controls",
      "model_module_version": "1.2.0",
      "model_name": "IntProgressModel",
      "state": {
       "bar_style": "danger",
       "description": "Training",
       "layout": "IPY_MODEL_a71b44235c1a42a98ab023b6621649fc",
       "max": 30,
       "style": "IPY_MODEL_4579b71c24dd4600ae9f36fac39f193a",
       "value": 6
      }
     },
     "21cba66055f64634a5b7b6d826dd791b": {
      "model_module": "@jupyter-widgets/controls",
      "model_module_version": "1.2.0",
      "model_name": "HTMLModel",
      "state": {
       "layout": "IPY_MODEL_8eb7af4a6b644f3ea330f50e44470da2",
       "style": "IPY_MODEL_1f8f3aece0774acd9db055adb08a3379",
       "value": "[loss: 0.344, acc: 0.872, val_loss: 0.349, val_acc: 0.874] : 100% 20694/20694 [00:10&lt;00:00, 301.48it/s]"
      }
     },
     "21e99862a4444cadb29f4e322f712a88": {
      "model_module": "@jupyter-widgets/controls",
      "model_module_version": "1.2.0",
      "model_name": "DescriptionStyleModel",
      "state": {
       "description_width": ""
      }
     },
     "21ef6cdaa5024d0c9de2f53fe7c3729c": {
      "model_module": "@jupyter-widgets/controls",
      "model_module_version": "1.2.0",
      "model_name": "ProgressStyleModel",
      "state": {
       "description_width": ""
      }
     },
     "22274a2367a44be2a0cf3e6badf15bb6": {
      "model_module": "@jupyter-widgets/base",
      "model_module_version": "1.0.0",
      "model_name": "LayoutModel",
      "state": {}
     },
     "22303f3f842e4a6bb878bce7ed72571d": {
      "model_module": "@jupyter-widgets/base",
      "model_module_version": "1.0.0",
      "model_name": "LayoutModel",
      "state": {}
     },
     "22b41cf1fd8d4d98a15a6b24f3bb8934": {
      "model_module": "@jupyter-widgets/base",
      "model_module_version": "1.0.0",
      "model_name": "LayoutModel",
      "state": {}
     },
     "22d6fde0c4e943aeb9fa0f0ecb0eb0c7": {
      "model_module": "@jupyter-widgets/base",
      "model_module_version": "1.0.0",
      "model_name": "LayoutModel",
      "state": {}
     },
     "23c3f8114fcc4f21a1a0397d0da9dd69": {
      "model_module": "@jupyter-widgets/controls",
      "model_module_version": "1.2.0",
      "model_name": "ProgressStyleModel",
      "state": {
       "description_width": ""
      }
     },
     "23d26f0ebf88482bab9fd45341f226a7": {
      "model_module": "@jupyter-widgets/base",
      "model_module_version": "1.0.0",
      "model_name": "LayoutModel",
      "state": {}
     },
     "242a2c9b18814ee78b057cb4c1eb24ea": {
      "model_module": "@jupyter-widgets/controls",
      "model_module_version": "1.2.0",
      "model_name": "IntProgressModel",
      "state": {
       "description": "Training",
       "layout": "IPY_MODEL_defa1467b22e4f3c9cccead0baeb18ae",
       "max": 30,
       "style": "IPY_MODEL_fc33e4a6dd634ee093aa84049d4248de",
       "value": 8
      }
     },
     "24a2adb2494642feb6db32eaec49e393": {
      "model_module": "@jupyter-widgets/base",
      "model_module_version": "1.0.0",
      "model_name": "LayoutModel",
      "state": {}
     },
     "24a6fe4e171d4afaaf6a0ecf002bad89": {
      "model_module": "@jupyter-widgets/base",
      "model_module_version": "1.0.0",
      "model_name": "LayoutModel",
      "state": {}
     },
     "24b2fe0785d04f459cb6294cac756bfc": {
      "model_module": "@jupyter-widgets/controls",
      "model_module_version": "1.2.0",
      "model_name": "IntProgressModel",
      "state": {
       "description": "Epoch 1",
       "layout": "IPY_MODEL_b4f690f9fe5d4306ac6957ac19f0d89d",
       "max": 20694,
       "style": "IPY_MODEL_3a49494e4d2a41b4987c51d441cddc5e",
       "value": 20694
      }
     },
     "250ce22fea684dcf83b0a175a47c1d9e": {
      "model_module": "@jupyter-widgets/base",
      "model_module_version": "1.0.0",
      "model_name": "LayoutModel",
      "state": {}
     },
     "2521b2b4505b40ba916fad3dda9957cb": {
      "model_module": "@jupyter-widgets/controls",
      "model_module_version": "1.2.0",
      "model_name": "ProgressStyleModel",
      "state": {
       "description_width": ""
      }
     },
     "2568a65349b745aeabbb2008ebfea04e": {
      "model_module": "@jupyter-widgets/controls",
      "model_module_version": "1.2.0",
      "model_name": "HBoxModel",
      "state": {
       "children": [
        "IPY_MODEL_8c7722c962514f9ea86c1aff1ccc676a",
        "IPY_MODEL_18b278bc67814519ae6d5ae3aca56a81"
       ],
       "layout": "IPY_MODEL_23d26f0ebf88482bab9fd45341f226a7"
      }
     },
     "25c41e90ffa7462e9f548d23f1f1a36f": {
      "model_module": "@jupyter-widgets/controls",
      "model_module_version": "1.2.0",
      "model_name": "HBoxModel",
      "state": {
       "children": [
        "IPY_MODEL_814254f424e74af2b6ad6d797ef41aa5",
        "IPY_MODEL_82d361437f5e475badc269e7b06f23b5"
       ],
       "layout": "IPY_MODEL_0520c86265a74774ab84eee6a0ed442c"
      }
     },
     "2654025f81144bd4b8ffe2559c0c9fc7": {
      "model_module": "@jupyter-widgets/base",
      "model_module_version": "1.0.0",
      "model_name": "LayoutModel",
      "state": {}
     },
     "26657bcef324457c973d9ed4b69749e9": {
      "model_module": "@jupyter-widgets/controls",
      "model_module_version": "1.2.0",
      "model_name": "ProgressStyleModel",
      "state": {
       "description_width": ""
      }
     },
     "2667eac4a36147e4b13bf139a7a8cbf4": {
      "model_module": "@jupyter-widgets/base",
      "model_module_version": "1.0.0",
      "model_name": "LayoutModel",
      "state": {}
     },
     "2678698c07104d5482ccefc4632a8dd7": {
      "model_module": "@jupyter-widgets/controls",
      "model_module_version": "1.2.0",
      "model_name": "DescriptionStyleModel",
      "state": {
       "description_width": ""
      }
     },
     "268093e015344f078e00ff4fe215967f": {
      "model_module": "@jupyter-widgets/controls",
      "model_module_version": "1.2.0",
      "model_name": "HTMLModel",
      "state": {
       "layout": "IPY_MODEL_513b451e3d4345d5990e6b14bd9d198e",
       "style": "IPY_MODEL_41e853fa20934f44b82f5e5f8c08b2ad",
       "value": "[loss: 0.471, acc: 0.825, val_loss: 0.397, val_acc: 0.852] : 100% 20694/20694 [00:10&lt;00:00, 379.97it/s]"
      }
     },
     "26fcfdcf9684437f8ccb40a7a6359af8": {
      "model_module": "@jupyter-widgets/base",
      "model_module_version": "1.0.0",
      "model_name": "LayoutModel",
      "state": {}
     },
     "27851b0a8c924dd0b466c564c6ffcc85": {
      "model_module": "@jupyter-widgets/controls",
      "model_module_version": "1.2.0",
      "model_name": "IntProgressModel",
      "state": {
       "description": "Epoch 0",
       "layout": "IPY_MODEL_24a2adb2494642feb6db32eaec49e393",
       "max": 20694,
       "style": "IPY_MODEL_ba57ecdec92140898f643f2811229cce",
       "value": 20694
      }
     },
     "286761890ca7473394c6e44e8c7e9265": {
      "model_module": "@jupyter-widgets/controls",
      "model_module_version": "1.2.0",
      "model_name": "DescriptionStyleModel",
      "state": {
       "description_width": ""
      }
     },
     "29a1b502b53541438f0f3ba193f8daab": {
      "model_module": "@jupyter-widgets/base",
      "model_module_version": "1.0.0",
      "model_name": "LayoutModel",
      "state": {}
     },
     "2a4c3ee0dab34281883ee803ed0a30b7": {
      "model_module": "@jupyter-widgets/controls",
      "model_module_version": "1.2.0",
      "model_name": "ProgressStyleModel",
      "state": {
       "description_width": ""
      }
     },
     "2a5c8ac4c9164f05944ef599a63b2f90": {
      "model_module": "@jupyter-widgets/base",
      "model_module_version": "1.0.0",
      "model_name": "LayoutModel",
      "state": {}
     },
     "2a7f47c4c8bb4f569e4f0336c82a0b34": {
      "model_module": "@jupyter-widgets/base",
      "model_module_version": "1.0.0",
      "model_name": "LayoutModel",
      "state": {}
     },
     "2ae62fbf4f2a48b0b04c7f849e9bb42d": {
      "model_module": "@jupyter-widgets/controls",
      "model_module_version": "1.2.0",
      "model_name": "ProgressStyleModel",
      "state": {
       "description_width": ""
      }
     },
     "2c2f344477cc4b61905d0cc67f54e66a": {
      "model_module": "@jupyter-widgets/controls",
      "model_module_version": "1.2.0",
      "model_name": "IntProgressModel",
      "state": {
       "description": "Epoch 3",
       "layout": "IPY_MODEL_58351b1a3d93429fb42685edbfafbe75",
       "max": 20694,
       "style": "IPY_MODEL_9cd07f5693d849a5a466ddd77b0da3c1",
       "value": 20694
      }
     },
     "2c557c6c63c54f66a020e3a68ba326ec": {
      "model_module": "@jupyter-widgets/controls",
      "model_module_version": "1.2.0",
      "model_name": "IntProgressModel",
      "state": {
       "description": "Epoch 5",
       "layout": "IPY_MODEL_ff84f3b107864da0b505f51ad02f1f28",
       "max": 349,
       "style": "IPY_MODEL_a262e3f036534efb89577b5f9b644585",
       "value": 349
      }
     },
     "2d16bc531aba481095a7361094c58029": {
      "model_module": "@jupyter-widgets/base",
      "model_module_version": "1.0.0",
      "model_name": "LayoutModel",
      "state": {}
     },
     "2d3b986e45184efab78b8bc162f48c08": {
      "model_module": "@jupyter-widgets/base",
      "model_module_version": "1.0.0",
      "model_name": "LayoutModel",
      "state": {}
     },
     "2d810d9d300146939d103a0e4dbe8c15": {
      "model_module": "@jupyter-widgets/base",
      "model_module_version": "1.0.0",
      "model_name": "LayoutModel",
      "state": {}
     },
     "2ea7c625f3624953b4ed569cfc40b2cc": {
      "model_module": "@jupyter-widgets/base",
      "model_module_version": "1.0.0",
      "model_name": "LayoutModel",
      "state": {}
     },
     "2f248bb6c1e542ba8889c86e8405b209": {
      "model_module": "@jupyter-widgets/base",
      "model_module_version": "1.0.0",
      "model_name": "LayoutModel",
      "state": {}
     },
     "2f54b4a71ea5458f8191cf464615b9cf": {
      "model_module": "@jupyter-widgets/controls",
      "model_module_version": "1.2.0",
      "model_name": "IntProgressModel",
      "state": {
       "description": "Epoch 16",
       "layout": "IPY_MODEL_a079cd9885e44fb7a3188136969d2831",
       "max": 20694,
       "style": "IPY_MODEL_5478886286b748eea1c5fae3040af7de",
       "value": 20694
      }
     },
     "2fdb7572a34f4527a71c581c2cb5b203": {
      "model_module": "@jupyter-widgets/controls",
      "model_module_version": "1.2.0",
      "model_name": "IntProgressModel",
      "state": {
       "bar_style": "danger",
       "description": "Training",
       "layout": "IPY_MODEL_5eb13f9522d149bfb76732f6c7d777eb",
       "max": 30,
       "style": "IPY_MODEL_79d41027db964fd68a75aa7e2a7be218",
       "value": 12
      }
     },
     "3103076c415c470ca17996cc0d3a3bf6": {
      "model_module": "@jupyter-widgets/base",
      "model_module_version": "1.0.0",
      "model_name": "LayoutModel",
      "state": {}
     },
     "31e79f57cbb84bc894bfb6d63be0a519": {
      "model_module": "@jupyter-widgets/controls",
      "model_module_version": "1.2.0",
      "model_name": "HTMLModel",
      "state": {
       "layout": "IPY_MODEL_3900ce46d3464347a278a652082552db",
       "style": "IPY_MODEL_678ae132a3984be697e69ab7cf797fad",
       "value": "[loss: 0.364, acc: 0.872, val_loss: 0.785, val_acc: 0.710] : 100% 319/319 [04:51&lt;00:00, 25.86s/it]"
      }
     },
     "32200f1b58c74bddb7c4f34f9341d9c0": {
      "model_module": "@jupyter-widgets/controls",
      "model_module_version": "1.2.0",
      "model_name": "DescriptionStyleModel",
      "state": {
       "description_width": ""
      }
     },
     "325d9c2e2225478e9864533fa6e50757": {
      "model_module": "@jupyter-widgets/base",
      "model_module_version": "1.0.0",
      "model_name": "LayoutModel",
      "state": {}
     },
     "32e3c1b2fd2644c8852f2728291531e5": {
      "model_module": "@jupyter-widgets/base",
      "model_module_version": "1.0.0",
      "model_name": "LayoutModel",
      "state": {}
     },
     "3318796b7d5d43ea9248e9ad33b1dffd": {
      "model_module": "@jupyter-widgets/controls",
      "model_module_version": "1.2.0",
      "model_name": "DescriptionStyleModel",
      "state": {
       "description_width": ""
      }
     },
     "336bfdbf973c497296cbc2721888bda5": {
      "model_module": "@jupyter-widgets/controls",
      "model_module_version": "1.2.0",
      "model_name": "ProgressStyleModel",
      "state": {
       "description_width": ""
      }
     },
     "33a8fb339ef242afaa918ea81629332b": {
      "model_module": "@jupyter-widgets/base",
      "model_module_version": "1.0.0",
      "model_name": "LayoutModel",
      "state": {}
     },
     "33cbaa1138364ee9bcfafd7dcebb529f": {
      "model_module": "@jupyter-widgets/controls",
      "model_module_version": "1.2.0",
      "model_name": "ProgressStyleModel",
      "state": {
       "description_width": ""
      }
     },
     "3434e24ac5cd427ebb1327093c3e663d": {
      "model_module": "@jupyter-widgets/controls",
      "model_module_version": "1.2.0",
      "model_name": "DescriptionStyleModel",
      "state": {
       "description_width": ""
      }
     },
     "34967e48d3cc4efcaacc49bcc2aa13ca": {
      "model_module": "@jupyter-widgets/base",
      "model_module_version": "1.0.0",
      "model_name": "LayoutModel",
      "state": {}
     },
     "34c07d0959764d71a3983fe00bc55cd7": {
      "model_module": "@jupyter-widgets/base",
      "model_module_version": "1.0.0",
      "model_name": "LayoutModel",
      "state": {}
     },
     "34f2595cdc1945f98b0eb64a8dc510ac": {
      "model_module": "@jupyter-widgets/base",
      "model_module_version": "1.0.0",
      "model_name": "LayoutModel",
      "state": {}
     },
     "367e47f3097b4019811c65596b571c0d": {
      "model_module": "@jupyter-widgets/base",
      "model_module_version": "1.0.0",
      "model_name": "LayoutModel",
      "state": {}
     },
     "369ea786e16e47c097a34a11d497bd7a": {
      "model_module": "@jupyter-widgets/controls",
      "model_module_version": "1.2.0",
      "model_name": "ProgressStyleModel",
      "state": {
       "description_width": ""
      }
     },
     "36b83d9c3d6e41b384cdc7661a5df6c1": {
      "model_module": "@jupyter-widgets/controls",
      "model_module_version": "1.2.0",
      "model_name": "HTMLModel",
      "state": {
       "layout": "IPY_MODEL_bdb680ca84c54910bd3199a594770de6",
       "style": "IPY_MODEL_1f58b220e32b4d21b4d1cb5aea026bc2",
       "value": "[loss: 0.410, acc: 0.846, val_loss: 0.384, val_acc: 0.858] : 100% 20694/20694 [00:10&lt;00:00, 534.90it/s]"
      }
     },
     "36b869c981bf4139bc71fb3b35351333": {
      "model_module": "@jupyter-widgets/controls",
      "model_module_version": "1.2.0",
      "model_name": "IntProgressModel",
      "state": {
       "description": "Epoch 4",
       "layout": "IPY_MODEL_2654025f81144bd4b8ffe2559c0c9fc7",
       "max": 1294,
       "style": "IPY_MODEL_f3057fc18e12481dacf3d56f2b6a0f7b",
       "value": 1294
      }
     },
     "36cdfa88c9194ea6ade4b68d8a5352a8": {
      "model_module": "@jupyter-widgets/base",
      "model_module_version": "1.0.0",
      "model_name": "LayoutModel",
      "state": {}
     },
     "3779fd7ba91b41ab878271b9f6c3b5de": {
      "model_module": "@jupyter-widgets/controls",
      "model_module_version": "1.2.0",
      "model_name": "ProgressStyleModel",
      "state": {
       "description_width": ""
      }
     },
     "37eec31303be4fa2ae31c1ec8353775d": {
      "model_module": "@jupyter-widgets/base",
      "model_module_version": "1.0.0",
      "model_name": "LayoutModel",
      "state": {}
     },
     "3809a8d0d65342f48d1e10bf645977cf": {
      "model_module": "@jupyter-widgets/base",
      "model_module_version": "1.0.0",
      "model_name": "LayoutModel",
      "state": {}
     },
     "3834387d9f20435c9e950f6801de271d": {
      "model_module": "@jupyter-widgets/controls",
      "model_module_version": "1.2.0",
      "model_name": "DescriptionStyleModel",
      "state": {
       "description_width": ""
      }
     },
     "38724cc900094b9d9ba1602c985fd67b": {
      "model_module": "@jupyter-widgets/base",
      "model_module_version": "1.0.0",
      "model_name": "LayoutModel",
      "state": {}
     },
     "3874295aef7241e1b5e3e7814061ee78": {
      "model_module": "@jupyter-widgets/controls",
      "model_module_version": "1.2.0",
      "model_name": "DescriptionStyleModel",
      "state": {
       "description_width": ""
      }
     },
     "38929ef8ebf04c0a83d6288ac50548b2": {
      "model_module": "@jupyter-widgets/base",
      "model_module_version": "1.0.0",
      "model_name": "LayoutModel",
      "state": {}
     },
     "3900ce46d3464347a278a652082552db": {
      "model_module": "@jupyter-widgets/base",
      "model_module_version": "1.0.0",
      "model_name": "LayoutModel",
      "state": {}
     },
     "3951de8fdcd0402288b601f4799cc7eb": {
      "model_module": "@jupyter-widgets/controls",
      "model_module_version": "1.2.0",
      "model_name": "HTMLModel",
      "state": {
       "layout": "IPY_MODEL_2075c7e7c3dd42b0a35df86e76c8ea51",
       "style": "IPY_MODEL_84fcbc7734c547e3ae5a0a70248b4ed2",
       "value": "[loss: 0.437, acc: 0.839, val_loss: 0.372, val_acc: 0.865] : 100% 20694/20694 [00:10&lt;00:00, 367.85it/s]"
      }
     },
     "396ae59a891442e891c6aa50335ab556": {
      "model_module": "@jupyter-widgets/base",
      "model_module_version": "1.0.0",
      "model_name": "LayoutModel",
      "state": {}
     },
     "39c8a4722cd24f68828934ef20dd3886": {
      "model_module": "@jupyter-widgets/controls",
      "model_module_version": "1.2.0",
      "model_name": "IntProgressModel",
      "state": {
       "description": "Epoch 4",
       "layout": "IPY_MODEL_5a69349bc66d40409a76fdd199b68ecd",
       "max": 20694,
       "style": "IPY_MODEL_1e8431ad27b846b69667f484c060f955",
       "value": 20694
      }
     },
     "3a49494e4d2a41b4987c51d441cddc5e": {
      "model_module": "@jupyter-widgets/controls",
      "model_module_version": "1.2.0",
      "model_name": "ProgressStyleModel",
      "state": {
       "description_width": ""
      }
     },
     "3a7d944db13b45cd965bfef1dee8128d": {
      "model_module": "@jupyter-widgets/base",
      "model_module_version": "1.0.0",
      "model_name": "LayoutModel",
      "state": {}
     },
     "3b515f09a79e4f69830ae1b2bf5d21ac": {
      "model_module": "@jupyter-widgets/controls",
      "model_module_version": "1.2.0",
      "model_name": "HTMLModel",
      "state": {
       "layout": "IPY_MODEL_01f1af5d28bc4194b90f82b33198ab29",
       "style": "IPY_MODEL_ef807acd669849f291cf47e57f475a91",
       "value": "[loss: 2.944, acc: 0.816, val_loss: 2.702, val_acc: 0.831] : 100% 20694/20694 [02:43&lt;00:00,  5.13it/s]"
      }
     },
     "3c0cf2f7a5054b62a52dc7fc4aa69d76": {
      "model_module": "@jupyter-widgets/base",
      "model_module_version": "1.0.0",
      "model_name": "LayoutModel",
      "state": {}
     },
     "3c119141441d4ecf9af80489ec2bb77c": {
      "model_module": "@jupyter-widgets/base",
      "model_module_version": "1.0.0",
      "model_name": "LayoutModel",
      "state": {}
     },
     "3c141ec6d9a545e68d267a81d7b880b6": {
      "model_module": "@jupyter-widgets/base",
      "model_module_version": "1.0.0",
      "model_name": "LayoutModel",
      "state": {}
     },
     "3c8b2feb270e4557ae07113cea0333fc": {
      "model_module": "@jupyter-widgets/controls",
      "model_module_version": "1.2.0",
      "model_name": "ProgressStyleModel",
      "state": {
       "description_width": ""
      }
     },
     "3d2ec7608dca46fc84c49f75fba30993": {
      "model_module": "@jupyter-widgets/controls",
      "model_module_version": "1.2.0",
      "model_name": "IntProgressModel",
      "state": {
       "description": "Epoch 7",
       "layout": "IPY_MODEL_bd045217fd89413fa70d93ee8d68ceff",
       "max": 20694,
       "style": "IPY_MODEL_e0b351c026c540ed9311f87870556a2e",
       "value": 20694
      }
     },
     "3d4f9290b1c74402910cf926b1c72575": {
      "model_module": "@jupyter-widgets/controls",
      "model_module_version": "1.2.0",
      "model_name": "ProgressStyleModel",
      "state": {
       "description_width": ""
      }
     },
     "3e661367939441e1a4c5a1ccbb4b05b5": {
      "model_module": "@jupyter-widgets/base",
      "model_module_version": "1.0.0",
      "model_name": "LayoutModel",
      "state": {}
     },
     "3f418cecd995443ab6ed117380ff79f0": {
      "model_module": "@jupyter-widgets/base",
      "model_module_version": "1.0.0",
      "model_name": "LayoutModel",
      "state": {}
     },
     "3f5ce5d495a24012b3d191ce663b8898": {
      "model_module": "@jupyter-widgets/controls",
      "model_module_version": "1.2.0",
      "model_name": "IntProgressModel",
      "state": {
       "bar_style": "danger",
       "description": "Training",
       "layout": "IPY_MODEL_4f3f90614e3c4fedb34848c41a5638d4",
       "max": 30,
       "style": "IPY_MODEL_58fe3dd382554c00b14bdc9fb16b8533",
       "value": 5
      }
     },
     "3f91767d21534966bff7869a0a486c9c": {
      "model_module": "@jupyter-widgets/controls",
      "model_module_version": "1.2.0",
      "model_name": "IntProgressModel",
      "state": {
       "description": "Epoch 7",
       "layout": "IPY_MODEL_de7a423cb686422d8e65be821245c45a",
       "max": 20694,
       "style": "IPY_MODEL_16a5f1b9b1f44d82b2f4f7136a7f9245",
       "value": 20694
      }
     },
     "3fbbdf00edba442cb204d44459887b55": {
      "model_module": "@jupyter-widgets/base",
      "model_module_version": "1.0.0",
      "model_name": "LayoutModel",
      "state": {}
     },
     "40720ac326754c5db02ca05b3aac5ebb": {
      "model_module": "@jupyter-widgets/base",
      "model_module_version": "1.0.0",
      "model_name": "LayoutModel",
      "state": {}
     },
     "40ffa0372e47496ebb0de0fed70238da": {
      "model_module": "@jupyter-widgets/base",
      "model_module_version": "1.0.0",
      "model_name": "LayoutModel",
      "state": {}
     },
     "41e0a926c71b4243bb4e4384ceede9b0": {
      "model_module": "@jupyter-widgets/controls",
      "model_module_version": "1.2.0",
      "model_name": "HTMLModel",
      "state": {
       "layout": "IPY_MODEL_722d3385be9e42c8b16d34d9dde4bb63",
       "style": "IPY_MODEL_0a178f4b9634415c98a8dc23f96aaa1f",
       "value": "[loss: 0.345, acc: 0.873, val_loss: 0.345, val_acc: 0.874] : 100% 20694/20694 [00:10&lt;00:00, 620.40it/s]"
      }
     },
     "41e853fa20934f44b82f5e5f8c08b2ad": {
      "model_module": "@jupyter-widgets/controls",
      "model_module_version": "1.2.0",
      "model_name": "DescriptionStyleModel",
      "state": {
       "description_width": ""
      }
     },
     "42894f158cdc4648b12dac67d96dce15": {
      "model_module": "@jupyter-widgets/controls",
      "model_module_version": "1.2.0",
      "model_name": "DescriptionStyleModel",
      "state": {
       "description_width": ""
      }
     },
     "42cbde3f7e2e45be91b7293f30acd97a": {
      "model_module": "@jupyter-widgets/base",
      "model_module_version": "1.0.0",
      "model_name": "LayoutModel",
      "state": {}
     },
     "4336f079582548148f46b92776aec9d6": {
      "model_module": "@jupyter-widgets/controls",
      "model_module_version": "1.2.0",
      "model_name": "ProgressStyleModel",
      "state": {
       "description_width": ""
      }
     },
     "439de5418a294d94ab4f483dce34a432": {
      "model_module": "@jupyter-widgets/controls",
      "model_module_version": "1.2.0",
      "model_name": "IntProgressModel",
      "state": {
       "description": "Epoch 2",
       "layout": "IPY_MODEL_0d27072e055f43ebaab5cf8463d7bbdf",
       "max": 324,
       "style": "IPY_MODEL_44076a221eb84d0f92e49236c8041f78",
       "value": 324
      }
     },
     "43ed3ff8a3484e0bb1d8af44958ebd37": {
      "model_module": "@jupyter-widgets/base",
      "model_module_version": "1.0.0",
      "model_name": "LayoutModel",
      "state": {}
     },
     "43ff69f303bc4413adbe87fc3a33eda2": {
      "model_module": "@jupyter-widgets/base",
      "model_module_version": "1.0.0",
      "model_name": "LayoutModel",
      "state": {}
     },
     "4403e80713034c1180d5e986b3a1f913": {
      "model_module": "@jupyter-widgets/base",
      "model_module_version": "1.0.0",
      "model_name": "LayoutModel",
      "state": {}
     },
     "44076a221eb84d0f92e49236c8041f78": {
      "model_module": "@jupyter-widgets/controls",
      "model_module_version": "1.2.0",
      "model_name": "ProgressStyleModel",
      "state": {
       "description_width": ""
      }
     },
     "44471e04a67f4e7fadbcbe210e31696a": {
      "model_module": "@jupyter-widgets/base",
      "model_module_version": "1.0.0",
      "model_name": "LayoutModel",
      "state": {}
     },
     "444d64778c7f46e4acaaaac9cf7f1fa1": {
      "model_module": "@jupyter-widgets/controls",
      "model_module_version": "1.2.0",
      "model_name": "HTMLModel",
      "state": {
       "layout": "IPY_MODEL_4c39ee4ec4e8440f9b1ebf81425b1ab1",
       "style": "IPY_MODEL_3874295aef7241e1b5e3e7814061ee78",
       "value": "[loss: 0.404, acc: 0.849, val_loss: 0.384, val_acc: 0.858] : 100% 20694/20694 [00:10&lt;00:00, 84.34it/s]"
      }
     },
     "44f38adc041c4afeb49b956b3513e0fc": {
      "model_module": "@jupyter-widgets/base",
      "model_module_version": "1.0.0",
      "model_name": "LayoutModel",
      "state": {}
     },
     "45370e56ebea402994a6f43876b5fcd3": {
      "model_module": "@jupyter-widgets/base",
      "model_module_version": "1.0.0",
      "model_name": "LayoutModel",
      "state": {}
     },
     "4579b71c24dd4600ae9f36fac39f193a": {
      "model_module": "@jupyter-widgets/controls",
      "model_module_version": "1.2.0",
      "model_name": "ProgressStyleModel",
      "state": {
       "description_width": ""
      }
     },
     "460e2ebfe42c44baaa5c26a519c77de7": {
      "model_module": "@jupyter-widgets/base",
      "model_module_version": "1.0.0",
      "model_name": "LayoutModel",
      "state": {}
     },
     "4664161268bd44a386ccd888ef06a385": {
      "model_module": "@jupyter-widgets/controls",
      "model_module_version": "1.2.0",
      "model_name": "ProgressStyleModel",
      "state": {
       "description_width": ""
      }
     },
     "468cef04a9aa452f8d28a285bf5726f5": {
      "model_module": "@jupyter-widgets/controls",
      "model_module_version": "1.2.0",
      "model_name": "HTMLModel",
      "state": {
       "layout": "IPY_MODEL_8e4b167db97246eab8b5c32261dd9fc3",
       "style": "IPY_MODEL_702875c09a4940f9862ef45a3924d72c",
       "value": "[loss: 2.960, acc: 0.815, val_loss: 2.650, val_acc: 0.835] : 100% 20694/20694 [02:42&lt;00:00,  5.86it/s]"
      }
     },
     "46c46de1d466438ba27def3eb76c010f": {
      "model_module": "@jupyter-widgets/base",
      "model_module_version": "1.0.0",
      "model_name": "LayoutModel",
      "state": {}
     },
     "46cfc85bea654dfab1cbe392e4182a2d": {
      "model_module": "@jupyter-widgets/base",
      "model_module_version": "1.0.0",
      "model_name": "LayoutModel",
      "state": {}
     },
     "479f158259824af59fb09bca80f86a31": {
      "model_module": "@jupyter-widgets/base",
      "model_module_version": "1.0.0",
      "model_name": "LayoutModel",
      "state": {}
     },
     "486db4f0cf564ac0bf4dcecd429b2854": {
      "model_module": "@jupyter-widgets/base",
      "model_module_version": "1.0.0",
      "model_name": "LayoutModel",
      "state": {}
     },
     "487f149969b24ad6ba90d14e766e2868": {
      "model_module": "@jupyter-widgets/base",
      "model_module_version": "1.0.0",
      "model_name": "LayoutModel",
      "state": {}
     },
     "48dd83087b754c5998dc23f4dc232814": {
      "model_module": "@jupyter-widgets/controls",
      "model_module_version": "1.2.0",
      "model_name": "HTMLModel",
      "state": {
       "layout": "IPY_MODEL_479f158259824af59fb09bca80f86a31",
       "style": "IPY_MODEL_3434e24ac5cd427ebb1327093c3e663d",
       "value": "[loss: 0.461, acc: 0.830, val_loss: 0.383, val_acc: 0.856] : 100% 20694/20694 [00:10&lt;00:00, 449.78it/s]"
      }
     },
     "4967a1767f1c4bada2ea4742a72725c6": {
      "model_module": "@jupyter-widgets/controls",
      "model_module_version": "1.2.0",
      "model_name": "HTMLModel",
      "state": {
       "layout": "IPY_MODEL_e606f9f608944426b5b92bb408eceb9f",
       "style": "IPY_MODEL_c81e28b3903a46afa8a2a4ba342ede09",
       "value": "[loss: 0.457, acc: 0.829, val_loss: 0.388, val_acc: 0.858] : 100% 20694/20694 [00:10&lt;00:00, 589.92it/s]"
      }
     },
     "49ed69e71f7a4baca429c0f9ffe8f35c": {
      "model_module": "@jupyter-widgets/controls",
      "model_module_version": "1.2.0",
      "model_name": "IntProgressModel",
      "state": {
       "description": "Epoch 5",
       "layout": "IPY_MODEL_bf803f9baccc4f37b5881cc17768db4a",
       "max": 20694,
       "style": "IPY_MODEL_3d4f9290b1c74402910cf926b1c72575",
       "value": 20694
      }
     },
     "4a3f01cfb0f148148c0934ea959332ca": {
      "model_module": "@jupyter-widgets/controls",
      "model_module_version": "1.2.0",
      "model_name": "DescriptionStyleModel",
      "state": {
       "description_width": ""
      }
     },
     "4af4540414cf4fc6a1af1d96a8116890": {
      "model_module": "@jupyter-widgets/base",
      "model_module_version": "1.0.0",
      "model_name": "LayoutModel",
      "state": {}
     },
     "4c19e155ff3a4817970798cc043587b7": {
      "model_module": "@jupyter-widgets/controls",
      "model_module_version": "1.2.0",
      "model_name": "HTMLModel",
      "state": {
       "layout": "IPY_MODEL_d9a5f65672254c978ae45536711992e2",
       "style": "IPY_MODEL_32200f1b58c74bddb7c4f34f9341d9c0",
       "value": "[loss: 0.408, acc: 0.849] :  92% 19136/20694 [00:25&lt;00:00, 2160.39it/s]"
      }
     },
     "4c39ee4ec4e8440f9b1ebf81425b1ab1": {
      "model_module": "@jupyter-widgets/base",
      "model_module_version": "1.0.0",
      "model_name": "LayoutModel",
      "state": {}
     },
     "4d43cd9df3d24e8a95ab28272acfc1e3": {
      "model_module": "@jupyter-widgets/controls",
      "model_module_version": "1.2.0",
      "model_name": "IntProgressModel",
      "state": {
       "description": "Epoch 4",
       "layout": "IPY_MODEL_b2b5d98bd9024eedb5fded9bc8f786a9",
       "max": 20694,
       "style": "IPY_MODEL_1db373a5e07248818683f8c0f1b682bd",
       "value": 20694
      }
     },
     "4d5a3c9f0c994427b9c79a74fef5ec12": {
      "model_module": "@jupyter-widgets/controls",
      "model_module_version": "1.2.0",
      "model_name": "DescriptionStyleModel",
      "state": {
       "description_width": ""
      }
     },
     "4d8f593558fe490caf126c5c2bb31f4c": {
      "model_module": "@jupyter-widgets/base",
      "model_module_version": "1.0.0",
      "model_name": "LayoutModel",
      "state": {}
     },
     "4e0e3e67b18a488f90a0482b2e724caf": {
      "model_module": "@jupyter-widgets/controls",
      "model_module_version": "1.2.0",
      "model_name": "ProgressStyleModel",
      "state": {
       "description_width": ""
      }
     },
     "4e9dbca1cf1340219c326c23a2062056": {
      "model_module": "@jupyter-widgets/base",
      "model_module_version": "1.0.0",
      "model_name": "LayoutModel",
      "state": {}
     },
     "4ef19dc9ff8547ff916388c329bd831d": {
      "model_module": "@jupyter-widgets/controls",
      "model_module_version": "1.2.0",
      "model_name": "HTMLModel",
      "state": {
       "layout": "IPY_MODEL_0eb823f5c9a94ffa8bc5e96de302f887",
       "style": "IPY_MODEL_8890622b2f9546b4911f67c19413abfd",
       "value": "[loss: 0.445, acc: 0.837, val_loss: 0.390, val_acc: 0.860] : 100% 20694/20694 [00:10&lt;00:00, 367.26it/s]"
      }
     },
     "4f0fb9176b2d458082d64e12e609fe5e": {
      "model_module": "@jupyter-widgets/controls",
      "model_module_version": "1.2.0",
      "model_name": "ProgressStyleModel",
      "state": {
       "description_width": ""
      }
     },
     "4f2bb689cf834c0b8a671ae79155c51c": {
      "model_module": "@jupyter-widgets/controls",
      "model_module_version": "1.2.0",
      "model_name": "DescriptionStyleModel",
      "state": {
       "description_width": ""
      }
     },
     "4f3f90614e3c4fedb34848c41a5638d4": {
      "model_module": "@jupyter-widgets/base",
      "model_module_version": "1.0.0",
      "model_name": "LayoutModel",
      "state": {}
     },
     "4fe0edd86c46406bb6d8b0796c125897": {
      "model_module": "@jupyter-widgets/controls",
      "model_module_version": "1.2.0",
      "model_name": "IntProgressModel",
      "state": {
       "description": "Epoch 0",
       "layout": "IPY_MODEL_9a8804b1ff924b5c88c1238b85ffdd4e",
       "max": 20694,
       "style": "IPY_MODEL_4e0e3e67b18a488f90a0482b2e724caf",
       "value": 20694
      }
     },
     "4fe6d6b15cf84c30925c9775aa8d5d19": {
      "model_module": "@jupyter-widgets/controls",
      "model_module_version": "1.2.0",
      "model_name": "DescriptionStyleModel",
      "state": {
       "description_width": ""
      }
     },
     "4ffe17011d4146dcb467cafce1fd4a3a": {
      "model_module": "@jupyter-widgets/controls",
      "model_module_version": "1.2.0",
      "model_name": "ProgressStyleModel",
      "state": {
       "description_width": ""
      }
     },
     "503d4fce123741d8b38af3700ee37c0f": {
      "model_module": "@jupyter-widgets/base",
      "model_module_version": "1.0.0",
      "model_name": "LayoutModel",
      "state": {}
     },
     "51061b4de26a401fab913b29361ad719": {
      "model_module": "@jupyter-widgets/base",
      "model_module_version": "1.0.0",
      "model_name": "LayoutModel",
      "state": {}
     },
     "513b451e3d4345d5990e6b14bd9d198e": {
      "model_module": "@jupyter-widgets/base",
      "model_module_version": "1.0.0",
      "model_name": "LayoutModel",
      "state": {}
     },
     "519272c873a34eb9b437a9c528b61486": {
      "model_module": "@jupyter-widgets/controls",
      "model_module_version": "1.2.0",
      "model_name": "DescriptionStyleModel",
      "state": {
       "description_width": ""
      }
     },
     "51978b6f1d3a4e46ababefe4c7a3365c": {
      "model_module": "@jupyter-widgets/base",
      "model_module_version": "1.0.0",
      "model_name": "LayoutModel",
      "state": {}
     },
     "51cb4a852e2b40d2964a8ad25c4e35bd": {
      "model_module": "@jupyter-widgets/base",
      "model_module_version": "1.0.0",
      "model_name": "LayoutModel",
      "state": {}
     },
     "5276d27256e648bb8a1fc1167497a29c": {
      "model_module": "@jupyter-widgets/controls",
      "model_module_version": "1.2.0",
      "model_name": "ProgressStyleModel",
      "state": {
       "description_width": ""
      }
     },
     "52a48e017ca348678a592b6c179e76bf": {
      "model_module": "@jupyter-widgets/base",
      "model_module_version": "1.0.0",
      "model_name": "LayoutModel",
      "state": {}
     },
     "534a71e44cb645588d256f59ceb38059": {
      "model_module": "@jupyter-widgets/controls",
      "model_module_version": "1.2.0",
      "model_name": "HTMLModel",
      "state": {
       "layout": "IPY_MODEL_5ea3def1ebf2461e99b6c27190f530f6",
       "style": "IPY_MODEL_b603fa6963ef4b778769cca8b58b98a1",
       "value": "[loss: 0.620, acc: 0.798, val_loss: 0.825, val_acc: 0.715] : 100% 324/324 [04:49&lt;00:00, 26.82s/it]"
      }
     },
     "538c854bad6542f2b0360c59ba8039e7": {
      "model_module": "@jupyter-widgets/base",
      "model_module_version": "1.0.0",
      "model_name": "LayoutModel",
      "state": {}
     },
     "5478886286b748eea1c5fae3040af7de": {
      "model_module": "@jupyter-widgets/controls",
      "model_module_version": "1.2.0",
      "model_name": "ProgressStyleModel",
      "state": {
       "description_width": ""
      }
     },
     "54a97041c0c04ba18d49fb7405cd6a41": {
      "model_module": "@jupyter-widgets/controls",
      "model_module_version": "1.2.0",
      "model_name": "DescriptionStyleModel",
      "state": {
       "description_width": ""
      }
     },
     "54c28acbd82d44fa9953cc9c6b7b5aed": {
      "model_module": "@jupyter-widgets/controls",
      "model_module_version": "1.2.0",
      "model_name": "HTMLModel",
      "state": {
       "layout": "IPY_MODEL_c7d5d0991bcc47a999c197761d117d6b",
       "style": "IPY_MODEL_c8ea9db82e144e8e94b39ba5ba947eda",
       "value": "[loss: 0.757, acc: 0.705, val_loss: 0.525, val_acc: 0.811] : 100% 20694/20694 [00:11&lt;00:00, 569.11it/s]"
      }
     },
     "555dc047b72b4c90b8fac3a738cb36fa": {
      "model_module": "@jupyter-widgets/controls",
      "model_module_version": "1.2.0",
      "model_name": "IntProgressModel",
      "state": {
       "bar_style": "danger",
       "description": "Training",
       "layout": "IPY_MODEL_a69673dfb9d845269a016cffef00ad8c",
       "max": 30,
       "style": "IPY_MODEL_effec46fe9024fb29a549aceeb4000f5",
       "value": 18
      }
     },
     "55df5afe02c14a5cbb5978f169017cff": {
      "model_module": "@jupyter-widgets/controls",
      "model_module_version": "1.2.0",
      "model_name": "HTMLModel",
      "state": {
       "layout": "IPY_MODEL_207b1295a3ed4da0a6d39a34dfcf92c5",
       "style": "IPY_MODEL_ed985de1a8754e01b31182b0a7a7b0f4",
       "value": "[loss: 0.618, acc: 0.798, val_loss: 0.857, val_acc: 0.706] : 100% 319/319 [11:32&lt;00:00, 31.60s/it]"
      }
     },
     "55ff2cb030e8425cbcafff22c2b97294": {
      "model_module": "@jupyter-widgets/controls",
      "model_module_version": "1.2.0",
      "model_name": "HTMLModel",
      "state": {
       "layout": "IPY_MODEL_22d6fde0c4e943aeb9fa0f0ecb0eb0c7",
       "style": "IPY_MODEL_81acfcd9938444ad95353ae19250a8e3",
       "value": "[loss: 0.385, acc: 0.855, val_loss: 0.361, val_acc: 0.869] : 100% 20694/20694 [00:10&lt;00:00, 180.49it/s]"
      }
     },
     "57573e920587492cbb5361958ea8fd3b": {
      "model_module": "@jupyter-widgets/base",
      "model_module_version": "1.0.0",
      "model_name": "LayoutModel",
      "state": {}
     },
     "57e50be6e0f44f03ba01add064ae5e64": {
      "model_module": "@jupyter-widgets/controls",
      "model_module_version": "1.2.0",
      "model_name": "ProgressStyleModel",
      "state": {
       "description_width": ""
      }
     },
     "58236a8315af478aa2560429bf039c1e": {
      "model_module": "@jupyter-widgets/controls",
      "model_module_version": "1.2.0",
      "model_name": "DescriptionStyleModel",
      "state": {
       "description_width": ""
      }
     },
     "58351b1a3d93429fb42685edbfafbe75": {
      "model_module": "@jupyter-widgets/base",
      "model_module_version": "1.0.0",
      "model_name": "LayoutModel",
      "state": {}
     },
     "585023e15dc74e8db823cdb25f37d09f": {
      "model_module": "@jupyter-widgets/controls",
      "model_module_version": "1.2.0",
      "model_name": "DescriptionStyleModel",
      "state": {
       "description_width": ""
      }
     },
     "5880f199e9a54d5781384aa19259effe": {
      "model_module": "@jupyter-widgets/base",
      "model_module_version": "1.0.0",
      "model_name": "LayoutModel",
      "state": {}
     },
     "58fe3dd382554c00b14bdc9fb16b8533": {
      "model_module": "@jupyter-widgets/controls",
      "model_module_version": "1.2.0",
      "model_name": "ProgressStyleModel",
      "state": {
       "description_width": ""
      }
     },
     "58fe5bbace36422a89ef1cd45292f6ab": {
      "model_module": "@jupyter-widgets/controls",
      "model_module_version": "1.2.0",
      "model_name": "IntProgressModel",
      "state": {
       "description": "Epoch 11",
       "layout": "IPY_MODEL_325d9c2e2225478e9864533fa6e50757",
       "max": 20694,
       "style": "IPY_MODEL_1c812dfc7643400c922a920d855b85ee",
       "value": 20694
      }
     },
     "59097b0fb3bf47f1bac4dbae9b9809b5": {
      "model_module": "@jupyter-widgets/controls",
      "model_module_version": "1.2.0",
      "model_name": "HTMLModel",
      "state": {
       "layout": "IPY_MODEL_b8114730764647c1834c244ab491faaa",
       "style": "IPY_MODEL_f536f268208d4d9196840684a161cd7f",
       "value": "[loss: 0.390, acc: 0.854, val_loss: 0.373, val_acc: 0.861] : 100% 20694/20694 [00:10&lt;00:00, 471.27it/s]"
      }
     },
     "590b6639001046199d9cefbed746ed58": {
      "model_module": "@jupyter-widgets/base",
      "model_module_version": "1.0.0",
      "model_name": "LayoutModel",
      "state": {}
     },
     "596d577054304cddacc55f22683feb01": {
      "model_module": "@jupyter-widgets/controls",
      "model_module_version": "1.2.0",
      "model_name": "IntProgressModel",
      "state": {
       "description": "Epoch 5",
       "layout": "IPY_MODEL_de90f8794fab41d882aec7c791cdbed5",
       "max": 20694,
       "style": "IPY_MODEL_fcf014e91cd9436e816c9d436970672f",
       "value": 20694
      }
     },
     "59ff381317da42e684bc653443fc18a2": {
      "model_module": "@jupyter-widgets/controls",
      "model_module_version": "1.2.0",
      "model_name": "HTMLModel",
      "state": {
       "layout": "IPY_MODEL_a9c242cd4d1e4b0c8c3fa1e6cfb74696",
       "style": "IPY_MODEL_cedcec0212324b538464053144fd8a0a",
       "value": "[loss: 2.821, acc: 0.824, val_loss: 2.662, val_acc: 0.834] : 100% 20694/20694 [02:42&lt;00:00,  5.86it/s]"
      }
     },
     "5a69349bc66d40409a76fdd199b68ecd": {
      "model_module": "@jupyter-widgets/base",
      "model_module_version": "1.0.0",
      "model_name": "LayoutModel",
      "state": {}
     },
     "5b05d5d908c14ec8b5aee34f016da433": {
      "model_module": "@jupyter-widgets/controls",
      "model_module_version": "1.2.0",
      "model_name": "ProgressStyleModel",
      "state": {
       "description_width": ""
      }
     },
     "5b24bc6d357247468049bc834987a5f2": {
      "model_module": "@jupyter-widgets/controls",
      "model_module_version": "1.2.0",
      "model_name": "DescriptionStyleModel",
      "state": {
       "description_width": ""
      }
     },
     "5b5f9bdf50cd4e048549ae526b6662f1": {
      "model_module": "@jupyter-widgets/controls",
      "model_module_version": "1.2.0",
      "model_name": "DescriptionStyleModel",
      "state": {
       "description_width": ""
      }
     },
     "5b7d779a86f14e1c91053a21fa868bbd": {
      "model_module": "@jupyter-widgets/base",
      "model_module_version": "1.0.0",
      "model_name": "LayoutModel",
      "state": {}
     },
     "5bb8ce1f6df44f2d993847c51f359822": {
      "model_module": "@jupyter-widgets/controls",
      "model_module_version": "1.2.0",
      "model_name": "DescriptionStyleModel",
      "state": {
       "description_width": ""
      }
     },
     "5ca8c87ee071491684303682a7583a54": {
      "model_module": "@jupyter-widgets/controls",
      "model_module_version": "1.2.0",
      "model_name": "DescriptionStyleModel",
      "state": {
       "description_width": ""
      }
     },
     "5cc9de629de04e588070fea72126077c": {
      "model_module": "@jupyter-widgets/base",
      "model_module_version": "1.0.0",
      "model_name": "LayoutModel",
      "state": {}
     },
     "5cda777ab14a44f5a5dc630f3542e564": {
      "model_module": "@jupyter-widgets/controls",
      "model_module_version": "1.2.0",
      "model_name": "HBoxModel",
      "state": {
       "children": [
        "IPY_MODEL_1a3a765ae682488a9e6d4b1f37583ce4",
        "IPY_MODEL_77e25f6075134a9e8351519e9952a4ac"
       ],
       "layout": "IPY_MODEL_4d8f593558fe490caf126c5c2bb31f4c"
      }
     },
     "5d17528036f74c08a9c6d31a8bd50b95": {
      "model_module": "@jupyter-widgets/base",
      "model_module_version": "1.0.0",
      "model_name": "LayoutModel",
      "state": {}
     },
     "5ea3def1ebf2461e99b6c27190f530f6": {
      "model_module": "@jupyter-widgets/base",
      "model_module_version": "1.0.0",
      "model_name": "LayoutModel",
      "state": {}
     },
     "5eb13f9522d149bfb76732f6c7d777eb": {
      "model_module": "@jupyter-widgets/base",
      "model_module_version": "1.0.0",
      "model_name": "LayoutModel",
      "state": {}
     },
     "5ebd57327d5c4e1fa36831c06e99708a": {
      "model_module": "@jupyter-widgets/controls",
      "model_module_version": "1.2.0",
      "model_name": "ProgressStyleModel",
      "state": {
       "description_width": ""
      }
     },
     "5f270f2596ce47459957046e5955bfd3": {
      "model_module": "@jupyter-widgets/base",
      "model_module_version": "1.0.0",
      "model_name": "LayoutModel",
      "state": {}
     },
     "603beb9052a24abe9cf1468ba5080974": {
      "model_module": "@jupyter-widgets/base",
      "model_module_version": "1.0.0",
      "model_name": "LayoutModel",
      "state": {}
     },
     "605bd0fe4d2242e5846991ad2ce45469": {
      "model_module": "@jupyter-widgets/base",
      "model_module_version": "1.0.0",
      "model_name": "LayoutModel",
      "state": {}
     },
     "60f6cc3340f44e9eac1a0d43c65fc232": {
      "model_module": "@jupyter-widgets/base",
      "model_module_version": "1.0.0",
      "model_name": "LayoutModel",
      "state": {}
     },
     "6156436ed1c441e9a380f96c98b21223": {
      "model_module": "@jupyter-widgets/controls",
      "model_module_version": "1.2.0",
      "model_name": "DescriptionStyleModel",
      "state": {
       "description_width": ""
      }
     },
     "61dd103357d24bcfb8e248fed22fa146": {
      "model_module": "@jupyter-widgets/controls",
      "model_module_version": "1.2.0",
      "model_name": "DescriptionStyleModel",
      "state": {
       "description_width": ""
      }
     },
     "63318f757bc443f5b74c4f9a26be0be6": {
      "model_module": "@jupyter-widgets/base",
      "model_module_version": "1.0.0",
      "model_name": "LayoutModel",
      "state": {}
     },
     "6331f5e057ea4c6b8028d62d57129082": {
      "model_module": "@jupyter-widgets/controls",
      "model_module_version": "1.2.0",
      "model_name": "HTMLModel",
      "state": {
       "layout": "IPY_MODEL_f52719e23a004046b5c1c9c585f13a5a",
       "style": "IPY_MODEL_0b9d1b32381a4ee89477fefd81310871",
       "value": "[loss: 0.387, acc: 0.856, val_loss: 0.395, val_acc: 0.858] : 100% 20694/20694 [00:10&lt;00:00, 389.06it/s]"
      }
     },
     "63ac39de10164a028706502cb0ba075f": {
      "model_module": "@jupyter-widgets/controls",
      "model_module_version": "1.2.0",
      "model_name": "IntProgressModel",
      "state": {
       "description": "Epoch 8",
       "layout": "IPY_MODEL_fcfbb96e34f84bc9907a72efb89e5968",
       "max": 20694,
       "style": "IPY_MODEL_e03db8dddb0b4933b387a7b8b22edfa3",
       "value": 20694
      }
     },
     "640c17d0ee8d470ebaa8f7adcfa1fe0e": {
      "model_module": "@jupyter-widgets/base",
      "model_module_version": "1.0.0",
      "model_name": "LayoutModel",
      "state": {}
     },
     "6509cbebe9bd4b049a189553bf9113ea": {
      "model_module": "@jupyter-widgets/base",
      "model_module_version": "1.0.0",
      "model_name": "LayoutModel",
      "state": {}
     },
     "6577d8de2f48434293e33fed4d3b6c5f": {
      "model_module": "@jupyter-widgets/controls",
      "model_module_version": "1.2.0",
      "model_name": "DescriptionStyleModel",
      "state": {
       "description_width": ""
      }
     },
     "65a83877f7cf4e9994d5af7689349973": {
      "model_module": "@jupyter-widgets/controls",
      "model_module_version": "1.2.0",
      "model_name": "IntProgressModel",
      "state": {
       "description": "Epoch 1",
       "layout": "IPY_MODEL_182cf1c557d548d1966ee5deb7ce085e",
       "max": 20694,
       "style": "IPY_MODEL_f9a53e3244624f8bb6627e21c2ff3db4",
       "value": 20694
      }
     },
     "65f0a445ec0f4efb898460fcd48581c0": {
      "model_module": "@jupyter-widgets/controls",
      "model_module_version": "1.2.0",
      "model_name": "IntProgressModel",
      "state": {
       "description": "Epoch 10",
       "layout": "IPY_MODEL_7b3d8f7b7545425b83eca8053985f4ee",
       "max": 20694,
       "style": "IPY_MODEL_6d04589ab5d846b488716ac6068cbbd5",
       "value": 20694
      }
     },
     "661125f4cb0044a795c507b6794a9c88": {
      "model_module": "@jupyter-widgets/base",
      "model_module_version": "1.0.0",
      "model_name": "LayoutModel",
      "state": {}
     },
     "667c3e5da96b4cd0933c6fa23648b29d": {
      "model_module": "@jupyter-widgets/base",
      "model_module_version": "1.0.0",
      "model_name": "LayoutModel",
      "state": {}
     },
     "67542c397e644e59913024bf0b52ef24": {
      "model_module": "@jupyter-widgets/base",
      "model_module_version": "1.0.0",
      "model_name": "LayoutModel",
      "state": {}
     },
     "678ae132a3984be697e69ab7cf797fad": {
      "model_module": "@jupyter-widgets/controls",
      "model_module_version": "1.2.0",
      "model_name": "DescriptionStyleModel",
      "state": {
       "description_width": ""
      }
     },
     "6889032032a549cbb8df71ce1f29dbd4": {
      "model_module": "@jupyter-widgets/base",
      "model_module_version": "1.0.0",
      "model_name": "LayoutModel",
      "state": {}
     },
     "68ade86e7f384c968f7e00122b3bfc76": {
      "model_module": "@jupyter-widgets/controls",
      "model_module_version": "1.2.0",
      "model_name": "ProgressStyleModel",
      "state": {
       "description_width": ""
      }
     },
     "6919aebb20e840d7924c04ce0f6e7631": {
      "model_module": "@jupyter-widgets/base",
      "model_module_version": "1.0.0",
      "model_name": "LayoutModel",
      "state": {}
     },
     "69376d988f6a49d195b41961df2e3741": {
      "model_module": "@jupyter-widgets/controls",
      "model_module_version": "1.2.0",
      "model_name": "IntProgressModel",
      "state": {
       "description": "Epoch 1",
       "layout": "IPY_MODEL_0ea49625fcde419a898311e385b81483",
       "max": 1294,
       "style": "IPY_MODEL_08318f2fa7fd4b2d9ab728565a1480f7",
       "value": 1294
      }
     },
     "698f130809ed4911a9f3f4390a982fb5": {
      "model_module": "@jupyter-widgets/base",
      "model_module_version": "1.0.0",
      "model_name": "LayoutModel",
      "state": {}
     },
     "699585f685544906bdb27068c27fd7c1": {
      "model_module": "@jupyter-widgets/base",
      "model_module_version": "1.0.0",
      "model_name": "LayoutModel",
      "state": {}
     },
     "6a5ab75cbe5f41a586ec453b8dba95fc": {
      "model_module": "@jupyter-widgets/controls",
      "model_module_version": "1.2.0",
      "model_name": "IntProgressModel",
      "state": {
       "description": "Epoch 7",
       "layout": "IPY_MODEL_51061b4de26a401fab913b29361ad719",
       "max": 20694,
       "style": "IPY_MODEL_b19f7d0a8fd0470385c5ff0652f83f2f",
       "value": 20694
      }
     },
     "6a5e3a10c80d4bb2b553788dfa11f627": {
      "model_module": "@jupyter-widgets/base",
      "model_module_version": "1.0.0",
      "model_name": "LayoutModel",
      "state": {}
     },
     "6ad63e1dddea4d74ac8b9fb0c9bb5702": {
      "model_module": "@jupyter-widgets/controls",
      "model_module_version": "1.2.0",
      "model_name": "DescriptionStyleModel",
      "state": {
       "description_width": ""
      }
     },
     "6c46e7b85a744f2abca9b46ad08a607d": {
      "model_module": "@jupyter-widgets/base",
      "model_module_version": "1.0.0",
      "model_name": "LayoutModel",
      "state": {}
     },
     "6c749caf073a4e7894ebaca6a97f4540": {
      "model_module": "@jupyter-widgets/controls",
      "model_module_version": "1.2.0",
      "model_name": "IntProgressModel",
      "state": {
       "description": "Epoch 1",
       "layout": "IPY_MODEL_eba2379ccccb40589aa047f1b1769242",
       "max": 20694,
       "style": "IPY_MODEL_b30a79e6e3b64159992aac8f40673fe8",
       "value": 20694
      }
     },
     "6cbeb02fa88b482cae5f2345f27b4d9f": {
      "model_module": "@jupyter-widgets/base",
      "model_module_version": "1.0.0",
      "model_name": "LayoutModel",
      "state": {}
     },
     "6cd1f9e5f1764ecfa3ba225e94bf6aa5": {
      "model_module": "@jupyter-widgets/controls",
      "model_module_version": "1.2.0",
      "model_name": "HBoxModel",
      "state": {
       "children": [
        "IPY_MODEL_cdd10094990c4e42a27d775c486642a0",
        "IPY_MODEL_4c19e155ff3a4817970798cc043587b7"
       ],
       "layout": "IPY_MODEL_60f6cc3340f44e9eac1a0d43c65fc232"
      }
     },
     "6d04589ab5d846b488716ac6068cbbd5": {
      "model_module": "@jupyter-widgets/controls",
      "model_module_version": "1.2.0",
      "model_name": "ProgressStyleModel",
      "state": {
       "description_width": ""
      }
     },
     "6d42241cb8184948a35751b159a05f5f": {
      "model_module": "@jupyter-widgets/controls",
      "model_module_version": "1.2.0",
      "model_name": "HTMLModel",
      "state": {
       "layout": "IPY_MODEL_6c46e7b85a744f2abca9b46ad08a607d",
       "style": "IPY_MODEL_b1ba2ac78ead47fca076484a345657c4",
       "value": "[loss: 0.757, acc: 0.705, val_loss: 0.525, val_acc: 0.811] : 100% 20694/20694 [00:11&lt;00:00, 503.07it/s]"
      }
     },
     "6d9d85f89c0d46e7a9e4d624defdf1ed": {
      "model_module": "@jupyter-widgets/controls",
      "model_module_version": "1.2.0",
      "model_name": "ProgressStyleModel",
      "state": {
       "description_width": ""
      }
     },
     "6dc6da7b86a8410895f456c7baa4f42d": {
      "model_module": "@jupyter-widgets/controls",
      "model_module_version": "1.2.0",
      "model_name": "IntProgressModel",
      "state": {
       "description": "Epoch 11",
       "layout": "IPY_MODEL_9a023986754844e3b275054898616032",
       "max": 20694,
       "style": "IPY_MODEL_944a137ac0064d13a58de9ee283457a4",
       "value": 20694
      }
     },
     "6e6c3c257889464299fbd3fa83741033": {
      "model_module": "@jupyter-widgets/base",
      "model_module_version": "1.0.0",
      "model_name": "LayoutModel",
      "state": {}
     },
     "6f7aaa5058214d4b9b534978edabdfaf": {
      "model_module": "@jupyter-widgets/base",
      "model_module_version": "1.0.0",
      "model_name": "LayoutModel",
      "state": {}
     },
     "6f98d9f8a12847c8b0641e320d4312c7": {
      "model_module": "@jupyter-widgets/controls",
      "model_module_version": "1.2.0",
      "model_name": "DescriptionStyleModel",
      "state": {
       "description_width": ""
      }
     },
     "6fbac48fa0c84df29ae6382534a0dcdb": {
      "model_module": "@jupyter-widgets/controls",
      "model_module_version": "1.2.0",
      "model_name": "ProgressStyleModel",
      "state": {
       "description_width": ""
      }
     },
     "6fe3a39d62584116a989eff7a4cd47b3": {
      "model_module": "@jupyter-widgets/controls",
      "model_module_version": "1.2.0",
      "model_name": "HTMLModel",
      "state": {
       "layout": "IPY_MODEL_0a42667557d249d4a3bcfec70e02c7db",
       "style": "IPY_MODEL_f4635013915a457b9740ebc515ff2432",
       "value": "[loss: 0.379, acc: 0.866, val_loss: 0.817, val_acc: 0.682] : 100% 349/349 [05:14&lt;00:00, 27.91s/it]"
      }
     },
     "702875c09a4940f9862ef45a3924d72c": {
      "model_module": "@jupyter-widgets/controls",
      "model_module_version": "1.2.0",
      "model_name": "DescriptionStyleModel",
      "state": {
       "description_width": ""
      }
     },
     "7076ab0118bf47cfb47a64aa0ba6e19c": {
      "model_module": "@jupyter-widgets/controls",
      "model_module_version": "1.2.0",
      "model_name": "IntProgressModel",
      "state": {
       "description": "Epoch 1",
       "layout": "IPY_MODEL_46c46de1d466438ba27def3eb76c010f",
       "max": 20694,
       "style": "IPY_MODEL_2a4c3ee0dab34281883ee803ed0a30b7",
       "value": 20694
      }
     },
     "710bd72b25f1425a9673a065dbdf4ba6": {
      "model_module": "@jupyter-widgets/base",
      "model_module_version": "1.0.0",
      "model_name": "LayoutModel",
      "state": {}
     },
     "72251e04b2404e429a5a924dadceb504": {
      "model_module": "@jupyter-widgets/controls",
      "model_module_version": "1.2.0",
      "model_name": "IntProgressModel",
      "state": {
       "description": "Epoch 0",
       "layout": "IPY_MODEL_e10d320c39264dba8b2ae79944dbfd61",
       "max": 20694,
       "style": "IPY_MODEL_f2a09611a73c46c2930661421a706d4e",
       "value": 20694
      }
     },
     "722d3385be9e42c8b16d34d9dde4bb63": {
      "model_module": "@jupyter-widgets/base",
      "model_module_version": "1.0.0",
      "model_name": "LayoutModel",
      "state": {}
     },
     "72702044247c4c79b938ff2f4ebd5354": {
      "model_module": "@jupyter-widgets/controls",
      "model_module_version": "1.2.0",
      "model_name": "HTMLModel",
      "state": {
       "layout": "IPY_MODEL_8b921abbbc754572940d490d89c48a82",
       "style": "IPY_MODEL_21e99862a4444cadb29f4e322f712a88",
       "value": "[loss: 2.903, acc: 0.818, val_loss: 2.547, val_acc: 0.841] : 100% 20694/20694 [02:43&lt;00:00,  5.15it/s]"
      }
     },
     "729700275c384b789a35d4bc3ea2a629": {
      "model_module": "@jupyter-widgets/controls",
      "model_module_version": "1.2.0",
      "model_name": "ProgressStyleModel",
      "state": {
       "description_width": ""
      }
     },
     "73077712dafd4fd39b04ae290e6ea57b": {
      "model_module": "@jupyter-widgets/controls",
      "model_module_version": "1.2.0",
      "model_name": "DescriptionStyleModel",
      "state": {
       "description_width": ""
      }
     },
     "73807002309945098ec074507e2bc5d5": {
      "model_module": "@jupyter-widgets/controls",
      "model_module_version": "1.2.0",
      "model_name": "HTMLModel",
      "state": {
       "layout": "IPY_MODEL_c5f0efa4f5a643b4ba8dad7540493eb1",
       "style": "IPY_MODEL_c4651832faff476e88ca76c1b5158f4e",
       "value": "[loss: 0.356, acc: 0.867, val_loss: 0.360, val_acc: 0.870] : 100% 20694/20694 [00:10&lt;00:00, 396.17it/s]"
      }
     },
     "7381d4d892d142f98323da1841c162b4": {
      "model_module": "@jupyter-widgets/controls",
      "model_module_version": "1.2.0",
      "model_name": "DescriptionStyleModel",
      "state": {
       "description_width": ""
      }
     },
     "7423fd9ebe584af38288a27e3cf4508d": {
      "model_module": "@jupyter-widgets/controls",
      "model_module_version": "1.2.0",
      "model_name": "ProgressStyleModel",
      "state": {
       "description_width": ""
      }
     },
     "74681726527b45ccaf9c1126ce2653f8": {
      "model_module": "@jupyter-widgets/base",
      "model_module_version": "1.0.0",
      "model_name": "LayoutModel",
      "state": {}
     },
     "747dfd852ab0422c9f38cb00034b45d5": {
      "model_module": "@jupyter-widgets/base",
      "model_module_version": "1.0.0",
      "model_name": "LayoutModel",
      "state": {}
     },
     "756ec6ec6168498d951e83ea83dae020": {
      "model_module": "@jupyter-widgets/controls",
      "model_module_version": "1.2.0",
      "model_name": "IntProgressModel",
      "state": {
       "description": "Epoch 15",
       "layout": "IPY_MODEL_63318f757bc443f5b74c4f9a26be0be6",
       "max": 20694,
       "style": "IPY_MODEL_a003032b8b634d0c8cc1c595269e32f8",
       "value": 20694
      }
     },
     "757785ff8f6b4c4abc4109bde9b54697": {
      "model_module": "@jupyter-widgets/controls",
      "model_module_version": "1.2.0",
      "model_name": "IntProgressModel",
      "state": {
       "description": "Epoch 7",
       "layout": "IPY_MODEL_ff5a9e2e2ace450692aacb7a1f004335",
       "max": 20694,
       "style": "IPY_MODEL_6d9d85f89c0d46e7a9e4d624defdf1ed",
       "value": 20694
      }
     },
     "75c30451f8f245848f61c6aca8abd177": {
      "model_module": "@jupyter-widgets/controls",
      "model_module_version": "1.2.0",
      "model_name": "IntProgressModel",
      "state": {
       "description": "Training",
       "layout": "IPY_MODEL_02b53e94533f470982743f5027fc846f",
       "max": 30,
       "style": "IPY_MODEL_c9ec83f25bd24ea7b4b382510123d9c7"
      }
     },
     "7613fd5444984ac1b11108ca9832cb7e": {
      "model_module": "@jupyter-widgets/controls",
      "model_module_version": "1.2.0",
      "model_name": "IntProgressModel",
      "state": {
       "description": "Epoch 4",
       "layout": "IPY_MODEL_2667eac4a36147e4b13bf139a7a8cbf4",
       "max": 324,
       "style": "IPY_MODEL_d6d1bf32f0a14134a62109a01ff62523",
       "value": 324
      }
     },
     "765a7199585c4053b6f790199879f67e": {
      "model_module": "@jupyter-widgets/controls",
      "model_module_version": "1.2.0",
      "model_name": "HBoxModel",
      "state": {
       "children": [
        "IPY_MODEL_050559b88ccb4194b78dda8fd7414036",
        "IPY_MODEL_12e57d86d24f4546a887b06956162350"
       ],
       "layout": "IPY_MODEL_2d16bc531aba481095a7361094c58029"
      }
     },
     "7670ea6f1d174e22b0ece400e0bab4de": {
      "model_module": "@jupyter-widgets/controls",
      "model_module_version": "1.2.0",
      "model_name": "IntProgressModel",
      "state": {
       "description": "Epoch 3",
       "layout": "IPY_MODEL_f9a3d6d6de6e4f508bd0ad062869413c",
       "max": 349,
       "style": "IPY_MODEL_89f2ba5f699347d7910ca93f3c1d876d",
       "value": 349
      }
     },
     "769e10b58b81486dbca138778b68a8b5": {
      "model_module": "@jupyter-widgets/controls",
      "model_module_version": "1.2.0",
      "model_name": "IntProgressModel",
      "state": {
       "description": "Epoch 9",
       "layout": "IPY_MODEL_9178c392ac8d4ba5b700bc9c3632fb30",
       "max": 20694,
       "style": "IPY_MODEL_ebd0f49348274e50a958cba54702f97c",
       "value": 20694
      }
     },
     "7707c5da92b54404a15cc6e0fb0fbc78": {
      "model_module": "@jupyter-widgets/controls",
      "model_module_version": "1.2.0",
      "model_name": "IntProgressModel",
      "state": {
       "description": "Epoch 1",
       "layout": "IPY_MODEL_6509cbebe9bd4b049a189553bf9113ea",
       "max": 20694,
       "style": "IPY_MODEL_9bdad1b59baf445da83766f1c2bc460d",
       "value": 20694
      }
     },
     "7722f0a9bcc444af897bc637a99a993c": {
      "model_module": "@jupyter-widgets/controls",
      "model_module_version": "1.2.0",
      "model_name": "ProgressStyleModel",
      "state": {
       "description_width": ""
      }
     },
     "77b02e1287e54044afd28c2a59c4daac": {
      "model_module": "@jupyter-widgets/controls",
      "model_module_version": "1.2.0",
      "model_name": "HTMLModel",
      "state": {
       "layout": "IPY_MODEL_6cbeb02fa88b482cae5f2345f27b4d9f",
       "style": "IPY_MODEL_d18376cf39a44709b2942c9f78d4c1a3",
       "value": "[loss: 1.701, acc: 0.293, val_loss: 1.322, val_acc: 0.577] : 100% 1294/1294 [05:01&lt;00:00, 26.16s/it]"
      }
     },
     "77e25f6075134a9e8351519e9952a4ac": {
      "model_module": "@jupyter-widgets/controls",
      "model_module_version": "1.2.0",
      "model_name": "HTMLModel",
      "state": {
       "layout": "IPY_MODEL_ffb762bd6ea64d67a9516df1ab0f9edd",
       "style": "IPY_MODEL_d626beff66084bfb917e85782dac536b",
       "value": "  0% 0/4688 [00:00&lt;?, ?it/s]"
      }
     },
     "783949420041479f8c15f52c92ac7712": {
      "model_module": "@jupyter-widgets/controls",
      "model_module_version": "1.2.0",
      "model_name": "HTMLModel",
      "state": {
       "layout": "IPY_MODEL_fee00ed27b7e4d7e9f918fc83c28538f",
       "style": "IPY_MODEL_c3b6d36e1b4e4c6e867e8d143f20c138",
       "value": "[loss: 0.757, acc: 0.705, val_loss: 0.525, val_acc: 0.811] : 100% 20694/20694 [00:10&lt;00:00, 359.17it/s]"
      }
     },
     "78d4fabc863f4a05bcb737ff9fa7d70e": {
      "model_module": "@jupyter-widgets/controls",
      "model_module_version": "1.2.0",
      "model_name": "HTMLModel",
      "state": {
       "layout": "IPY_MODEL_f160acdc65c04e8f8dc12d1941e12c55",
       "style": "IPY_MODEL_d2dc3b1c7368481e91d8d8efff07c734",
       "value": "[loss: 2.788, acc: 0.825, val_loss: 2.322, val_acc: 0.855] : 100% 20694/20694 [02:44&lt;00:00,  5.15it/s]"
      }
     },
     "79b9051a987c43dca5637d3fa121e855": {
      "model_module": "@jupyter-widgets/base",
      "model_module_version": "1.0.0",
      "model_name": "LayoutModel",
      "state": {}
     },
     "79d41027db964fd68a75aa7e2a7be218": {
      "model_module": "@jupyter-widgets/controls",
      "model_module_version": "1.2.0",
      "model_name": "ProgressStyleModel",
      "state": {
       "description_width": ""
      }
     },
     "7a86409d25394474a3ccb3d773618c54": {
      "model_module": "@jupyter-widgets/controls",
      "model_module_version": "1.2.0",
      "model_name": "ProgressStyleModel",
      "state": {
       "description_width": ""
      }
     },
     "7af59f2ae6be45aa81968888b7193235": {
      "model_module": "@jupyter-widgets/controls",
      "model_module_version": "1.2.0",
      "model_name": "HTMLModel",
      "state": {
       "layout": "IPY_MODEL_f1eeddc9edc944f8ae5d8687616d69e3",
       "style": "IPY_MODEL_0cc6037ffde745a78aa3873733c39358",
       "value": "[loss: 0.382, acc: 0.866, val_loss: 0.815, val_acc: 0.713] : 100% 319/319 [04:52&lt;00:00, 26.08s/it]"
      }
     },
     "7b3d8f7b7545425b83eca8053985f4ee": {
      "model_module": "@jupyter-widgets/base",
      "model_module_version": "1.0.0",
      "model_name": "LayoutModel",
      "state": {}
     },
     "7b80b8d2f8794fcdbde51683001c60c7": {
      "model_module": "@jupyter-widgets/controls",
      "model_module_version": "1.2.0",
      "model_name": "DescriptionStyleModel",
      "state": {
       "description_width": ""
      }
     },
     "7bd9277a612d4f9ebabe10b66bcf9909": {
      "model_module": "@jupyter-widgets/controls",
      "model_module_version": "1.2.0",
      "model_name": "IntProgressModel",
      "state": {
       "description": "Epoch 2",
       "layout": "IPY_MODEL_bf3fb00d329a4ca2ba737378d77b8397",
       "max": 20694,
       "style": "IPY_MODEL_2521b2b4505b40ba916fad3dda9957cb",
       "value": 20694
      }
     },
     "7c9fe42c9dd649158713421ab48a4369": {
      "model_module": "@jupyter-widgets/base",
      "model_module_version": "1.0.0",
      "model_name": "LayoutModel",
      "state": {}
     },
     "7d0d0a927d3147999ee6021c26e56e36": {
      "model_module": "@jupyter-widgets/controls",
      "model_module_version": "1.2.0",
      "model_name": "ProgressStyleModel",
      "state": {
       "description_width": ""
      }
     },
     "7d2bc8d50d7346a28010867a1242f060": {
      "model_module": "@jupyter-widgets/controls",
      "model_module_version": "1.2.0",
      "model_name": "DescriptionStyleModel",
      "state": {
       "description_width": ""
      }
     },
     "7e54368759e04cfc9fb44c417386cdb4": {
      "model_module": "@jupyter-widgets/controls",
      "model_module_version": "1.2.0",
      "model_name": "IntProgressModel",
      "state": {
       "description": "Epoch 8",
       "layout": "IPY_MODEL_a9052b886a59401ab5a01e9cf955eb3f",
       "max": 20694,
       "style": "IPY_MODEL_d092435f79e34c40b6eaf0e7f42c3f18",
       "value": 20694
      }
     },
     "7e74e94b8da1415ab01ca68232679588": {
      "model_module": "@jupyter-widgets/controls",
      "model_module_version": "1.2.0",
      "model_name": "DescriptionStyleModel",
      "state": {
       "description_width": ""
      }
     },
     "7eeb27fa863e417fa28f37115dec4a49": {
      "model_module": "@jupyter-widgets/base",
      "model_module_version": "1.0.0",
      "model_name": "LayoutModel",
      "state": {}
     },
     "7f56ed2ce331432cbe9d6bc016b04801": {
      "model_module": "@jupyter-widgets/base",
      "model_module_version": "1.0.0",
      "model_name": "LayoutModel",
      "state": {}
     },
     "7ff4b5bb5329413cae63113023306594": {
      "model_module": "@jupyter-widgets/controls",
      "model_module_version": "1.2.0",
      "model_name": "HTMLModel",
      "state": {
       "layout": "IPY_MODEL_a18a2efc3e534d1db961d1b6b5a8e8cd",
       "style": "IPY_MODEL_519272c873a34eb9b437a9c528b61486",
       "value": "[loss: 0.398, acc: 0.853, val_loss: 0.367, val_acc: 0.867] : 100% 20694/20694 [00:10&lt;00:00, 290.15it/s]"
      }
     },
     "8027ffc99ecf4c28925ab0c0dbac264f": {
      "model_module": "@jupyter-widgets/controls",
      "model_module_version": "1.2.0",
      "model_name": "HTMLModel",
      "state": {
       "layout": "IPY_MODEL_1c8f2dda18ee462ca0fb1b0082e54e4e",
       "style": "IPY_MODEL_6577d8de2f48434293e33fed4d3b6c5f",
       "value": "[loss: 0.393, acc: 0.851, val_loss: 0.353, val_acc: 0.875] : 100% 20694/20694 [00:10&lt;00:00, 523.83it/s]"
      }
     },
     "806ae8a3e1054e04a2848ee0e1884291": {
      "model_module": "@jupyter-widgets/controls",
      "model_module_version": "1.2.0",
      "model_name": "IntProgressModel",
      "state": {
       "description": "Epoch 4",
       "layout": "IPY_MODEL_8428ad961cad4a3e888a520497f6efb7",
       "max": 319,
       "style": "IPY_MODEL_027c1caf61084364b53686328c26b021",
       "value": 319
      }
     },
     "814254f424e74af2b6ad6d797ef41aa5": {
      "model_module": "@jupyter-widgets/controls",
      "model_module_version": "1.2.0",
      "model_name": "IntProgressModel",
      "state": {
       "bar_style": "danger",
       "description": "Training",
       "layout": "IPY_MODEL_250ce22fea684dcf83b0a175a47c1d9e",
       "max": 30,
       "style": "IPY_MODEL_8b9ab60a5c034fe1a5949c164cd7c5ab",
       "value": 18
      }
     },
     "8162424ddab84bf6a6edede950499b6b": {
      "model_module": "@jupyter-widgets/base",
      "model_module_version": "1.0.0",
      "model_name": "LayoutModel",
      "state": {}
     },
     "818cc8a1918443c983db16855a0678f7": {
      "model_module": "@jupyter-widgets/base",
      "model_module_version": "1.0.0",
      "model_name": "LayoutModel",
      "state": {}
     },
     "81acfcd9938444ad95353ae19250a8e3": {
      "model_module": "@jupyter-widgets/controls",
      "model_module_version": "1.2.0",
      "model_name": "DescriptionStyleModel",
      "state": {
       "description_width": ""
      }
     },
     "81b801936b3c4c62923203d223563184": {
      "model_module": "@jupyter-widgets/controls",
      "model_module_version": "1.2.0",
      "model_name": "HTMLModel",
      "state": {
       "layout": "IPY_MODEL_be9535a611eb47e2984f6f4f35fe52f0",
       "style": "IPY_MODEL_5b5f9bdf50cd4e048549ae526b6662f1",
       "value": "[loss: 0.528, acc: 0.804, val_loss: 0.458, val_acc: 0.824] : 100% 20694/20694 [00:10&lt;00:00, 612.87it/s]"
      }
     },
     "81e3032696704bb982055ebe8f353d6b": {
      "model_module": "@jupyter-widgets/base",
      "model_module_version": "1.0.0",
      "model_name": "LayoutModel",
      "state": {}
     },
     "829dd17ba2f54996b75d8f0144226b7f": {
      "model_module": "@jupyter-widgets/base",
      "model_module_version": "1.0.0",
      "model_name": "LayoutModel",
      "state": {}
     },
     "82d361437f5e475badc269e7b06f23b5": {
      "model_module": "@jupyter-widgets/controls",
      "model_module_version": "1.2.0",
      "model_name": "HTMLModel",
      "state": {
       "layout": "IPY_MODEL_d8fc696de7e742f0b5c1d08f7f93db06",
       "style": "IPY_MODEL_286761890ca7473394c6e44e8c7e9265",
       "value": " 60% 18/30 [03:06&lt;02:03, 10.26s/it]"
      }
     },
     "82ead87e90b94e8fafe49f8f962aad24": {
      "model_module": "@jupyter-widgets/controls",
      "model_module_version": "1.2.0",
      "model_name": "DescriptionStyleModel",
      "state": {
       "description_width": ""
      }
     },
     "83630e96c12a44a6ac69fab56343c35a": {
      "model_module": "@jupyter-widgets/controls",
      "model_module_version": "1.2.0",
      "model_name": "IntProgressModel",
      "state": {
       "description": "Epoch 2",
       "layout": "IPY_MODEL_22303f3f842e4a6bb878bce7ed72571d",
       "max": 1294,
       "style": "IPY_MODEL_c00aed2c535f4701bc5fbe9ecd335278",
       "value": 1294
      }
     },
     "83c67bcdcdfa4e78bfce882903d2e43a": {
      "model_module": "@jupyter-widgets/controls",
      "model_module_version": "1.2.0",
      "model_name": "DescriptionStyleModel",
      "state": {
       "description_width": ""
      }
     },
     "83e25c22483b4b669f72aa9a47d7f200": {
      "model_module": "@jupyter-widgets/controls",
      "model_module_version": "1.2.0",
      "model_name": "DescriptionStyleModel",
      "state": {
       "description_width": ""
      }
     },
     "8428ad961cad4a3e888a520497f6efb7": {
      "model_module": "@jupyter-widgets/base",
      "model_module_version": "1.0.0",
      "model_name": "LayoutModel",
      "state": {}
     },
     "845e6a5d3fcf44758051d771eecd3b46": {
      "model_module": "@jupyter-widgets/base",
      "model_module_version": "1.0.0",
      "model_name": "LayoutModel",
      "state": {}
     },
     "849addfbcebe485784c8613487908f84": {
      "model_module": "@jupyter-widgets/controls",
      "model_module_version": "1.2.0",
      "model_name": "HTMLModel",
      "state": {
       "layout": "IPY_MODEL_44f38adc041c4afeb49b956b3513e0fc",
       "style": "IPY_MODEL_9d4546fc369b4449bd8574fef8b974d6",
       "value": "[loss: 3.322, acc: 0.790, val_loss: 2.904, val_acc: 0.817] : 100% 20694/20694 [02:41&lt;00:00,  5.90it/s]"
      }
     },
     "84bdac89d61f48b4a756ac523fbb025d": {
      "model_module": "@jupyter-widgets/controls",
      "model_module_version": "1.2.0",
      "model_name": "IntProgressModel",
      "state": {
       "description": "Epoch 6",
       "layout": "IPY_MODEL_c4955cc727b34f509fa86ddb9407b369",
       "max": 20694,
       "style": "IPY_MODEL_1ef3274d467e4b21b0bf7251831d6cf4",
       "value": 20694
      }
     },
     "84db3f3178bb403c9dfae34a9f1ece39": {
      "model_module": "@jupyter-widgets/controls",
      "model_module_version": "1.2.0",
      "model_name": "IntProgressModel",
      "state": {
       "description": "Epoch 2",
       "layout": "IPY_MODEL_c1b310d3d9f545c69f4a355d22e550b0",
       "max": 20694,
       "style": "IPY_MODEL_d5602b309b4943bd995f4e16695851a5",
       "value": 20694
      }
     },
     "84fcbc7734c547e3ae5a0a70248b4ed2": {
      "model_module": "@jupyter-widgets/controls",
      "model_module_version": "1.2.0",
      "model_name": "DescriptionStyleModel",
      "state": {
       "description_width": ""
      }
     },
     "850ff41befd945feb39cf8a626759d02": {
      "model_module": "@jupyter-widgets/base",
      "model_module_version": "1.0.0",
      "model_name": "LayoutModel",
      "state": {}
     },
     "8521b5cdd9304978a7cd2ed8bd28f378": {
      "model_module": "@jupyter-widgets/controls",
      "model_module_version": "1.2.0",
      "model_name": "HTMLModel",
      "state": {
       "layout": "IPY_MODEL_79b9051a987c43dca5637d3fa121e855",
       "style": "IPY_MODEL_c9200b9a22a74a5f922d2bc26494d722",
       "value": "[loss: 0.575, acc: 0.783, val_loss: 0.463, val_acc: 0.831] : 100% 20694/20694 [00:10&lt;00:00, 283.65it/s]"
      }
     },
     "855166b1bc514ff4bee9d3a3ef91c44e": {
      "model_module": "@jupyter-widgets/controls",
      "model_module_version": "1.2.0",
      "model_name": "HBoxModel",
      "state": {
       "children": [
        "IPY_MODEL_75c30451f8f245848f61c6aca8abd177",
        "IPY_MODEL_159fd69dd9d0460b83f8d3a26cfab65a"
       ],
       "layout": "IPY_MODEL_0eb06a63ae51465a8bd5a7af9c54d2d1"
      }
     },
     "85ebaa1e350040db85a6cb0f032b9d8f": {
      "model_module": "@jupyter-widgets/base",
      "model_module_version": "1.0.0",
      "model_name": "LayoutModel",
      "state": {}
     },
     "863f1f3d5b6c4c3d80e5700f13a731b1": {
      "model_module": "@jupyter-widgets/controls",
      "model_module_version": "1.2.0",
      "model_name": "IntProgressModel",
      "state": {
       "description": "Epoch 6",
       "layout": "IPY_MODEL_0a8007af21df41e7b30608fa74e6bcd5",
       "max": 20694,
       "style": "IPY_MODEL_729700275c384b789a35d4bc3ea2a629",
       "value": 20694
      }
     },
     "86501cd084264b7caca6f555e1c30e11": {
      "model_module": "@jupyter-widgets/controls",
      "model_module_version": "1.2.0",
      "model_name": "HTMLModel",
      "state": {
       "layout": "IPY_MODEL_bdd99500cff745c1a03d658ca2de5636",
       "style": "IPY_MODEL_6f98d9f8a12847c8b0641e320d4312c7",
       "value": "[loss: 2.823, acc: 0.824, val_loss: 2.520, val_acc: 0.842] : 100% 20694/20694 [02:42&lt;00:00,  5.88it/s]"
      }
     },
     "870d538fd7a547e9a35ea6a8d4bbb540": {
      "model_module": "@jupyter-widgets/base",
      "model_module_version": "1.0.0",
      "model_name": "LayoutModel",
      "state": {}
     },
     "874295112f9449d89a3e58db70c10d43": {
      "model_module": "@jupyter-widgets/base",
      "model_module_version": "1.0.0",
      "model_name": "LayoutModel",
      "state": {}
     },
     "8743fa351dfa4b0a8f7910b51c97f152": {
      "model_module": "@jupyter-widgets/controls",
      "model_module_version": "1.2.0",
      "model_name": "IntProgressModel",
      "state": {
       "description": "Epoch 2",
       "layout": "IPY_MODEL_4e9dbca1cf1340219c326c23a2062056",
       "max": 20694,
       "style": "IPY_MODEL_f1c6592ad1334c239310326786490e04",
       "value": 20694
      }
     },
     "8756ce67e1d14d4b98a7f02bcc47b7d6": {
      "model_module": "@jupyter-widgets/base",
      "model_module_version": "1.0.0",
      "model_name": "LayoutModel",
      "state": {}
     },
     "876e55c694344ce3841a4e28a019d87c": {
      "model_module": "@jupyter-widgets/controls",
      "model_module_version": "1.2.0",
      "model_name": "IntProgressModel",
      "state": {
       "bar_style": "danger",
       "description": "Training",
       "layout": "IPY_MODEL_aad98a8978a440a7a7ce62bc1c34bc0c",
       "max": 30,
       "style": "IPY_MODEL_f38caa8dbed5446a8715a34dc036a28d",
       "value": 5
      }
     },
     "87aac39ae0dc4587967e511fca13b20f": {
      "model_module": "@jupyter-widgets/base",
      "model_module_version": "1.0.0",
      "model_name": "LayoutModel",
      "state": {}
     },
     "8809b315712d49328e6ce7d38b8a66a3": {
      "model_module": "@jupyter-widgets/base",
      "model_module_version": "1.0.0",
      "model_name": "LayoutModel",
      "state": {}
     },
     "8890622b2f9546b4911f67c19413abfd": {
      "model_module": "@jupyter-widgets/controls",
      "model_module_version": "1.2.0",
      "model_name": "DescriptionStyleModel",
      "state": {
       "description_width": ""
      }
     },
     "88b602f6f31d43d99c609eb802f8c105": {
      "model_module": "@jupyter-widgets/controls",
      "model_module_version": "1.2.0",
      "model_name": "DescriptionStyleModel",
      "state": {
       "description_width": ""
      }
     },
     "8929f2ecf0e947d0b3d1522b8a91c9bc": {
      "model_module": "@jupyter-widgets/controls",
      "model_module_version": "1.2.0",
      "model_name": "IntProgressModel",
      "state": {
       "description": "Epoch 12",
       "layout": "IPY_MODEL_503d4fce123741d8b38af3700ee37c0f",
       "max": 20694,
       "style": "IPY_MODEL_8e240682933d4dd5b7dc61f836ed8c7f",
       "value": 20694
      }
     },
     "89f2ba5f699347d7910ca93f3c1d876d": {
      "model_module": "@jupyter-widgets/controls",
      "model_module_version": "1.2.0",
      "model_name": "ProgressStyleModel",
      "state": {
       "description_width": ""
      }
     },
     "8a69151767044f40b74216ac7c0806ff": {
      "model_module": "@jupyter-widgets/controls",
      "model_module_version": "1.2.0",
      "model_name": "IntProgressModel",
      "state": {
       "description": "Epoch 1",
       "layout": "IPY_MODEL_13d3ef13d40f432a9f6c982dc7bfa976",
       "max": 349,
       "style": "IPY_MODEL_e5d505f1f90a493898ab0b3685d2a4e3",
       "value": 349
      }
     },
     "8b921abbbc754572940d490d89c48a82": {
      "model_module": "@jupyter-widgets/base",
      "model_module_version": "1.0.0",
      "model_name": "LayoutModel",
      "state": {}
     },
     "8b9ab60a5c034fe1a5949c164cd7c5ab": {
      "model_module": "@jupyter-widgets/controls",
      "model_module_version": "1.2.0",
      "model_name": "ProgressStyleModel",
      "state": {
       "description_width": ""
      }
     },
     "8bdb080021374ae1a413101d39e9e088": {
      "model_module": "@jupyter-widgets/base",
      "model_module_version": "1.0.0",
      "model_name": "LayoutModel",
      "state": {}
     },
     "8bfe02626f38433bbf36c09d862b9151": {
      "model_module": "@jupyter-widgets/base",
      "model_module_version": "1.0.0",
      "model_name": "LayoutModel",
      "state": {}
     },
     "8c49299361164ce79f81c44ae55efe64": {
      "model_module": "@jupyter-widgets/base",
      "model_module_version": "1.0.0",
      "model_name": "LayoutModel",
      "state": {}
     },
     "8c5b1768e7774273ac187f93f9328e12": {
      "model_module": "@jupyter-widgets/controls",
      "model_module_version": "1.2.0",
      "model_name": "DescriptionStyleModel",
      "state": {
       "description_width": ""
      }
     },
     "8c7722c962514f9ea86c1aff1ccc676a": {
      "model_module": "@jupyter-widgets/controls",
      "model_module_version": "1.2.0",
      "model_name": "IntProgressModel",
      "state": {
       "bar_style": "danger",
       "description": "Training",
       "layout": "IPY_MODEL_a98c0eee79fd4eb0aa89ac0856a13003",
       "max": 30,
       "style": "IPY_MODEL_2ae62fbf4f2a48b0b04c7f849e9bb42d",
       "value": 9
      }
     },
     "8e124430f259476c99f61692ff52c5a2": {
      "model_module": "@jupyter-widgets/controls",
      "model_module_version": "1.2.0",
      "model_name": "IntProgressModel",
      "state": {
       "description": "Epoch 0",
       "layout": "IPY_MODEL_bdaa7b7949d9464ba57f983879865731",
       "max": 1294,
       "style": "IPY_MODEL_fa6688eb4e894a30895c1bcfaf517dc2",
       "value": 1294
      }
     },
     "8e240682933d4dd5b7dc61f836ed8c7f": {
      "model_module": "@jupyter-widgets/controls",
      "model_module_version": "1.2.0",
      "model_name": "ProgressStyleModel",
      "state": {
       "description_width": ""
      }
     },
     "8e4b167db97246eab8b5c32261dd9fc3": {
      "model_module": "@jupyter-widgets/base",
      "model_module_version": "1.0.0",
      "model_name": "LayoutModel",
      "state": {}
     },
     "8e6afccf23d142ca8b79f98a3eb97370": {
      "model_module": "@jupyter-widgets/controls",
      "model_module_version": "1.2.0",
      "model_name": "HTMLModel",
      "state": {
       "layout": "IPY_MODEL_c11c5c18a68e407a94011a76fd1f278c",
       "style": "IPY_MODEL_0c9a26a877494a65a50f492842b1ded6",
       "value": "[loss: 2.860, acc: 0.821, val_loss: 2.440, val_acc: 0.848] : 100% 20694/20694 [02:44&lt;00:00,  5.09it/s]"
      }
     },
     "8ead55900b0e4e92a171461d0a512e4e": {
      "model_module": "@jupyter-widgets/base",
      "model_module_version": "1.0.0",
      "model_name": "LayoutModel",
      "state": {}
     },
     "8eb7af4a6b644f3ea330f50e44470da2": {
      "model_module": "@jupyter-widgets/base",
      "model_module_version": "1.0.0",
      "model_name": "LayoutModel",
      "state": {}
     },
     "8ee983b7816944608ba942d88f444d66": {
      "model_module": "@jupyter-widgets/controls",
      "model_module_version": "1.2.0",
      "model_name": "HTMLModel",
      "state": {
       "layout": "IPY_MODEL_5880f199e9a54d5781384aa19259effe",
       "style": "IPY_MODEL_cafec43b67b442e4a64c9f8103493028",
       "value": " 20% 6/30 [40:54&lt;2:43:55, 409.83s/it]"
      }
     },
     "8f78e25357844ebcb20810e36ec04788": {
      "model_module": "@jupyter-widgets/base",
      "model_module_version": "1.0.0",
      "model_name": "LayoutModel",
      "state": {}
     },
     "8f7e7656b9c942989f91949205238f5e": {
      "model_module": "@jupyter-widgets/controls",
      "model_module_version": "1.2.0",
      "model_name": "HTMLModel",
      "state": {
       "layout": "IPY_MODEL_a80ebbb06e854ee3bcfbd4d4fe79f1e5",
       "style": "IPY_MODEL_4d5a3c9f0c994427b9c79a74fef5ec12",
       "value": "[loss: 0.403, acc: 0.851, val_loss: 0.384, val_acc: 0.860] : 100% 20694/20694 [00:10&lt;00:00, 388.86it/s]"
      }
     },
     "8f83e7d8447f4a70bee29ee33229a295": {
      "model_module": "@jupyter-widgets/controls",
      "model_module_version": "1.2.0",
      "model_name": "ProgressStyleModel",
      "state": {
       "description_width": ""
      }
     },
     "904d37257f2a4d1d8d81b4c8aa960787": {
      "model_module": "@jupyter-widgets/controls",
      "model_module_version": "1.2.0",
      "model_name": "ProgressStyleModel",
      "state": {
       "description_width": ""
      }
     },
     "908224096a804822ad9d19356b503f75": {
      "model_module": "@jupyter-widgets/base",
      "model_module_version": "1.0.0",
      "model_name": "LayoutModel",
      "state": {}
     },
     "90f27525690b4f47acd0d00a94492f69": {
      "model_module": "@jupyter-widgets/controls",
      "model_module_version": "1.2.0",
      "model_name": "HTMLModel",
      "state": {
       "layout": "IPY_MODEL_8756ce67e1d14d4b98a7f02bcc47b7d6",
       "style": "IPY_MODEL_f6ed3f73f98e4020b881695753b6fa0d",
       "value": "[loss: 2.962, acc: 0.815, val_loss: 3.053, val_acc: 0.809] : 100% 20694/20694 [02:42&lt;00:00,  5.91it/s]"
      }
     },
     "9178c392ac8d4ba5b700bc9c3632fb30": {
      "model_module": "@jupyter-widgets/base",
      "model_module_version": "1.0.0",
      "model_name": "LayoutModel",
      "state": {}
     },
     "920a67304d2c4d119fe7156081965fb6": {
      "model_module": "@jupyter-widgets/controls",
      "model_module_version": "1.2.0",
      "model_name": "IntProgressModel",
      "state": {
       "description": "Epoch 5",
       "layout": "IPY_MODEL_26fcfdcf9684437f8ccb40a7a6359af8",
       "max": 319,
       "style": "IPY_MODEL_cf757be0692e4a0fa160a43ad4ff6383",
       "value": 319
      }
     },
     "9321194080a7434b9d3e7c4d32fd0ef5": {
      "model_module": "@jupyter-widgets/controls",
      "model_module_version": "1.2.0",
      "model_name": "HTMLModel",
      "state": {
       "layout": "IPY_MODEL_0be9b4558c4540288f66de9fa2b3a9d2",
       "style": "IPY_MODEL_c351f675623a48368f2c1cbaee540dfd",
       "value": "[loss: 3.660, acc: 0.762, val_loss: 2.758, val_acc: 0.826] : 100% 20694/20694 [02:44&lt;00:00,  5.68it/s]"
      }
     },
     "9330c819b9b44db3b3c91a15a94b84fb": {
      "model_module": "@jupyter-widgets/base",
      "model_module_version": "1.0.0",
      "model_name": "LayoutModel",
      "state": {}
     },
     "9352e5db7ded45bda9e11cb29363b09d": {
      "model_module": "@jupyter-widgets/controls",
      "model_module_version": "1.2.0",
      "model_name": "DescriptionStyleModel",
      "state": {
       "description_width": ""
      }
     },
     "93630b591ca84655a4d879d315f7e59b": {
      "model_module": "@jupyter-widgets/controls",
      "model_module_version": "1.2.0",
      "model_name": "HTMLModel",
      "state": {
       "layout": "IPY_MODEL_8ead55900b0e4e92a171461d0a512e4e",
       "style": "IPY_MODEL_ddf56ba2837648d8b47e53626c9aa34a",
       "value": "[loss: 0.575, acc: 0.783, val_loss: 0.463, val_acc: 0.831] : 100% 20694/20694 [00:10&lt;00:00, 79.74it/s]"
      }
     },
     "93afeb987a824b4bbdcd561d53048470": {
      "model_module": "@jupyter-widgets/controls",
      "model_module_version": "1.2.0",
      "model_name": "HBoxModel",
      "state": {
       "children": [
        "IPY_MODEL_3f5ce5d495a24012b3d191ce663b8898",
        "IPY_MODEL_95833cc1c40c4e889ed21103c3091257"
       ],
       "layout": "IPY_MODEL_3c141ec6d9a545e68d267a81d7b880b6"
      }
     },
     "93def6c3beed44a4b93f7b8a1ac9bc18": {
      "model_module": "@jupyter-widgets/controls",
      "model_module_version": "1.2.0",
      "model_name": "ProgressStyleModel",
      "state": {
       "description_width": ""
      }
     },
     "943d7bcd67d14bf2b6668dc61d73a029": {
      "model_module": "@jupyter-widgets/base",
      "model_module_version": "1.0.0",
      "model_name": "LayoutModel",
      "state": {}
     },
     "944a137ac0064d13a58de9ee283457a4": {
      "model_module": "@jupyter-widgets/controls",
      "model_module_version": "1.2.0",
      "model_name": "ProgressStyleModel",
      "state": {
       "description_width": ""
      }
     },
     "94d8856669364866929249ebeb6846f5": {
      "model_module": "@jupyter-widgets/base",
      "model_module_version": "1.0.0",
      "model_name": "LayoutModel",
      "state": {}
     },
     "9540fd507df94c10a737a59d67bc3fe0": {
      "model_module": "@jupyter-widgets/base",
      "model_module_version": "1.0.0",
      "model_name": "LayoutModel",
      "state": {}
     },
     "95833cc1c40c4e889ed21103c3091257": {
      "model_module": "@jupyter-widgets/controls",
      "model_module_version": "1.2.0",
      "model_name": "HTMLModel",
      "state": {
       "layout": "IPY_MODEL_b2ef9b45403d4bd9906da6a38812f9a5",
       "style": "IPY_MODEL_f591a84d1bea4436918f773ced361aca",
       "value": " 17% 5/30 [33:10&lt;2:53:51, 417.26s/it]"
      }
     },
     "95e11a7696694e349e8cb2cc8d5b5e06": {
      "model_module": "@jupyter-widgets/base",
      "model_module_version": "1.0.0",
      "model_name": "LayoutModel",
      "state": {}
     },
     "97ffb86e75ce45b5af1022c5f2e436c2": {
      "model_module": "@jupyter-widgets/controls",
      "model_module_version": "1.2.0",
      "model_name": "ProgressStyleModel",
      "state": {
       "description_width": ""
      }
     },
     "98523b73096e49b5847f8c01ad016493": {
      "model_module": "@jupyter-widgets/controls",
      "model_module_version": "1.2.0",
      "model_name": "IntProgressModel",
      "state": {
       "description": "Epoch 0",
       "layout": "IPY_MODEL_45370e56ebea402994a6f43876b5fcd3",
       "max": 324,
       "style": "IPY_MODEL_57e50be6e0f44f03ba01add064ae5e64",
       "value": 324
      }
     },
     "9875dadd9f254462950768ecadac5dc0": {
      "model_module": "@jupyter-widgets/controls",
      "model_module_version": "1.2.0",
      "model_name": "ProgressStyleModel",
      "state": {
       "description_width": ""
      }
     },
     "99253797075f47ba917695ab25b73049": {
      "model_module": "@jupyter-widgets/controls",
      "model_module_version": "1.2.0",
      "model_name": "HTMLModel",
      "state": {
       "layout": "IPY_MODEL_bf365817cc95475f8c6ceefaecc9ea45",
       "style": "IPY_MODEL_e9da98fec88f4de9b55388a9aa099ead",
       "value": " 27% 8/30 [01:24&lt;03:51, 10.53s/it]"
      }
     },
     "9994e32e1eeb46fc914d60249bab9a20": {
      "model_module": "@jupyter-widgets/controls",
      "model_module_version": "1.2.0",
      "model_name": "HTMLModel",
      "state": {
       "layout": "IPY_MODEL_747dfd852ab0422c9f38cb00034b45d5",
       "style": "IPY_MODEL_e1eeaba27c0d4b8aad4d7893b3b2069d",
       "value": "[loss: 2.880, acc: 0.820, val_loss: 2.655, val_acc: 0.834] : 100% 20694/20694 [02:41&lt;00:00,  5.85it/s]"
      }
     },
     "99bb7a35b7844987b2f3a1ee392a4516": {
      "model_module": "@jupyter-widgets/controls",
      "model_module_version": "1.2.0",
      "model_name": "HBoxModel",
      "state": {
       "children": [
        "IPY_MODEL_2fdb7572a34f4527a71c581c2cb5b203",
        "IPY_MODEL_fb29a9667c42400c8fe9c05390e3d595"
       ],
       "layout": "IPY_MODEL_c2ddcb37bdcd41f7a162f98f86198fb1"
      }
     },
     "99d3b4ac45f74646971c83ddf7f3443e": {
      "model_module": "@jupyter-widgets/controls",
      "model_module_version": "1.2.0",
      "model_name": "HTMLModel",
      "state": {
       "layout": "IPY_MODEL_34967e48d3cc4efcaacc49bcc2aa13ca",
       "style": "IPY_MODEL_b38670c177874fafb72fd2b721a08eb7",
       "value": "[loss: 3.660, acc: 0.762, val_loss: 2.758, val_acc: 0.826] : 100% 20694/20694 [02:47&lt;00:00,  5.57it/s]"
      }
     },
     "9a023986754844e3b275054898616032": {
      "model_module": "@jupyter-widgets/base",
      "model_module_version": "1.0.0",
      "model_name": "LayoutModel",
      "state": {}
     },
     "9a0f755a1d3e44289aaeb6450979f5cc": {
      "model_module": "@jupyter-widgets/controls",
      "model_module_version": "1.2.0",
      "model_name": "HTMLModel",
      "state": {
       "layout": "IPY_MODEL_943d7bcd67d14bf2b6668dc61d73a029",
       "style": "IPY_MODEL_11ee6cbae1f64c5f9a327f65031f09cd",
       "value": "[loss: 0.351, acc: 0.867, val_loss: 0.352, val_acc: 0.876] : 100% 20694/20694 [00:10&lt;00:00, 477.15it/s]"
      }
     },
     "9a8804b1ff924b5c88c1238b85ffdd4e": {
      "model_module": "@jupyter-widgets/base",
      "model_module_version": "1.0.0",
      "model_name": "LayoutModel",
      "state": {}
     },
     "9a8bf18c707749159bedd3953e8512d3": {
      "model_module": "@jupyter-widgets/base",
      "model_module_version": "1.0.0",
      "model_name": "LayoutModel",
      "state": {}
     },
     "9abd1b6797754066a36e5ec2c46306c0": {
      "model_module": "@jupyter-widgets/base",
      "model_module_version": "1.0.0",
      "model_name": "LayoutModel",
      "state": {}
     },
     "9bd10107ad7041c98d6535a3cd884427": {
      "model_module": "@jupyter-widgets/controls",
      "model_module_version": "1.2.0",
      "model_name": "HTMLModel",
      "state": {
       "layout": "IPY_MODEL_f0e3b7d0cbce438584e83fd95e46db2d",
       "style": "IPY_MODEL_11350d3fbd694d14af3f7a1b1abdbddd",
       "value": "[loss: 2.709, acc: 0.831, val_loss: 2.804, val_acc: 0.825] : 100% 20694/20694 [02:41&lt;00:00,  5.84it/s]"
      }
     },
     "9bdad1b59baf445da83766f1c2bc460d": {
      "model_module": "@jupyter-widgets/controls",
      "model_module_version": "1.2.0",
      "model_name": "ProgressStyleModel",
      "state": {
       "description_width": ""
      }
     },
     "9c46793d831b4f1aa8f56ea2235ceb95": {
      "model_module": "@jupyter-widgets/controls",
      "model_module_version": "1.2.0",
      "model_name": "IntProgressModel",
      "state": {
       "description": "Epoch 14",
       "layout": "IPY_MODEL_6a5e3a10c80d4bb2b553788dfa11f627",
       "max": 20694,
       "style": "IPY_MODEL_7722f0a9bcc444af897bc637a99a993c",
       "value": 20694
      }
     },
     "9c99548e88b24d2090f7be26fbe05396": {
      "model_module": "@jupyter-widgets/controls",
      "model_module_version": "1.2.0",
      "model_name": "HTMLModel",
      "state": {
       "layout": "IPY_MODEL_d803ae6fd7cf4dbdaa4a2ace60eb4150",
       "style": "IPY_MODEL_42894f158cdc4648b12dac67d96dce15",
       "value": "[loss: 0.351, acc: 0.876, val_loss: 0.777, val_acc: 0.718] : 100% 324/324 [04:36&lt;00:00, 24.39s/it]"
      }
     },
     "9cd07f5693d849a5a466ddd77b0da3c1": {
      "model_module": "@jupyter-widgets/controls",
      "model_module_version": "1.2.0",
      "model_name": "ProgressStyleModel",
      "state": {
       "description_width": ""
      }
     },
     "9d4546fc369b4449bd8574fef8b974d6": {
      "model_module": "@jupyter-widgets/controls",
      "model_module_version": "1.2.0",
      "model_name": "DescriptionStyleModel",
      "state": {
       "description_width": ""
      }
     },
     "9d5312e2d14941979fddbec36074c011": {
      "model_module": "@jupyter-widgets/controls",
      "model_module_version": "1.2.0",
      "model_name": "DescriptionStyleModel",
      "state": {
       "description_width": ""
      }
     },
     "9dbb7506996f40a7bf9b9a18010fefa2": {
      "model_module": "@jupyter-widgets/controls",
      "model_module_version": "1.2.0",
      "model_name": "HTMLModel",
      "state": {
       "layout": "IPY_MODEL_c43f9164556f488e918c7a2345456e4e",
       "style": "IPY_MODEL_58236a8315af478aa2560429bf039c1e",
       "value": "[loss: 0.369, acc: 0.859, val_loss: 0.361, val_acc: 0.873] : 100% 20694/20694 [00:10&lt;00:00, 296.17it/s]"
      }
     },
     "9dec392ee67543b1bee34c0dccde5193": {
      "model_module": "@jupyter-widgets/controls",
      "model_module_version": "1.2.0",
      "model_name": "HTMLModel",
      "state": {
       "layout": "IPY_MODEL_667c3e5da96b4cd0933c6fa23648b29d",
       "style": "IPY_MODEL_4fe6d6b15cf84c30925c9775aa8d5d19",
       "value": " 17% 5/30 [23:17&lt;1:56:36, 279.86s/it]"
      }
     },
     "9e5392e1146444acaacc4c20d9fc041e": {
      "model_module": "@jupyter-widgets/base",
      "model_module_version": "1.0.0",
      "model_name": "LayoutModel",
      "state": {}
     },
     "9fc700ae56e8486eb4dd8680e3d0c1ee": {
      "model_module": "@jupyter-widgets/base",
      "model_module_version": "1.0.0",
      "model_name": "LayoutModel",
      "state": {}
     },
     "9fdb3b777c4c4722b2db599f914eaa2e": {
      "model_module": "@jupyter-widgets/base",
      "model_module_version": "1.0.0",
      "model_name": "LayoutModel",
      "state": {}
     },
     "a003032b8b634d0c8cc1c595269e32f8": {
      "model_module": "@jupyter-widgets/controls",
      "model_module_version": "1.2.0",
      "model_name": "ProgressStyleModel",
      "state": {
       "description_width": ""
      }
     },
     "a01f59aa04bd4b7d8aff51bb985baaf8": {
      "model_module": "@jupyter-widgets/controls",
      "model_module_version": "1.2.0",
      "model_name": "HTMLModel",
      "state": {
       "layout": "IPY_MODEL_710bd72b25f1425a9673a065dbdf4ba6",
       "style": "IPY_MODEL_a452e0624f214e5b939b7c5248bc87cf",
       "value": "[loss: 2.987, acc: 0.813, val_loss: 2.551, val_acc: 0.841] : 100% 20694/20694 [02:41&lt;00:00,  5.83it/s]"
      }
     },
     "a029ab8e278c433b805245fb2ab9c9b9": {
      "model_module": "@jupyter-widgets/controls",
      "model_module_version": "1.2.0",
      "model_name": "IntProgressModel",
      "state": {
       "description": "Epoch 0",
       "layout": "IPY_MODEL_0567fbf6fcda4e589127db0628c986f1",
       "max": 349,
       "style": "IPY_MODEL_97ffb86e75ce45b5af1022c5f2e436c2",
       "value": 349
      }
     },
     "a079cd9885e44fb7a3188136969d2831": {
      "model_module": "@jupyter-widgets/base",
      "model_module_version": "1.0.0",
      "model_name": "LayoutModel",
      "state": {}
     },
     "a12a4f4913c3472cbe4cc36c9fdcc7b7": {
      "model_module": "@jupyter-widgets/controls",
      "model_module_version": "1.2.0",
      "model_name": "DescriptionStyleModel",
      "state": {
       "description_width": ""
      }
     },
     "a158987b43b74ebd964d8c5a08d371e6": {
      "model_module": "@jupyter-widgets/base",
      "model_module_version": "1.0.0",
      "model_name": "LayoutModel",
      "state": {}
     },
     "a18a2efc3e534d1db961d1b6b5a8e8cd": {
      "model_module": "@jupyter-widgets/base",
      "model_module_version": "1.0.0",
      "model_name": "LayoutModel",
      "state": {}
     },
     "a22b601d6b864205ac6a73f275e39731": {
      "model_module": "@jupyter-widgets/controls",
      "model_module_version": "1.2.0",
      "model_name": "DescriptionStyleModel",
      "state": {
       "description_width": ""
      }
     },
     "a262e3f036534efb89577b5f9b644585": {
      "model_module": "@jupyter-widgets/controls",
      "model_module_version": "1.2.0",
      "model_name": "ProgressStyleModel",
      "state": {
       "description_width": ""
      }
     },
     "a2ec5bf5555b4c298644b19c6b61c8ee": {
      "model_module": "@jupyter-widgets/controls",
      "model_module_version": "1.2.0",
      "model_name": "HTMLModel",
      "state": {
       "layout": "IPY_MODEL_486db4f0cf564ac0bf4dcecd429b2854",
       "style": "IPY_MODEL_1533e313e1b04c9b9c6d1ecca28f0b7a",
       "value": "[loss: 0.433, acc: 0.842, val_loss: 0.812, val_acc: 0.691] : 100% 349/349 [05:15&lt;00:00, 28.13s/it]"
      }
     },
     "a321131422124e0b81e1dffe0219394f": {
      "model_module": "@jupyter-widgets/controls",
      "model_module_version": "1.2.0",
      "model_name": "HTMLModel",
      "state": {
       "layout": "IPY_MODEL_cdaea40fb60f4f37b8811bccfed3ed30",
       "style": "IPY_MODEL_f805af9cf0434558be514d4e8d4e641c",
       "value": "[loss: 0.504, acc: 0.815, val_loss: 0.416, val_acc: 0.847] : 100% 20694/20694 [00:10&lt;00:00, 185.99it/s]"
      }
     },
     "a369e0802be94f499f6ca5ae9da75a08": {
      "model_module": "@jupyter-widgets/controls",
      "model_module_version": "1.2.0",
      "model_name": "DescriptionStyleModel",
      "state": {
       "description_width": ""
      }
     },
     "a40a0ea0bbf849458c1c4f3188b512c3": {
      "model_module": "@jupyter-widgets/controls",
      "model_module_version": "1.2.0",
      "model_name": "IntProgressModel",
      "state": {
       "description": "Epoch 4",
       "layout": "IPY_MODEL_94d8856669364866929249ebeb6846f5",
       "max": 20694,
       "style": "IPY_MODEL_a71ea4a5d24a4584842fe85a35dd7047",
       "value": 20694
      }
     },
     "a40a8508a71d4712af981a918bd477a3": {
      "model_module": "@jupyter-widgets/base",
      "model_module_version": "1.0.0",
      "model_name": "LayoutModel",
      "state": {}
     },
     "a452e0624f214e5b939b7c5248bc87cf": {
      "model_module": "@jupyter-widgets/controls",
      "model_module_version": "1.2.0",
      "model_name": "DescriptionStyleModel",
      "state": {
       "description_width": ""
      }
     },
     "a46e9a0fc30a4e9da271be5332b7685c": {
      "model_module": "@jupyter-widgets/controls",
      "model_module_version": "1.2.0",
      "model_name": "ProgressStyleModel",
      "state": {
       "description_width": ""
      }
     },
     "a525e16ba5424d0ca17134cc28c0fec4": {
      "model_module": "@jupyter-widgets/base",
      "model_module_version": "1.0.0",
      "model_name": "LayoutModel",
      "state": {}
     },
     "a5cf7588ea114a269396fd0568e42821": {
      "model_module": "@jupyter-widgets/base",
      "model_module_version": "1.0.0",
      "model_name": "LayoutModel",
      "state": {}
     },
     "a69673dfb9d845269a016cffef00ad8c": {
      "model_module": "@jupyter-widgets/base",
      "model_module_version": "1.0.0",
      "model_name": "LayoutModel",
      "state": {}
     },
     "a71b44235c1a42a98ab023b6621649fc": {
      "model_module": "@jupyter-widgets/base",
      "model_module_version": "1.0.0",
      "model_name": "LayoutModel",
      "state": {}
     },
     "a71ea4a5d24a4584842fe85a35dd7047": {
      "model_module": "@jupyter-widgets/controls",
      "model_module_version": "1.2.0",
      "model_name": "ProgressStyleModel",
      "state": {
       "description_width": ""
      }
     },
     "a753b4d064934120940d22d540e44d2e": {
      "model_module": "@jupyter-widgets/base",
      "model_module_version": "1.0.0",
      "model_name": "LayoutModel",
      "state": {}
     },
     "a7585afd215c466bb0d2fe5063051fde": {
      "model_module": "@jupyter-widgets/base",
      "model_module_version": "1.0.0",
      "model_name": "LayoutModel",
      "state": {}
     },
     "a7ba129786cb44e4bcbd57c4f99278c8": {
      "model_module": "@jupyter-widgets/base",
      "model_module_version": "1.0.0",
      "model_name": "LayoutModel",
      "state": {}
     },
     "a7f7159fa1944d08ab227736eb8389e5": {
      "model_module": "@jupyter-widgets/base",
      "model_module_version": "1.0.0",
      "model_name": "LayoutModel",
      "state": {}
     },
     "a80ebbb06e854ee3bcfbd4d4fe79f1e5": {
      "model_module": "@jupyter-widgets/base",
      "model_module_version": "1.0.0",
      "model_name": "LayoutModel",
      "state": {}
     },
     "a827d0de548744f5892bbd4c9019a9bb": {
      "model_module": "@jupyter-widgets/controls",
      "model_module_version": "1.2.0",
      "model_name": "IntProgressModel",
      "state": {
       "description": "Epoch 6",
       "layout": "IPY_MODEL_dfb40b7b16e143049fcfb28e8b613c58",
       "max": 20694,
       "style": "IPY_MODEL_e6bb2696f23a40c1a045f72549fde7ec",
       "value": 20694
      }
     },
     "a8d541559cb94678b08605f8c6b6296e": {
      "model_module": "@jupyter-widgets/base",
      "model_module_version": "1.0.0",
      "model_name": "LayoutModel",
      "state": {}
     },
     "a9052b886a59401ab5a01e9cf955eb3f": {
      "model_module": "@jupyter-widgets/base",
      "model_module_version": "1.0.0",
      "model_name": "LayoutModel",
      "state": {}
     },
     "a98c0eee79fd4eb0aa89ac0856a13003": {
      "model_module": "@jupyter-widgets/base",
      "model_module_version": "1.0.0",
      "model_name": "LayoutModel",
      "state": {}
     },
     "a9a4d122ffad4805924a2c516559041c": {
      "model_module": "@jupyter-widgets/controls",
      "model_module_version": "1.2.0",
      "model_name": "ProgressStyleModel",
      "state": {
       "description_width": ""
      }
     },
     "a9c242cd4d1e4b0c8c3fa1e6cfb74696": {
      "model_module": "@jupyter-widgets/base",
      "model_module_version": "1.0.0",
      "model_name": "LayoutModel",
      "state": {}
     },
     "a9d3f79468be4c9b94fa71a87c3d3cf9": {
      "model_module": "@jupyter-widgets/base",
      "model_module_version": "1.0.0",
      "model_name": "LayoutModel",
      "state": {}
     },
     "aa3b4410ab4b4f529415152a425ed8c3": {
      "model_module": "@jupyter-widgets/base",
      "model_module_version": "1.0.0",
      "model_name": "LayoutModel",
      "state": {}
     },
     "aab5bc2eb3a44c3cb0c9e3e722b3e18c": {
      "model_module": "@jupyter-widgets/base",
      "model_module_version": "1.0.0",
      "model_name": "LayoutModel",
      "state": {}
     },
     "aad98a8978a440a7a7ce62bc1c34bc0c": {
      "model_module": "@jupyter-widgets/base",
      "model_module_version": "1.0.0",
      "model_name": "LayoutModel",
      "state": {}
     },
     "ab4910a79f3f45f390febbe2ccaf27d1": {
      "model_module": "@jupyter-widgets/controls",
      "model_module_version": "1.2.0",
      "model_name": "ProgressStyleModel",
      "state": {
       "description_width": ""
      }
     },
     "abd928c922254344a4e6b92be36e09c2": {
      "model_module": "@jupyter-widgets/base",
      "model_module_version": "1.0.0",
      "model_name": "LayoutModel",
      "state": {}
     },
     "ac6a38348216404c8f775f384397393f": {
      "model_module": "@jupyter-widgets/controls",
      "model_module_version": "1.2.0",
      "model_name": "HTMLModel",
      "state": {
       "layout": "IPY_MODEL_22274a2367a44be2a0cf3e6badf15bb6",
       "style": "IPY_MODEL_7e74e94b8da1415ab01ca68232679588",
       "value": "[loss: 0.467, acc: 0.837, val_loss: 0.807, val_acc: 0.688] : 100% 349/349 [05:15&lt;00:00, 28.16s/it]"
      }
     },
     "acd87fca609e470d93f4cee20d067168": {
      "model_module": "@jupyter-widgets/controls",
      "model_module_version": "1.2.0",
      "model_name": "IntProgressModel",
      "state": {
       "description": "Epoch 11",
       "layout": "IPY_MODEL_09a286cecf60432aaf71c74d988f784b",
       "max": 20694,
       "style": "IPY_MODEL_dc0aca8a128947bb85bfb5970fddd1a1",
       "value": 20694
      }
     },
     "ace417fc54db42468cb3f39237cdd93b": {
      "model_module": "@jupyter-widgets/controls",
      "model_module_version": "1.2.0",
      "model_name": "IntProgressModel",
      "state": {
       "description": "Epoch 16",
       "layout": "IPY_MODEL_048d8c23e81749fea4fb5628aaf16bc5",
       "max": 20694,
       "style": "IPY_MODEL_4664161268bd44a386ccd888ef06a385",
       "value": 20694
      }
     },
     "ad8d2b8d73ae4519832b093ba4a36be5": {
      "model_module": "@jupyter-widgets/base",
      "model_module_version": "1.0.0",
      "model_name": "LayoutModel",
      "state": {}
     },
     "ae214d0006814e2e84056e664585e7ce": {
      "model_module": "@jupyter-widgets/controls",
      "model_module_version": "1.2.0",
      "model_name": "HTMLModel",
      "state": {
       "layout": "IPY_MODEL_396ae59a891442e891c6aa50335ab556",
       "style": "IPY_MODEL_c5b3a7f744294945ba74044393c81963",
       "value": "[loss: 0.406, acc: 0.855, val_loss: 0.799, val_acc: 0.689] : 100% 349/349 [05:14&lt;00:00, 27.92s/it]"
      }
     },
     "b089735b1a2f45c084dbc93c8427df2b": {
      "model_module": "@jupyter-widgets/controls",
      "model_module_version": "1.2.0",
      "model_name": "IntProgressModel",
      "state": {
       "description": "Epoch 1",
       "layout": "IPY_MODEL_6889032032a549cbb8df71ce1f29dbd4",
       "max": 324,
       "style": "IPY_MODEL_1e4042871a234ca6b950aa9d9de3134d",
       "value": 324
      }
     },
     "b174eb646dc348c48ccf4aa64a06ff1a": {
      "model_module": "@jupyter-widgets/controls",
      "model_module_version": "1.2.0",
      "model_name": "ProgressStyleModel",
      "state": {
       "description_width": ""
      }
     },
     "b19f7d0a8fd0470385c5ff0652f83f2f": {
      "model_module": "@jupyter-widgets/controls",
      "model_module_version": "1.2.0",
      "model_name": "ProgressStyleModel",
      "state": {
       "description_width": ""
      }
     },
     "b1ba2ac78ead47fca076484a345657c4": {
      "model_module": "@jupyter-widgets/controls",
      "model_module_version": "1.2.0",
      "model_name": "DescriptionStyleModel",
      "state": {
       "description_width": ""
      }
     },
     "b22e5dc6b7ae42c9b9b61d798cd05fde": {
      "model_module": "@jupyter-widgets/controls",
      "model_module_version": "1.2.0",
      "model_name": "IntProgressModel",
      "state": {
       "description": "Epoch 4",
       "layout": "IPY_MODEL_0741171a65f64aff9291851e912c599e",
       "max": 349,
       "style": "IPY_MODEL_68ade86e7f384c968f7e00122b3bfc76",
       "value": 349
      }
     },
     "b2654c3f942b47ba9a175bb9ac663353": {
      "model_module": "@jupyter-widgets/controls",
      "model_module_version": "1.2.0",
      "model_name": "IntProgressModel",
      "state": {
       "description": "Epoch 17",
       "layout": "IPY_MODEL_29a1b502b53541438f0f3ba193f8daab",
       "max": 20694,
       "style": "IPY_MODEL_7423fd9ebe584af38288a27e3cf4508d",
       "value": 20694
      }
     },
     "b2b5d98bd9024eedb5fded9bc8f786a9": {
      "model_module": "@jupyter-widgets/base",
      "model_module_version": "1.0.0",
      "model_name": "LayoutModel",
      "state": {}
     },
     "b2ba597f896e435fac68c06bcfc1264e": {
      "model_module": "@jupyter-widgets/controls",
      "model_module_version": "1.2.0",
      "model_name": "HTMLModel",
      "state": {
       "layout": "IPY_MODEL_87aac39ae0dc4587967e511fca13b20f",
       "style": "IPY_MODEL_0d5f9df0ab804eec96aacb53ddfa2066",
       "value": "[loss: 3.190, acc: 0.799, val_loss: 2.980, val_acc: 0.812] : 100% 20694/20694 [02:42&lt;00:00,  5.88it/s]"
      }
     },
     "b2ef9b45403d4bd9906da6a38812f9a5": {
      "model_module": "@jupyter-widgets/base",
      "model_module_version": "1.0.0",
      "model_name": "LayoutModel",
      "state": {}
     },
     "b30a79e6e3b64159992aac8f40673fe8": {
      "model_module": "@jupyter-widgets/controls",
      "model_module_version": "1.2.0",
      "model_name": "ProgressStyleModel",
      "state": {
       "description_width": ""
      }
     },
     "b38670c177874fafb72fd2b721a08eb7": {
      "model_module": "@jupyter-widgets/controls",
      "model_module_version": "1.2.0",
      "model_name": "DescriptionStyleModel",
      "state": {
       "description_width": ""
      }
     },
     "b3bc983424d9448d933846a6a5887bc2": {
      "model_module": "@jupyter-widgets/controls",
      "model_module_version": "1.2.0",
      "model_name": "IntProgressModel",
      "state": {
       "description": "Epoch 9",
       "layout": "IPY_MODEL_367e47f3097b4019811c65596b571c0d",
       "max": 20694,
       "style": "IPY_MODEL_dd21e0cadf4e468fac5f39a4bc9afcbc",
       "value": 20694
      }
     },
     "b486b010e28d4716b1aeb947a9936ee5": {
      "model_module": "@jupyter-widgets/base",
      "model_module_version": "1.0.0",
      "model_name": "LayoutModel",
      "state": {}
     },
     "b4f690f9fe5d4306ac6957ac19f0d89d": {
      "model_module": "@jupyter-widgets/base",
      "model_module_version": "1.0.0",
      "model_name": "LayoutModel",
      "state": {}
     },
     "b57d58c7ff3a40b6a6efbd069b71e839": {
      "model_module": "@jupyter-widgets/base",
      "model_module_version": "1.0.0",
      "model_name": "LayoutModel",
      "state": {}
     },
     "b589d2dc71364a03b1d0d17728c1db55": {
      "model_module": "@jupyter-widgets/base",
      "model_module_version": "1.0.0",
      "model_name": "LayoutModel",
      "state": {}
     },
     "b603fa6963ef4b778769cca8b58b98a1": {
      "model_module": "@jupyter-widgets/controls",
      "model_module_version": "1.2.0",
      "model_name": "DescriptionStyleModel",
      "state": {
       "description_width": ""
      }
     },
     "b8114730764647c1834c244ab491faaa": {
      "model_module": "@jupyter-widgets/base",
      "model_module_version": "1.0.0",
      "model_name": "LayoutModel",
      "state": {}
     },
     "b83a0c59055a4b0cb51b349157796e7f": {
      "model_module": "@jupyter-widgets/base",
      "model_module_version": "1.0.0",
      "model_name": "LayoutModel",
      "state": {}
     },
     "b84c6fd78e394d3589a8adc7eefad1a5": {
      "model_module": "@jupyter-widgets/controls",
      "model_module_version": "1.2.0",
      "model_name": "DescriptionStyleModel",
      "state": {
       "description_width": ""
      }
     },
     "b87f0d8054364796a9eb4c4d3f0e0401": {
      "model_module": "@jupyter-widgets/controls",
      "model_module_version": "1.2.0",
      "model_name": "IntProgressModel",
      "state": {
       "description": "Epoch 2",
       "layout": "IPY_MODEL_a753b4d064934120940d22d540e44d2e",
       "max": 20694,
       "style": "IPY_MODEL_a9a4d122ffad4805924a2c516559041c",
       "value": 20694
      }
     },
     "ba57ecdec92140898f643f2811229cce": {
      "model_module": "@jupyter-widgets/controls",
      "model_module_version": "1.2.0",
      "model_name": "ProgressStyleModel",
      "state": {
       "description_width": ""
      }
     },
     "ba79498bccbb4ad08049904e19732dc5": {
      "model_module": "@jupyter-widgets/controls",
      "model_module_version": "1.2.0",
      "model_name": "HTMLModel",
      "state": {
       "layout": "IPY_MODEL_f5520fa49c974715bd37618a1588c51c",
       "style": "IPY_MODEL_e45fcaceba3444ea8e4774746689f07a",
       "value": "[loss: 0.412, acc: 0.858, val_loss: 0.814, val_acc: 0.709] : 100% 319/319 [04:52&lt;00:00, 26.09s/it]"
      }
     },
     "ba85bf5c460e43e68172449514320191": {
      "model_module": "@jupyter-widgets/base",
      "model_module_version": "1.0.0",
      "model_name": "LayoutModel",
      "state": {}
     },
     "bac37a7532894d82923e0b45fd85131d": {
      "model_module": "@jupyter-widgets/controls",
      "model_module_version": "1.2.0",
      "model_name": "DescriptionStyleModel",
      "state": {
       "description_width": ""
      }
     },
     "bb6a6043f703451392646f0308f16324": {
      "model_module": "@jupyter-widgets/controls",
      "model_module_version": "1.2.0",
      "model_name": "DescriptionStyleModel",
      "state": {
       "description_width": ""
      }
     },
     "bba6d9f7b98b4f6ba1d8c6bd886855c2": {
      "model_module": "@jupyter-widgets/controls",
      "model_module_version": "1.2.0",
      "model_name": "IntProgressModel",
      "state": {
       "description": "Epoch 8",
       "layout": "IPY_MODEL_a7f7159fa1944d08ab227736eb8389e5",
       "max": 20694,
       "style": "IPY_MODEL_5b05d5d908c14ec8b5aee34f016da433",
       "value": 20694
      }
     },
     "bd045217fd89413fa70d93ee8d68ceff": {
      "model_module": "@jupyter-widgets/base",
      "model_module_version": "1.0.0",
      "model_name": "LayoutModel",
      "state": {}
     },
     "bd75e8945fcd4f2aaf3141e70b68c5c5": {
      "model_module": "@jupyter-widgets/controls",
      "model_module_version": "1.2.0",
      "model_name": "HTMLModel",
      "state": {
       "layout": "IPY_MODEL_cd6cf1e2a1da49f3b9ad6edfd7565cd8",
       "style": "IPY_MODEL_bb6a6043f703451392646f0308f16324",
       "value": "[loss: 0.425, acc: 0.851, val_loss: 0.770, val_acc: 0.724] : 100% 324/324 [04:37&lt;00:00, 24.70s/it]"
      }
     },
     "bdaa7b7949d9464ba57f983879865731": {
      "model_module": "@jupyter-widgets/base",
      "model_module_version": "1.0.0",
      "model_name": "LayoutModel",
      "state": {}
     },
     "bdb680ca84c54910bd3199a594770de6": {
      "model_module": "@jupyter-widgets/base",
      "model_module_version": "1.0.0",
      "model_name": "LayoutModel",
      "state": {}
     },
     "bdd0f9489d1a40daa2e27756f64ad63f": {
      "model_module": "@jupyter-widgets/controls",
      "model_module_version": "1.2.0",
      "model_name": "IntProgressModel",
      "state": {
       "description": "Epoch 0",
       "layout": "IPY_MODEL_2a5c8ac4c9164f05944ef599a63b2f90",
       "max": 319,
       "style": "IPY_MODEL_8f83e7d8447f4a70bee29ee33229a295",
       "value": 319
      }
     },
     "bdd99500cff745c1a03d658ca2de5636": {
      "model_module": "@jupyter-widgets/base",
      "model_module_version": "1.0.0",
      "model_name": "LayoutModel",
      "state": {}
     },
     "be5720400f404c6ea399122f9af62504": {
      "model_module": "@jupyter-widgets/base",
      "model_module_version": "1.0.0",
      "model_name": "LayoutModel",
      "state": {}
     },
     "be9535a611eb47e2984f6f4f35fe52f0": {
      "model_module": "@jupyter-widgets/base",
      "model_module_version": "1.0.0",
      "model_name": "LayoutModel",
      "state": {}
     },
     "beeb1ad315c84206afdd1ec0dbc0a5cd": {
      "model_module": "@jupyter-widgets/controls",
      "model_module_version": "1.2.0",
      "model_name": "HTMLModel",
      "state": {
       "layout": "IPY_MODEL_2ea7c625f3624953b4ed569cfc40b2cc",
       "style": "IPY_MODEL_54a97041c0c04ba18d49fb7405cd6a41",
       "value": "[loss: 0.410, acc: 0.845, val_loss: 0.373, val_acc: 0.864] : 100% 20694/20694 [00:10&lt;00:00, 533.27it/s]"
      }
     },
     "bf32ee85c24d4292b760f6bef3d78352": {
      "model_module": "@jupyter-widgets/controls",
      "model_module_version": "1.2.0",
      "model_name": "HTMLModel",
      "state": {
       "layout": "IPY_MODEL_95e11a7696694e349e8cb2cc8d5b5e06",
       "style": "IPY_MODEL_83e25c22483b4b669f72aa9a47d7f200",
       "value": "[loss: 0.451, acc: 0.833, val_loss: 0.373, val_acc: 0.863] : 100% 20694/20694 [00:10&lt;00:00, 185.57it/s]"
      }
     },
     "bf365817cc95475f8c6ceefaecc9ea45": {
      "model_module": "@jupyter-widgets/base",
      "model_module_version": "1.0.0",
      "model_name": "LayoutModel",
      "state": {}
     },
     "bf3fb00d329a4ca2ba737378d77b8397": {
      "model_module": "@jupyter-widgets/base",
      "model_module_version": "1.0.0",
      "model_name": "LayoutModel",
      "state": {}
     },
     "bf599595d9dc441f83536c19bec635de": {
      "model_module": "@jupyter-widgets/controls",
      "model_module_version": "1.2.0",
      "model_name": "DescriptionStyleModel",
      "state": {
       "description_width": ""
      }
     },
     "bf79fb2174a242b0bb9ad29fa6cbe517": {
      "model_module": "@jupyter-widgets/base",
      "model_module_version": "1.0.0",
      "model_name": "LayoutModel",
      "state": {}
     },
     "bf803f9baccc4f37b5881cc17768db4a": {
      "model_module": "@jupyter-widgets/base",
      "model_module_version": "1.0.0",
      "model_name": "LayoutModel",
      "state": {}
     },
     "bfb4d33f1b414e1681366c59358495e3": {
      "model_module": "@jupyter-widgets/controls",
      "model_module_version": "1.2.0",
      "model_name": "HTMLModel",
      "state": {
       "layout": "IPY_MODEL_f16f2f1f41ff44129f3dc67902a617a9",
       "style": "IPY_MODEL_a369e0802be94f499f6ca5ae9da75a08",
       "value": "[loss: 0.528, acc: 0.804, val_loss: 0.458, val_acc: 0.824] : 100% 20694/20694 [00:10&lt;00:00, 300.42it/s]"
      }
     },
     "bfc6bd176ceb45be9f6af8b11d43a24d": {
      "model_module": "@jupyter-widgets/controls",
      "model_module_version": "1.2.0",
      "model_name": "ProgressStyleModel",
      "state": {
       "description_width": ""
      }
     },
     "c00aed2c535f4701bc5fbe9ecd335278": {
      "model_module": "@jupyter-widgets/controls",
      "model_module_version": "1.2.0",
      "model_name": "ProgressStyleModel",
      "state": {
       "description_width": ""
      }
     },
     "c11c5c18a68e407a94011a76fd1f278c": {
      "model_module": "@jupyter-widgets/base",
      "model_module_version": "1.0.0",
      "model_name": "LayoutModel",
      "state": {}
     },
     "c1b310d3d9f545c69f4a355d22e550b0": {
      "model_module": "@jupyter-widgets/base",
      "model_module_version": "1.0.0",
      "model_name": "LayoutModel",
      "state": {}
     },
     "c1da19c96aed42748c81988adff95bb6": {
      "model_module": "@jupyter-widgets/controls",
      "model_module_version": "1.2.0",
      "model_name": "ProgressStyleModel",
      "state": {
       "description_width": ""
      }
     },
     "c238da8a1cb646e6aaa7e611161bbbca": {
      "model_module": "@jupyter-widgets/controls",
      "model_module_version": "1.2.0",
      "model_name": "IntProgressModel",
      "state": {
       "description": "Epoch 1",
       "layout": "IPY_MODEL_c90bd04b99bf48f89f4dc70ad2fd532c",
       "max": 319,
       "style": "IPY_MODEL_a46e9a0fc30a4e9da271be5332b7685c",
       "value": 319
      }
     },
     "c267596aaaad4732b556cb9c59c5115c": {
      "model_module": "@jupyter-widgets/controls",
      "model_module_version": "1.2.0",
      "model_name": "HTMLModel",
      "state": {
       "layout": "IPY_MODEL_3809a8d0d65342f48d1e10bf645977cf",
       "style": "IPY_MODEL_07eb9db35ee34cc4a8b5da3e3ec52841",
       "value": "[loss: 0.369, acc: 0.863, val_loss: 0.353, val_acc: 0.874] : 100% 20694/20694 [00:10&lt;00:00, 367.30it/s]"
      }
     },
     "c2ddcb37bdcd41f7a162f98f86198fb1": {
      "model_module": "@jupyter-widgets/base",
      "model_module_version": "1.0.0",
      "model_name": "LayoutModel",
      "state": {}
     },
     "c3216933013c43f6a7ed42359c23364c": {
      "model_module": "@jupyter-widgets/controls",
      "model_module_version": "1.2.0",
      "model_name": "IntProgressModel",
      "state": {
       "description": "Epoch 10",
       "layout": "IPY_MODEL_eee358b348e64945911f52d421c82c91",
       "max": 20694,
       "style": "IPY_MODEL_5ebd57327d5c4e1fa36831c06e99708a",
       "value": 20694
      }
     },
     "c331c96e36fb4aa8ac0a1753ba633bd7": {
      "model_module": "@jupyter-widgets/base",
      "model_module_version": "1.0.0",
      "model_name": "LayoutModel",
      "state": {}
     },
     "c351f675623a48368f2c1cbaee540dfd": {
      "model_module": "@jupyter-widgets/controls",
      "model_module_version": "1.2.0",
      "model_name": "DescriptionStyleModel",
      "state": {
       "description_width": ""
      }
     },
     "c3b25ee164e24f7f9e3f015fdb7f618d": {
      "model_module": "@jupyter-widgets/base",
      "model_module_version": "1.0.0",
      "model_name": "LayoutModel",
      "state": {}
     },
     "c3b6d36e1b4e4c6e867e8d143f20c138": {
      "model_module": "@jupyter-widgets/controls",
      "model_module_version": "1.2.0",
      "model_name": "DescriptionStyleModel",
      "state": {
       "description_width": ""
      }
     },
     "c3f2b481b2fb4e3e8ea043ea86180b39": {
      "model_module": "@jupyter-widgets/controls",
      "model_module_version": "1.2.0",
      "model_name": "IntProgressModel",
      "state": {
       "description": "Epoch 6",
       "layout": "IPY_MODEL_f095d6ab978940fd9d4ee0147bb5613d",
       "max": 20694,
       "style": "IPY_MODEL_7a86409d25394474a3ccb3d773618c54",
       "value": 20694
      }
     },
     "c43f9164556f488e918c7a2345456e4e": {
      "model_module": "@jupyter-widgets/base",
      "model_module_version": "1.0.0",
      "model_name": "LayoutModel",
      "state": {}
     },
     "c4651832faff476e88ca76c1b5158f4e": {
      "model_module": "@jupyter-widgets/controls",
      "model_module_version": "1.2.0",
      "model_name": "DescriptionStyleModel",
      "state": {
       "description_width": ""
      }
     },
     "c4955cc727b34f509fa86ddb9407b369": {
      "model_module": "@jupyter-widgets/base",
      "model_module_version": "1.0.0",
      "model_name": "LayoutModel",
      "state": {}
     },
     "c5025610501f45b78b4da0d4a79beb83": {
      "model_module": "@jupyter-widgets/controls",
      "model_module_version": "1.2.0",
      "model_name": "ProgressStyleModel",
      "state": {
       "description_width": ""
      }
     },
     "c50d651bf57d4b029432531f07f947aa": {
      "model_module": "@jupyter-widgets/controls",
      "model_module_version": "1.2.0",
      "model_name": "DescriptionStyleModel",
      "state": {
       "description_width": ""
      }
     },
     "c5b3a7f744294945ba74044393c81963": {
      "model_module": "@jupyter-widgets/controls",
      "model_module_version": "1.2.0",
      "model_name": "DescriptionStyleModel",
      "state": {
       "description_width": ""
      }
     },
     "c5e02af7b6ad4e6cbbdac854abeb4ed8": {
      "model_module": "@jupyter-widgets/controls",
      "model_module_version": "1.2.0",
      "model_name": "ProgressStyleModel",
      "state": {
       "description_width": ""
      }
     },
     "c5f0efa4f5a643b4ba8dad7540493eb1": {
      "model_module": "@jupyter-widgets/base",
      "model_module_version": "1.0.0",
      "model_name": "LayoutModel",
      "state": {}
     },
     "c63bf65ccd3f401ba787775f40da5b25": {
      "model_module": "@jupyter-widgets/controls",
      "model_module_version": "1.2.0",
      "model_name": "ProgressStyleModel",
      "state": {
       "description_width": ""
      }
     },
     "c74d133ed6714eaeb3c67a7e4e927608": {
      "model_module": "@jupyter-widgets/controls",
      "model_module_version": "1.2.0",
      "model_name": "HBoxModel",
      "state": {
       "children": [
        "IPY_MODEL_876e55c694344ce3841a4e28a019d87c",
        "IPY_MODEL_9dec392ee67543b1bee34c0dccde5193"
       ],
       "layout": "IPY_MODEL_4af4540414cf4fc6a1af1d96a8116890"
      }
     },
     "c7c092ad09744a03a116a3e89ad3d60a": {
      "model_module": "@jupyter-widgets/base",
      "model_module_version": "1.0.0",
      "model_name": "LayoutModel",
      "state": {}
     },
     "c7d5d0991bcc47a999c197761d117d6b": {
      "model_module": "@jupyter-widgets/base",
      "model_module_version": "1.0.0",
      "model_name": "LayoutModel",
      "state": {}
     },
     "c7d5de5021b842df80848fe3dece8fcf": {
      "model_module": "@jupyter-widgets/controls",
      "model_module_version": "1.2.0",
      "model_name": "ProgressStyleModel",
      "state": {
       "description_width": ""
      }
     },
     "c81e28b3903a46afa8a2a4ba342ede09": {
      "model_module": "@jupyter-widgets/controls",
      "model_module_version": "1.2.0",
      "model_name": "DescriptionStyleModel",
      "state": {
       "description_width": ""
      }
     },
     "c831730c214e4d2c8e49f65e0f21ac98": {
      "model_module": "@jupyter-widgets/base",
      "model_module_version": "1.0.0",
      "model_name": "LayoutModel",
      "state": {}
     },
     "c83c1c41edf040bb8c10e67d6422165f": {
      "model_module": "@jupyter-widgets/controls",
      "model_module_version": "1.2.0",
      "model_name": "HBoxModel",
      "state": {
       "children": [
        "IPY_MODEL_555dc047b72b4c90b8fac3a738cb36fa",
        "IPY_MODEL_0528411f11014c32aad0b3afd9c1d82c"
       ],
       "layout": "IPY_MODEL_5f270f2596ce47459957046e5955bfd3"
      }
     },
     "c8ea9db82e144e8e94b39ba5ba947eda": {
      "model_module": "@jupyter-widgets/controls",
      "model_module_version": "1.2.0",
      "model_name": "DescriptionStyleModel",
      "state": {
       "description_width": ""
      }
     },
     "c90bd04b99bf48f89f4dc70ad2fd532c": {
      "model_module": "@jupyter-widgets/base",
      "model_module_version": "1.0.0",
      "model_name": "LayoutModel",
      "state": {}
     },
     "c9200b9a22a74a5f922d2bc26494d722": {
      "model_module": "@jupyter-widgets/controls",
      "model_module_version": "1.2.0",
      "model_name": "DescriptionStyleModel",
      "state": {
       "description_width": ""
      }
     },
     "c92442f054a84ead9eed167e110da91b": {
      "model_module": "@jupyter-widgets/base",
      "model_module_version": "1.0.0",
      "model_name": "LayoutModel",
      "state": {}
     },
     "c9ec83f25bd24ea7b4b382510123d9c7": {
      "model_module": "@jupyter-widgets/controls",
      "model_module_version": "1.2.0",
      "model_name": "ProgressStyleModel",
      "state": {
       "description_width": ""
      }
     },
     "ca315aa6f30244b983fd83fe68d9f896": {
      "model_module": "@jupyter-widgets/base",
      "model_module_version": "1.0.0",
      "model_name": "LayoutModel",
      "state": {}
     },
     "cafec43b67b442e4a64c9f8103493028": {
      "model_module": "@jupyter-widgets/controls",
      "model_module_version": "1.2.0",
      "model_name": "DescriptionStyleModel",
      "state": {
       "description_width": ""
      }
     },
     "cc3d1628f0f9400ba4e0354344397270": {
      "model_module": "@jupyter-widgets/controls",
      "model_module_version": "1.2.0",
      "model_name": "IntProgressModel",
      "state": {
       "description": "Epoch 13",
       "layout": "IPY_MODEL_ad8d2b8d73ae4519832b093ba4a36be5",
       "max": 20694,
       "style": "IPY_MODEL_6fbac48fa0c84df29ae6382534a0dcdb",
       "value": 20694
      }
     },
     "ccd2c6aec44e48e2a0ab3ac1581cdc13": {
      "model_module": "@jupyter-widgets/base",
      "model_module_version": "1.0.0",
      "model_name": "LayoutModel",
      "state": {}
     },
     "cd6cf1e2a1da49f3b9ad6edfd7565cd8": {
      "model_module": "@jupyter-widgets/base",
      "model_module_version": "1.0.0",
      "model_name": "LayoutModel",
      "state": {}
     },
     "cdaea40fb60f4f37b8811bccfed3ed30": {
      "model_module": "@jupyter-widgets/base",
      "model_module_version": "1.0.0",
      "model_name": "LayoutModel",
      "state": {}
     },
     "cdd10094990c4e42a27d775c486642a0": {
      "model_module": "@jupyter-widgets/controls",
      "model_module_version": "1.2.0",
      "model_name": "IntProgressModel",
      "state": {
       "description": "Epoch 8",
       "layout": "IPY_MODEL_9a8bf18c707749159bedd3953e8512d3",
       "max": 20694,
       "style": "IPY_MODEL_3c8b2feb270e4557ae07113cea0333fc",
       "value": 19136
      }
     },
     "ce0034ab180741ef9dbe14c10352e9e0": {
      "model_module": "@jupyter-widgets/controls",
      "model_module_version": "1.2.0",
      "model_name": "HTMLModel",
      "state": {
       "layout": "IPY_MODEL_2a7f47c4c8bb4f569e4f0336c82a0b34",
       "style": "IPY_MODEL_f051498ec3a44526ac1a173e80ed2bc2",
       "value": "[loss: 0.445, acc: 0.836, val_loss: 0.389, val_acc: 0.857] : 100% 20694/20694 [00:10&lt;00:00, 524.36it/s]"
      }
     },
     "ce199e6e7c14463cafcc458405065c18": {
      "model_module": "@jupyter-widgets/base",
      "model_module_version": "1.0.0",
      "model_name": "LayoutModel",
      "state": {}
     },
     "cedcec0212324b538464053144fd8a0a": {
      "model_module": "@jupyter-widgets/controls",
      "model_module_version": "1.2.0",
      "model_name": "DescriptionStyleModel",
      "state": {
       "description_width": ""
      }
     },
     "cf188b2878f34447bae4f3cbfac21eed": {
      "model_module": "@jupyter-widgets/controls",
      "model_module_version": "1.2.0",
      "model_name": "IntProgressModel",
      "state": {
       "description": "Epoch 8",
       "layout": "IPY_MODEL_8809b315712d49328e6ce7d38b8a66a3",
       "max": 20694,
       "style": "IPY_MODEL_c7d5de5021b842df80848fe3dece8fcf",
       "value": 20694
      }
     },
     "cf757be0692e4a0fa160a43ad4ff6383": {
      "model_module": "@jupyter-widgets/controls",
      "model_module_version": "1.2.0",
      "model_name": "ProgressStyleModel",
      "state": {
       "description_width": ""
      }
     },
     "d00a8ccfcfbd4e528eed1f470e8e4309": {
      "model_module": "@jupyter-widgets/controls",
      "model_module_version": "1.2.0",
      "model_name": "ProgressStyleModel",
      "state": {
       "description_width": ""
      }
     },
     "d01a5e94350843a1bb0b8deabb1653b6": {
      "model_module": "@jupyter-widgets/controls",
      "model_module_version": "1.2.0",
      "model_name": "IntProgressModel",
      "state": {
       "description": "Epoch 17",
       "layout": "IPY_MODEL_ba85bf5c460e43e68172449514320191",
       "max": 20694,
       "style": "IPY_MODEL_2185b482424e4b5d815a675cbd61d079",
       "value": 20694
      }
     },
     "d0806099f84c467982a1129fe34d1abe": {
      "model_module": "@jupyter-widgets/controls",
      "model_module_version": "1.2.0",
      "model_name": "HTMLModel",
      "state": {
       "layout": "IPY_MODEL_b486b010e28d4716b1aeb947a9936ee5",
       "style": "IPY_MODEL_585023e15dc74e8db823cdb25f37d09f",
       "value": "[loss: 0.504, acc: 0.815, val_loss: 0.416, val_acc: 0.847] : 100% 20694/20694 [00:10&lt;00:00, 288.54it/s]"
      }
     },
     "d092435f79e34c40b6eaf0e7f42c3f18": {
      "model_module": "@jupyter-widgets/controls",
      "model_module_version": "1.2.0",
      "model_name": "ProgressStyleModel",
      "state": {
       "description_width": ""
      }
     },
     "d18376cf39a44709b2942c9f78d4c1a3": {
      "model_module": "@jupyter-widgets/controls",
      "model_module_version": "1.2.0",
      "model_name": "DescriptionStyleModel",
      "state": {
       "description_width": ""
      }
     },
     "d2a4372b90154215ad1445a43a5a6e2e": {
      "model_module": "@jupyter-widgets/base",
      "model_module_version": "1.0.0",
      "model_name": "LayoutModel",
      "state": {}
     },
     "d2dc3b1c7368481e91d8d8efff07c734": {
      "model_module": "@jupyter-widgets/controls",
      "model_module_version": "1.2.0",
      "model_name": "DescriptionStyleModel",
      "state": {
       "description_width": ""
      }
     },
     "d2fb7f2842904b9691fdb7e984dbaae1": {
      "model_module": "@jupyter-widgets/controls",
      "model_module_version": "1.2.0",
      "model_name": "IntProgressModel",
      "state": {
       "description": "Epoch 7",
       "layout": "IPY_MODEL_487f149969b24ad6ba90d14e766e2868",
       "max": 20694,
       "style": "IPY_MODEL_23c3f8114fcc4f21a1a0397d0da9dd69",
       "value": 20694
      }
     },
     "d38c3f79783f47ccaec7696157328305": {
      "model_module": "@jupyter-widgets/controls",
      "model_module_version": "1.2.0",
      "model_name": "HTMLModel",
      "state": {
       "layout": "IPY_MODEL_34f2595cdc1945f98b0eb64a8dc510ac",
       "style": "IPY_MODEL_4f2bb689cf834c0b8a671ae79155c51c",
       "value": "[loss: 2.713, acc: 0.831, val_loss: 2.564, val_acc: 0.839] : 100% 20694/20694 [02:41&lt;00:00,  5.86it/s]"
      }
     },
     "d3c1ade10b574d3ab36fa52140fc76bf": {
      "model_module": "@jupyter-widgets/controls",
      "model_module_version": "1.2.0",
      "model_name": "ProgressStyleModel",
      "state": {
       "description_width": ""
      }
     },
     "d4f0b045e51148e8bc9d1993bed6ebd8": {
      "model_module": "@jupyter-widgets/controls",
      "model_module_version": "1.2.0",
      "model_name": "HTMLModel",
      "state": {
       "layout": "IPY_MODEL_fbf15609250844d9bbdb3fc191a7e1aa",
       "style": "IPY_MODEL_61dd103357d24bcfb8e248fed22fa146",
       "value": "[loss: 2.889, acc: 0.820, val_loss: 2.388, val_acc: 0.851] : 100% 20694/20694 [02:43&lt;00:00,  5.15it/s]"
      }
     },
     "d5438020927143d7b696ba5dfc6dc3ea": {
      "model_module": "@jupyter-widgets/controls",
      "model_module_version": "1.2.0",
      "model_name": "DescriptionStyleModel",
      "state": {
       "description_width": ""
      }
     },
     "d5602b309b4943bd995f4e16695851a5": {
      "model_module": "@jupyter-widgets/controls",
      "model_module_version": "1.2.0",
      "model_name": "ProgressStyleModel",
      "state": {
       "description_width": ""
      }
     },
     "d57a406f9628497db98f4aba03615522": {
      "model_module": "@jupyter-widgets/controls",
      "model_module_version": "1.2.0",
      "model_name": "IntProgressModel",
      "state": {
       "description": "Epoch 9",
       "layout": "IPY_MODEL_b589d2dc71364a03b1d0d17728c1db55",
       "max": 20694,
       "style": "IPY_MODEL_bfc6bd176ceb45be9f6af8b11d43a24d",
       "value": 20694
      }
     },
     "d5f108da61b94f6ca581f680b9daa2cc": {
      "model_module": "@jupyter-widgets/controls",
      "model_module_version": "1.2.0",
      "model_name": "HTMLModel",
      "state": {
       "layout": "IPY_MODEL_40ffa0372e47496ebb0de0fed70238da",
       "style": "IPY_MODEL_a12a4f4913c3472cbe4cc36c9fdcc7b7",
       "value": "[loss: 0.428, acc: 0.839, val_loss: 0.394, val_acc: 0.852] : 100% 20694/20694 [00:10&lt;00:00, 607.38it/s]"
      }
     },
     "d626beff66084bfb917e85782dac536b": {
      "model_module": "@jupyter-widgets/controls",
      "model_module_version": "1.2.0",
      "model_name": "DescriptionStyleModel",
      "state": {
       "description_width": ""
      }
     },
     "d6d1bf32f0a14134a62109a01ff62523": {
      "model_module": "@jupyter-widgets/controls",
      "model_module_version": "1.2.0",
      "model_name": "ProgressStyleModel",
      "state": {
       "description_width": ""
      }
     },
     "d716c53653c345da88091160594cb61b": {
      "model_module": "@jupyter-widgets/controls",
      "model_module_version": "1.2.0",
      "model_name": "IntProgressModel",
      "state": {
       "description": "Epoch 2",
       "layout": "IPY_MODEL_7eeb27fa863e417fa28f37115dec4a49",
       "max": 319,
       "style": "IPY_MODEL_ab4910a79f3f45f390febbe2ccaf27d1",
       "value": 319
      }
     },
     "d7c53292f11841fe942e02bcb3bbfa52": {
      "model_module": "@jupyter-widgets/controls",
      "model_module_version": "1.2.0",
      "model_name": "HTMLModel",
      "state": {
       "layout": "IPY_MODEL_22b41cf1fd8d4d98a15a6b24f3bb8934",
       "style": "IPY_MODEL_c50d651bf57d4b029432531f07f947aa",
       "value": "[loss: 1.730, acc: 0.289, val_loss: 1.374, val_acc: 0.626] : 100% 1294/1294 [05:02&lt;00:00, 26.45s/it]"
      }
     },
     "d7f494f8aee34352963c4726b4f8c0ea": {
      "model_module": "@jupyter-widgets/controls",
      "model_module_version": "1.2.0",
      "model_name": "IntProgressModel",
      "state": {
       "description": "Epoch 3",
       "layout": "IPY_MODEL_f4b30316e8fd4240a5c04850eb128914",
       "max": 324,
       "style": "IPY_MODEL_26657bcef324457c973d9ed4b69749e9",
       "value": 324
      }
     },
     "d803ae6fd7cf4dbdaa4a2ace60eb4150": {
      "model_module": "@jupyter-widgets/base",
      "model_module_version": "1.0.0",
      "model_name": "LayoutModel",
      "state": {}
     },
     "d82808a38b8046199603c51d86a76426": {
      "model_module": "@jupyter-widgets/controls",
      "model_module_version": "1.2.0",
      "model_name": "IntProgressModel",
      "state": {
       "description": "Epoch 15",
       "layout": "IPY_MODEL_2d3b986e45184efab78b8bc162f48c08",
       "max": 20694,
       "style": "IPY_MODEL_148f9810e8b84a9185f167c2ac006cab",
       "value": 20694
      }
     },
     "d8fc696de7e742f0b5c1d08f7f93db06": {
      "model_module": "@jupyter-widgets/base",
      "model_module_version": "1.0.0",
      "model_name": "LayoutModel",
      "state": {}
     },
     "d9a5f65672254c978ae45536711992e2": {
      "model_module": "@jupyter-widgets/base",
      "model_module_version": "1.0.0",
      "model_name": "LayoutModel",
      "state": {}
     },
     "d9d96ef1e4e5475d92216d42f49e9131": {
      "model_module": "@jupyter-widgets/base",
      "model_module_version": "1.0.0",
      "model_name": "LayoutModel",
      "state": {}
     },
     "d9ed67da0f8341d3b7b9b61e3383091b": {
      "model_module": "@jupyter-widgets/base",
      "model_module_version": "1.0.0",
      "model_name": "LayoutModel",
      "state": {}
     },
     "dbf036a2438e4772b48e170f382fa5ae": {
      "model_module": "@jupyter-widgets/controls",
      "model_module_version": "1.2.0",
      "model_name": "ProgressStyleModel",
      "state": {
       "description_width": ""
      }
     },
     "dc067df62938408685db25cf3dd69b66": {
      "model_module": "@jupyter-widgets/controls",
      "model_module_version": "1.2.0",
      "model_name": "HTMLModel",
      "state": {
       "layout": "IPY_MODEL_e317d103582d45c39f0f6fd6259b1233",
       "style": "IPY_MODEL_a22b601d6b864205ac6a73f275e39731",
       "value": "[loss: 0.471, acc: 0.824, val_loss: 0.402, val_acc: 0.852] : 100% 20694/20694 [00:10&lt;00:00, 585.97it/s]"
      }
     },
     "dc0aca8a128947bb85bfb5970fddd1a1": {
      "model_module": "@jupyter-widgets/controls",
      "model_module_version": "1.2.0",
      "model_name": "ProgressStyleModel",
      "state": {
       "description_width": ""
      }
     },
     "dd18c7b9e6784c3ba969c1d2e4435e3d": {
      "model_module": "@jupyter-widgets/controls",
      "model_module_version": "1.2.0",
      "model_name": "IntProgressModel",
      "state": {
       "description": "Epoch 3",
       "layout": "IPY_MODEL_efad9092927a448ca9e602226f40034e",
       "max": 1294,
       "style": "IPY_MODEL_21ef6cdaa5024d0c9de2f53fe7c3729c",
       "value": 1294
      }
     },
     "dd21e0cadf4e468fac5f39a4bc9afcbc": {
      "model_module": "@jupyter-widgets/controls",
      "model_module_version": "1.2.0",
      "model_name": "ProgressStyleModel",
      "state": {
       "description_width": ""
      }
     },
     "dd3d9706da9a4ece96c30473425d5d5e": {
      "model_module": "@jupyter-widgets/controls",
      "model_module_version": "1.2.0",
      "model_name": "ProgressStyleModel",
      "state": {
       "description_width": ""
      }
     },
     "ddc0ffa8272b4d8282cdccaa24aed6c0": {
      "model_module": "@jupyter-widgets/controls",
      "model_module_version": "1.2.0",
      "model_name": "IntProgressModel",
      "state": {
       "description": "Epoch 12",
       "layout": "IPY_MODEL_12cc8b13c3f54f208410e92b8a6bf58a",
       "max": 20694,
       "style": "IPY_MODEL_c1da19c96aed42748c81988adff95bb6",
       "value": 20694
      }
     },
     "ddcdf8e91e9945c6a03454e3a5982312": {
      "model_module": "@jupyter-widgets/base",
      "model_module_version": "1.0.0",
      "model_name": "LayoutModel",
      "state": {}
     },
     "ddd156cac8c546b2a481612031bb1783": {
      "model_module": "@jupyter-widgets/base",
      "model_module_version": "1.0.0",
      "model_name": "LayoutModel",
      "state": {}
     },
     "ddf56ba2837648d8b47e53626c9aa34a": {
      "model_module": "@jupyter-widgets/controls",
      "model_module_version": "1.2.0",
      "model_name": "DescriptionStyleModel",
      "state": {
       "description_width": ""
      }
     },
     "de7a423cb686422d8e65be821245c45a": {
      "model_module": "@jupyter-widgets/base",
      "model_module_version": "1.0.0",
      "model_name": "LayoutModel",
      "state": {}
     },
     "de90f8794fab41d882aec7c791cdbed5": {
      "model_module": "@jupyter-widgets/base",
      "model_module_version": "1.0.0",
      "model_name": "LayoutModel",
      "state": {}
     },
     "dea2fcc93c7342149d788891a3bec141": {
      "model_module": "@jupyter-widgets/controls",
      "model_module_version": "1.2.0",
      "model_name": "IntProgressModel",
      "state": {
       "description": "Epoch 4",
       "layout": "IPY_MODEL_5d17528036f74c08a9c6d31a8bd50b95",
       "max": 20694,
       "style": "IPY_MODEL_4ffe17011d4146dcb467cafce1fd4a3a",
       "value": 20694
      }
     },
     "defa1467b22e4f3c9cccead0baeb18ae": {
      "model_module": "@jupyter-widgets/base",
      "model_module_version": "1.0.0",
      "model_name": "LayoutModel",
      "state": {}
     },
     "dfab75b62ce1445e8e5aa9373f46ee76": {
      "model_module": "@jupyter-widgets/base",
      "model_module_version": "1.0.0",
      "model_name": "LayoutModel",
      "state": {}
     },
     "dfb40b7b16e143049fcfb28e8b613c58": {
      "model_module": "@jupyter-widgets/base",
      "model_module_version": "1.0.0",
      "model_name": "LayoutModel",
      "state": {}
     },
     "e03db8dddb0b4933b387a7b8b22edfa3": {
      "model_module": "@jupyter-widgets/controls",
      "model_module_version": "1.2.0",
      "model_name": "ProgressStyleModel",
      "state": {
       "description_width": ""
      }
     },
     "e0b351c026c540ed9311f87870556a2e": {
      "model_module": "@jupyter-widgets/controls",
      "model_module_version": "1.2.0",
      "model_name": "ProgressStyleModel",
      "state": {
       "description_width": ""
      }
     },
     "e10d320c39264dba8b2ae79944dbfd61": {
      "model_module": "@jupyter-widgets/base",
      "model_module_version": "1.0.0",
      "model_name": "LayoutModel",
      "state": {}
     },
     "e10e1dc1fa8f44bba17e7bafa54ce626": {
      "model_module": "@jupyter-widgets/controls",
      "model_module_version": "1.2.0",
      "model_name": "HTMLModel",
      "state": {
       "layout": "IPY_MODEL_c92442f054a84ead9eed167e110da91b",
       "style": "IPY_MODEL_7b80b8d2f8794fcdbde51683001c60c7",
       "value": "[loss: 1.695, acc: 0.308, val_loss: 1.268, val_acc: 0.554] : 100% 1294/1294 [05:01&lt;00:00, 26.17s/it]"
      }
     },
     "e1836d4f0ba4427e8d5923118423aa49": {
      "model_module": "@jupyter-widgets/base",
      "model_module_version": "1.0.0",
      "model_name": "LayoutModel",
      "state": {}
     },
     "e1cef8806b1045feaefa26b76b2e57ba": {
      "model_module": "@jupyter-widgets/base",
      "model_module_version": "1.0.0",
      "model_name": "LayoutModel",
      "state": {}
     },
     "e1eeaba27c0d4b8aad4d7893b3b2069d": {
      "model_module": "@jupyter-widgets/controls",
      "model_module_version": "1.2.0",
      "model_name": "DescriptionStyleModel",
      "state": {
       "description_width": ""
      }
     },
     "e25879ef76e544f8b063fe698769b963": {
      "model_module": "@jupyter-widgets/base",
      "model_module_version": "1.0.0",
      "model_name": "LayoutModel",
      "state": {}
     },
     "e2af353a6f8149598cb86d36e574ef2f": {
      "model_module": "@jupyter-widgets/base",
      "model_module_version": "1.0.0",
      "model_name": "LayoutModel",
      "state": {}
     },
     "e2f5665847f946d5b8bef3369be7263c": {
      "model_module": "@jupyter-widgets/controls",
      "model_module_version": "1.2.0",
      "model_name": "IntProgressModel",
      "state": {
       "description": "Epoch 10",
       "layout": "IPY_MODEL_38724cc900094b9d9ba1602c985fd67b",
       "max": 20694,
       "style": "IPY_MODEL_c5e02af7b6ad4e6cbbdac854abeb4ed8",
       "value": 20694
      }
     },
     "e317d103582d45c39f0f6fd6259b1233": {
      "model_module": "@jupyter-widgets/base",
      "model_module_version": "1.0.0",
      "model_name": "LayoutModel",
      "state": {}
     },
     "e33c0c85b8714b2bbf3d823ae658a6cd": {
      "model_module": "@jupyter-widgets/controls",
      "model_module_version": "1.2.0",
      "model_name": "HTMLModel",
      "state": {
       "layout": "IPY_MODEL_1383033774ce43a299b46b485e60483c",
       "style": "IPY_MODEL_2678698c07104d5482ccefc4632a8dd7",
       "value": "[loss: 3.098, acc: 0.806, val_loss: 3.186, val_acc: 0.801] : 100% 20694/20694 [02:42&lt;00:00,  5.82it/s]"
      }
     },
     "e366d03886d44a8d93424c480111e8f4": {
      "model_module": "@jupyter-widgets/controls",
      "model_module_version": "1.2.0",
      "model_name": "IntProgressModel",
      "state": {
       "description": "Epoch 0",
       "layout": "IPY_MODEL_ef2c3da236514f0495905b3fe435e579",
       "max": 20694,
       "style": "IPY_MODEL_d00a8ccfcfbd4e528eed1f470e8e4309",
       "value": 20694
      }
     },
     "e3a0dbc2458548c49239f5b6d43257bf": {
      "model_module": "@jupyter-widgets/controls",
      "model_module_version": "1.2.0",
      "model_name": "DescriptionStyleModel",
      "state": {
       "description_width": ""
      }
     },
     "e3bd8a94dbb54535a5d3d61f135bb704": {
      "model_module": "@jupyter-widgets/base",
      "model_module_version": "1.0.0",
      "model_name": "LayoutModel",
      "state": {}
     },
     "e45b511eedf848f5af266cc7ebb8d648": {
      "model_module": "@jupyter-widgets/base",
      "model_module_version": "1.0.0",
      "model_name": "LayoutModel",
      "state": {}
     },
     "e45fcaceba3444ea8e4774746689f07a": {
      "model_module": "@jupyter-widgets/controls",
      "model_module_version": "1.2.0",
      "model_name": "DescriptionStyleModel",
      "state": {
       "description_width": ""
      }
     },
     "e5d505f1f90a493898ab0b3685d2a4e3": {
      "model_module": "@jupyter-widgets/controls",
      "model_module_version": "1.2.0",
      "model_name": "ProgressStyleModel",
      "state": {
       "description_width": ""
      }
     },
     "e606f9f608944426b5b92bb408eceb9f": {
      "model_module": "@jupyter-widgets/base",
      "model_module_version": "1.0.0",
      "model_name": "LayoutModel",
      "state": {}
     },
     "e6bb2696f23a40c1a045f72549fde7ec": {
      "model_module": "@jupyter-widgets/controls",
      "model_module_version": "1.2.0",
      "model_name": "ProgressStyleModel",
      "state": {
       "description_width": ""
      }
     },
     "e8783de905d44d36a05ab94dc3f2d0c2": {
      "model_module": "@jupyter-widgets/controls",
      "model_module_version": "1.2.0",
      "model_name": "HTMLModel",
      "state": {
       "layout": "IPY_MODEL_041777a5d2054caaa65f20bfd88c8007",
       "style": "IPY_MODEL_4a3f01cfb0f148148c0934ea959332ca",
       "value": "[loss: 0.350, acc: 0.875, val_loss: 0.839, val_acc: 0.694] : 100% 319/319 [04:51&lt;00:00, 25.87s/it]"
      }
     },
     "e92c8b6684164842ae50a2c16589bba5": {
      "model_module": "@jupyter-widgets/base",
      "model_module_version": "1.0.0",
      "model_name": "LayoutModel",
      "state": {}
     },
     "e9da98fec88f4de9b55388a9aa099ead": {
      "model_module": "@jupyter-widgets/controls",
      "model_module_version": "1.2.0",
      "model_name": "DescriptionStyleModel",
      "state": {
       "description_width": ""
      }
     },
     "e9f09c368acc4f789a51e1841662a52e": {
      "model_module": "@jupyter-widgets/controls",
      "model_module_version": "1.2.0",
      "model_name": "DescriptionStyleModel",
      "state": {
       "description_width": ""
      }
     },
     "ea7643da9249486fb1cd41c51df0992b": {
      "model_module": "@jupyter-widgets/base",
      "model_module_version": "1.0.0",
      "model_name": "LayoutModel",
      "state": {}
     },
     "eadc585365044c748fc69504094ecb50": {
      "model_module": "@jupyter-widgets/base",
      "model_module_version": "1.0.0",
      "model_name": "LayoutModel",
      "state": {}
     },
     "eb9658b2afe74597a81698d3b7351309": {
      "model_module": "@jupyter-widgets/controls",
      "model_module_version": "1.2.0",
      "model_name": "HTMLModel",
      "state": {
       "layout": "IPY_MODEL_3e661367939441e1a4c5a1ccbb4b05b5",
       "style": "IPY_MODEL_6156436ed1c441e9a380f96c98b21223",
       "value": "[loss: 2.963, acc: 0.814, val_loss: 2.652, val_acc: 0.835] : 100% 20694/20694 [02:43&lt;00:00,  5.16it/s]"
      }
     },
     "eba1807d0a294439bb772ce8a5deccb2": {
      "model_module": "@jupyter-widgets/base",
      "model_module_version": "1.0.0",
      "model_name": "LayoutModel",
      "state": {}
     },
     "eba2379ccccb40589aa047f1b1769242": {
      "model_module": "@jupyter-widgets/base",
      "model_module_version": "1.0.0",
      "model_name": "LayoutModel",
      "state": {}
     },
     "ebd0f49348274e50a958cba54702f97c": {
      "model_module": "@jupyter-widgets/controls",
      "model_module_version": "1.2.0",
      "model_name": "ProgressStyleModel",
      "state": {
       "description_width": ""
      }
     },
     "ebe1936a4e9f48ed8a0f43e3fee5a8eb": {
      "model_module": "@jupyter-widgets/base",
      "model_module_version": "1.0.0",
      "model_name": "LayoutModel",
      "state": {}
     },
     "ec7c6177ac5f4c8dbb8b6e49657f351f": {
      "model_module": "@jupyter-widgets/controls",
      "model_module_version": "1.2.0",
      "model_name": "HTMLModel",
      "state": {
       "layout": "IPY_MODEL_845e6a5d3fcf44758051d771eecd3b46",
       "style": "IPY_MODEL_5bb8ce1f6df44f2d993847c51f359822",
       "value": "[loss: 1.692, acc: 0.315, val_loss: 1.341, val_acc: 0.479] : 100% 1294/1294 [05:00&lt;00:00, 26.10s/it]"
      }
     },
     "ec8b78b4ad99446197b3f30790db7bae": {
      "model_module": "@jupyter-widgets/controls",
      "model_module_version": "1.2.0",
      "model_name": "IntProgressModel",
      "state": {
       "description": "Epoch 3",
       "layout": "IPY_MODEL_c7c092ad09744a03a116a3e89ad3d60a",
       "max": 20694,
       "style": "IPY_MODEL_dd3d9706da9a4ece96c30473425d5d5e",
       "value": 20694
      }
     },
     "ed2473d311054bf6b46d2ab0961521c0": {
      "model_module": "@jupyter-widgets/controls",
      "model_module_version": "1.2.0",
      "model_name": "DescriptionStyleModel",
      "state": {
       "description_width": ""
      }
     },
     "ed985de1a8754e01b31182b0a7a7b0f4": {
      "model_module": "@jupyter-widgets/controls",
      "model_module_version": "1.2.0",
      "model_name": "DescriptionStyleModel",
      "state": {
       "description_width": ""
      }
     },
     "edf3482b7d2444fdae5a6c864fc87962": {
      "model_module": "@jupyter-widgets/controls",
      "model_module_version": "1.2.0",
      "model_name": "HTMLModel",
      "state": {
       "layout": "IPY_MODEL_0fe3bd53c65d4f44b43cc25ebc59886e",
       "style": "IPY_MODEL_7d2bc8d50d7346a28010867a1242f060",
       "value": "[loss: 0.504, acc: 0.815, val_loss: 0.416, val_acc: 0.847] : 100% 20694/20694 [00:10&lt;00:00, 281.63it/s]"
      }
     },
     "eee358b348e64945911f52d421c82c91": {
      "model_module": "@jupyter-widgets/base",
      "model_module_version": "1.0.0",
      "model_name": "LayoutModel",
      "state": {}
     },
     "eefdbccc9632491198be9a6b7636bc93": {
      "model_module": "@jupyter-widgets/controls",
      "model_module_version": "1.2.0",
      "model_name": "HTMLModel",
      "state": {
       "layout": "IPY_MODEL_f28d50d147b2484c98ffb4c6dcc72389",
       "style": "IPY_MODEL_f15272d50ab545c6b3ce7df68fbb3dcf",
       "value": "[loss: 0.425, acc: 0.841, val_loss: 0.381, val_acc: 0.858] : 100% 20694/20694 [00:10&lt;00:00, 448.15it/s]"
      }
     },
     "ef2c3da236514f0495905b3fe435e579": {
      "model_module": "@jupyter-widgets/base",
      "model_module_version": "1.0.0",
      "model_name": "LayoutModel",
      "state": {}
     },
     "ef3602386d024577b8552e24e3a83972": {
      "model_module": "@jupyter-widgets/controls",
      "model_module_version": "1.2.0",
      "model_name": "IntProgressModel",
      "state": {
       "description": "Epoch 2",
       "layout": "IPY_MODEL_c3b25ee164e24f7f9e3f015fdb7f618d",
       "max": 20694,
       "style": "IPY_MODEL_9875dadd9f254462950768ecadac5dc0",
       "value": 20694
      }
     },
     "ef807acd669849f291cf47e57f475a91": {
      "model_module": "@jupyter-widgets/controls",
      "model_module_version": "1.2.0",
      "model_name": "DescriptionStyleModel",
      "state": {
       "description_width": ""
      }
     },
     "efad9092927a448ca9e602226f40034e": {
      "model_module": "@jupyter-widgets/base",
      "model_module_version": "1.0.0",
      "model_name": "LayoutModel",
      "state": {}
     },
     "efbfb95b462c42b18cb006077b8846da": {
      "model_module": "@jupyter-widgets/controls",
      "model_module_version": "1.2.0",
      "model_name": "IntProgressModel",
      "state": {
       "description": "Epoch 3",
       "layout": "IPY_MODEL_43ed3ff8a3484e0bb1d8af44958ebd37",
       "max": 20694,
       "style": "IPY_MODEL_336bfdbf973c497296cbc2721888bda5",
       "value": 20694
      }
     },
     "efecd3a6272b44eb8e8ddd6c8aefba03": {
      "model_module": "@jupyter-widgets/base",
      "model_module_version": "1.0.0",
      "model_name": "LayoutModel",
      "state": {}
     },
     "effc8af434b844eda42cfef734a6dd6d": {
      "model_module": "@jupyter-widgets/controls",
      "model_module_version": "1.2.0",
      "model_name": "HTMLModel",
      "state": {
       "layout": "IPY_MODEL_03e6989d966f4d5d8af2d1603bf89e56",
       "style": "IPY_MODEL_5ca8c87ee071491684303682a7583a54",
       "value": "[loss: 0.388, acc: 0.862, val_loss: 0.785, val_acc: 0.714] : 100% 324/324 [04:36&lt;00:00, 24.46s/it]"
      }
     },
     "effec46fe9024fb29a549aceeb4000f5": {
      "model_module": "@jupyter-widgets/controls",
      "model_module_version": "1.2.0",
      "model_name": "ProgressStyleModel",
      "state": {
       "description_width": ""
      }
     },
     "f051498ec3a44526ac1a173e80ed2bc2": {
      "model_module": "@jupyter-widgets/controls",
      "model_module_version": "1.2.0",
      "model_name": "DescriptionStyleModel",
      "state": {
       "description_width": ""
      }
     },
     "f095d6ab978940fd9d4ee0147bb5613d": {
      "model_module": "@jupyter-widgets/base",
      "model_module_version": "1.0.0",
      "model_name": "LayoutModel",
      "state": {}
     },
     "f0e3b7d0cbce438584e83fd95e46db2d": {
      "model_module": "@jupyter-widgets/base",
      "model_module_version": "1.0.0",
      "model_name": "LayoutModel",
      "state": {}
     },
     "f15272d50ab545c6b3ce7df68fbb3dcf": {
      "model_module": "@jupyter-widgets/controls",
      "model_module_version": "1.2.0",
      "model_name": "DescriptionStyleModel",
      "state": {
       "description_width": ""
      }
     },
     "f160acdc65c04e8f8dc12d1941e12c55": {
      "model_module": "@jupyter-widgets/base",
      "model_module_version": "1.0.0",
      "model_name": "LayoutModel",
      "state": {}
     },
     "f16f2f1f41ff44129f3dc67902a617a9": {
      "model_module": "@jupyter-widgets/base",
      "model_module_version": "1.0.0",
      "model_name": "LayoutModel",
      "state": {}
     },
     "f1c6592ad1334c239310326786490e04": {
      "model_module": "@jupyter-widgets/controls",
      "model_module_version": "1.2.0",
      "model_name": "ProgressStyleModel",
      "state": {
       "description_width": ""
      }
     },
     "f1d9b2383f554406b13072e7c8a7244d": {
      "model_module": "@jupyter-widgets/base",
      "model_module_version": "1.0.0",
      "model_name": "LayoutModel",
      "state": {}
     },
     "f1eeddc9edc944f8ae5d8687616d69e3": {
      "model_module": "@jupyter-widgets/base",
      "model_module_version": "1.0.0",
      "model_name": "LayoutModel",
      "state": {}
     },
     "f28d50d147b2484c98ffb4c6dcc72389": {
      "model_module": "@jupyter-widgets/base",
      "model_module_version": "1.0.0",
      "model_name": "LayoutModel",
      "state": {}
     },
     "f2a09611a73c46c2930661421a706d4e": {
      "model_module": "@jupyter-widgets/controls",
      "model_module_version": "1.2.0",
      "model_name": "ProgressStyleModel",
      "state": {
       "description_width": ""
      }
     },
     "f2e575e1fa514a2cb5d502a5c7c17cfc": {
      "model_module": "@jupyter-widgets/base",
      "model_module_version": "1.0.0",
      "model_name": "LayoutModel",
      "state": {}
     },
     "f3057fc18e12481dacf3d56f2b6a0f7b": {
      "model_module": "@jupyter-widgets/controls",
      "model_module_version": "1.2.0",
      "model_name": "ProgressStyleModel",
      "state": {
       "description_width": ""
      }
     },
     "f30d355ed0684e6db5cbba961e192143": {
      "model_module": "@jupyter-widgets/base",
      "model_module_version": "1.0.0",
      "model_name": "LayoutModel",
      "state": {}
     },
     "f38caa8dbed5446a8715a34dc036a28d": {
      "model_module": "@jupyter-widgets/controls",
      "model_module_version": "1.2.0",
      "model_name": "ProgressStyleModel",
      "state": {
       "description_width": ""
      }
     },
     "f3f6c9b3949e42ccbca4af28738229a7": {
      "model_module": "@jupyter-widgets/controls",
      "model_module_version": "1.2.0",
      "model_name": "IntProgressModel",
      "state": {
       "description": "Epoch 3",
       "layout": "IPY_MODEL_5b7d779a86f14e1c91053a21fa868bbd",
       "max": 319,
       "style": "IPY_MODEL_c63bf65ccd3f401ba787775f40da5b25",
       "value": 319
      }
     },
     "f4635013915a457b9740ebc515ff2432": {
      "model_module": "@jupyter-widgets/controls",
      "model_module_version": "1.2.0",
      "model_name": "DescriptionStyleModel",
      "state": {
       "description_width": ""
      }
     },
     "f4b30316e8fd4240a5c04850eb128914": {
      "model_module": "@jupyter-widgets/base",
      "model_module_version": "1.0.0",
      "model_name": "LayoutModel",
      "state": {}
     },
     "f52719e23a004046b5c1c9c585f13a5a": {
      "model_module": "@jupyter-widgets/base",
      "model_module_version": "1.0.0",
      "model_name": "LayoutModel",
      "state": {}
     },
     "f536f268208d4d9196840684a161cd7f": {
      "model_module": "@jupyter-widgets/controls",
      "model_module_version": "1.2.0",
      "model_name": "DescriptionStyleModel",
      "state": {
       "description_width": ""
      }
     },
     "f54bb05ebc5248f094792937526bd2e7": {
      "model_module": "@jupyter-widgets/base",
      "model_module_version": "1.0.0",
      "model_name": "LayoutModel",
      "state": {}
     },
     "f5520fa49c974715bd37618a1588c51c": {
      "model_module": "@jupyter-widgets/base",
      "model_module_version": "1.0.0",
      "model_name": "LayoutModel",
      "state": {}
     },
     "f591a84d1bea4436918f773ced361aca": {
      "model_module": "@jupyter-widgets/controls",
      "model_module_version": "1.2.0",
      "model_name": "DescriptionStyleModel",
      "state": {
       "description_width": ""
      }
     },
     "f5d222fcd5af44659d77cc76af216057": {
      "model_module": "@jupyter-widgets/base",
      "model_module_version": "1.0.0",
      "model_name": "LayoutModel",
      "state": {}
     },
     "f6ed3f73f98e4020b881695753b6fa0d": {
      "model_module": "@jupyter-widgets/controls",
      "model_module_version": "1.2.0",
      "model_name": "DescriptionStyleModel",
      "state": {
       "description_width": ""
      }
     },
     "f72902285f3d4658a6561fe45b27e171": {
      "model_module": "@jupyter-widgets/controls",
      "model_module_version": "1.2.0",
      "model_name": "IntProgressModel",
      "state": {
       "description": "Epoch 3",
       "layout": "IPY_MODEL_aab5bc2eb3a44c3cb0c9e3e722b3e18c",
       "max": 20694,
       "style": "IPY_MODEL_904d37257f2a4d1d8d81b4c8aa960787",
       "value": 20694
      }
     },
     "f732cde046c84310b2593529e400d122": {
      "model_module": "@jupyter-widgets/base",
      "model_module_version": "1.0.0",
      "model_name": "LayoutModel",
      "state": {}
     },
     "f805af9cf0434558be514d4e8d4e641c": {
      "model_module": "@jupyter-widgets/controls",
      "model_module_version": "1.2.0",
      "model_name": "DescriptionStyleModel",
      "state": {
       "description_width": ""
      }
     },
     "f8a7a1e2f2dd4b40a69742722c6de41b": {
      "model_module": "@jupyter-widgets/controls",
      "model_module_version": "1.2.0",
      "model_name": "IntProgressModel",
      "state": {
       "description": "Epoch 6",
       "layout": "IPY_MODEL_f54bb05ebc5248f094792937526bd2e7",
       "max": 20694,
       "style": "IPY_MODEL_4f0fb9176b2d458082d64e12e609fe5e",
       "value": 20694
      }
     },
     "f950653992bf4d5c890e581c8a661177": {
      "model_module": "@jupyter-widgets/controls",
      "model_module_version": "1.2.0",
      "model_name": "HTMLModel",
      "state": {
       "layout": "IPY_MODEL_117849e5ca6d474e816ffbb2807a121e",
       "style": "IPY_MODEL_82ead87e90b94e8fafe49f8f962aad24",
       "value": "[loss: 1.760, acc: 0.259, val_loss: 1.618, val_acc: 0.404] : 100% 1294/1294 [13:04&lt;00:00, 31.01s/it]"
      }
     },
     "f9a3d6d6de6e4f508bd0ad062869413c": {
      "model_module": "@jupyter-widgets/base",
      "model_module_version": "1.0.0",
      "model_name": "LayoutModel",
      "state": {}
     },
     "f9a53e3244624f8bb6627e21c2ff3db4": {
      "model_module": "@jupyter-widgets/controls",
      "model_module_version": "1.2.0",
      "model_name": "ProgressStyleModel",
      "state": {
       "description_width": ""
      }
     },
     "fa44264c42254b06afe593ca53946942": {
      "model_module": "@jupyter-widgets/base",
      "model_module_version": "1.0.0",
      "model_name": "LayoutModel",
      "state": {}
     },
     "fa6688eb4e894a30895c1bcfaf517dc2": {
      "model_module": "@jupyter-widgets/controls",
      "model_module_version": "1.2.0",
      "model_name": "ProgressStyleModel",
      "state": {
       "description_width": ""
      }
     },
     "facf30fad7db4de594e243f8cbc85071": {
      "model_module": "@jupyter-widgets/base",
      "model_module_version": "1.0.0",
      "model_name": "LayoutModel",
      "state": {}
     },
     "fae51d5d6fc648309e7156440160ba70": {
      "model_module": "@jupyter-widgets/base",
      "model_module_version": "1.0.0",
      "model_name": "LayoutModel",
      "state": {}
     },
     "fb29a9667c42400c8fe9c05390e3d595": {
      "model_module": "@jupyter-widgets/controls",
      "model_module_version": "1.2.0",
      "model_name": "HTMLModel",
      "state": {
       "layout": "IPY_MODEL_ddd156cac8c546b2a481612031bb1783",
       "style": "IPY_MODEL_6ad63e1dddea4d74ac8b9fb0c9bb5702",
       "value": " 40% 12/30 [32:33&lt;48:45, 162.53s/it]"
      }
     },
     "fbac3b4a73be40fa863ba164da5ddd03": {
      "model_module": "@jupyter-widgets/controls",
      "model_module_version": "1.2.0",
      "model_name": "HTMLModel",
      "state": {
       "layout": "IPY_MODEL_c831730c214e4d2c8e49f65e0f21ac98",
       "style": "IPY_MODEL_d5438020927143d7b696ba5dfc6dc3ea",
       "value": "[loss: 0.371, acc: 0.863, val_loss: 0.350, val_acc: 0.875] : 100% 20694/20694 [00:10&lt;00:00, 284.08it/s]"
      }
     },
     "fbcd8ed894a84af8ba9ab3d5b854b384": {
      "model_module": "@jupyter-widgets/controls",
      "model_module_version": "1.2.0",
      "model_name": "IntProgressModel",
      "state": {
       "description": "Epoch 13",
       "layout": "IPY_MODEL_51cb4a852e2b40d2964a8ad25c4e35bd",
       "max": 20694,
       "style": "IPY_MODEL_4336f079582548148f46b92776aec9d6",
       "value": 20694
      }
     },
     "fbf15609250844d9bbdb3fc191a7e1aa": {
      "model_module": "@jupyter-widgets/base",
      "model_module_version": "1.0.0",
      "model_name": "LayoutModel",
      "state": {}
     },
     "fc33e4a6dd634ee093aa84049d4248de": {
      "model_module": "@jupyter-widgets/controls",
      "model_module_version": "1.2.0",
      "model_name": "ProgressStyleModel",
      "state": {
       "description_width": ""
      }
     },
     "fcf014e91cd9436e816c9d436970672f": {
      "model_module": "@jupyter-widgets/controls",
      "model_module_version": "1.2.0",
      "model_name": "ProgressStyleModel",
      "state": {
       "description_width": ""
      }
     },
     "fcfbb96e34f84bc9907a72efb89e5968": {
      "model_module": "@jupyter-widgets/base",
      "model_module_version": "1.0.0",
      "model_name": "LayoutModel",
      "state": {}
     },
     "fda04615ebb843998eb2c6aefb99b54c": {
      "model_module": "@jupyter-widgets/controls",
      "model_module_version": "1.2.0",
      "model_name": "HTMLModel",
      "state": {
       "layout": "IPY_MODEL_43ff69f303bc4413adbe87fc3a33eda2",
       "style": "IPY_MODEL_bf599595d9dc441f83536c19bec635de",
       "value": "[loss: 0.656, acc: 0.782, val_loss: 0.854, val_acc: 0.685] : 100% 349/349 [14:41&lt;00:00, 32.07s/it]"
      }
     },
     "fdf9af90c0084545aaa90cc72a9f2748": {
      "model_module": "@jupyter-widgets/controls",
      "model_module_version": "1.2.0",
      "model_name": "HTMLModel",
      "state": {
       "layout": "IPY_MODEL_52a48e017ca348678a592b6c179e76bf",
       "style": "IPY_MODEL_ed2473d311054bf6b46d2ab0961521c0",
       "value": "[loss: 0.376, acc: 0.858, val_loss: 0.348, val_acc: 0.872] : 100% 20694/20694 [00:10&lt;00:00, 388.71it/s]"
      }
     },
     "fee00ed27b7e4d7e9f918fc83c28538f": {
      "model_module": "@jupyter-widgets/base",
      "model_module_version": "1.0.0",
      "model_name": "LayoutModel",
      "state": {}
     },
     "ff0ce6ea50e345b1b09bd2babb5e6560": {
      "model_module": "@jupyter-widgets/base",
      "model_module_version": "1.0.0",
      "model_name": "LayoutModel",
      "state": {}
     },
     "ff5a9e2e2ace450692aacb7a1f004335": {
      "model_module": "@jupyter-widgets/base",
      "model_module_version": "1.0.0",
      "model_name": "LayoutModel",
      "state": {}
     },
     "ff84f3b107864da0b505f51ad02f1f28": {
      "model_module": "@jupyter-widgets/base",
      "model_module_version": "1.0.0",
      "model_name": "LayoutModel",
      "state": {}
     },
     "ffb762bd6ea64d67a9516df1ab0f9edd": {
      "model_module": "@jupyter-widgets/base",
      "model_module_version": "1.0.0",
      "model_name": "LayoutModel",
      "state": {}
     },
     "fff65bb6b50647a3982a8eb41c49174d": {
      "model_module": "@jupyter-widgets/base",
      "model_module_version": "1.0.0",
      "model_name": "LayoutModel",
      "state": {}
     },
     "ffffe560c4a64ff3bc986c89e6b41668": {
      "model_module": "@jupyter-widgets/controls",
      "model_module_version": "1.2.0",
      "model_name": "HTMLModel",
      "state": {
       "layout": "IPY_MODEL_ea7643da9249486fb1cd41c51df0992b",
       "style": "IPY_MODEL_5b24bc6d357247468049bc834987a5f2",
       "value": "[loss: 3.322, acc: 0.790, val_loss: 2.904, val_acc: 0.817] : 100% 20694/20694 [02:42&lt;00:00,  5.81it/s]"
      }
     }
    },
    "version_major": 2,
    "version_minor": 0
   }
  }
 },
 "nbformat": 4,
 "nbformat_minor": 4
}
