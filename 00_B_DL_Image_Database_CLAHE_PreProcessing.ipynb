{
 "cells": [
  {
   "cell_type": "markdown",
   "metadata": {},
   "source": [
    "# IMAGE DATABASE CLAHE TRANSFORMATION\n",
    "### Code to perform Contrast-adjusted Histogram Equalization in all images of database\n",
    "#### by Luis Soenksen\n",
    "#### Last Update: 01/05/2017"
   ]
  },
  {
   "cell_type": "markdown",
   "metadata": {},
   "source": [
    "----------------------------"
   ]
  },
  {
   "cell_type": "code",
   "execution_count": null,
   "metadata": {},
   "outputs": [],
   "source": [
    "\"\"\"\n",
    " IMAGE CLAHE PRE-PROCESSING HELPER FUNCTIONS CODE\n",
    " ---------------------------------\n",
    " by Luis R Soenksen\n",
    " Last Update: 2017/04/23\n",
    " Adapted from script for offline image augmentation using Keras\n",
    "\"\"\"\n",
    "import cv2\n",
    "import numpy as np  \n",
    "\n",
    "def CLAHE_preprocess_img(img):\n",
    "    img = img.astype(np.float32)\n",
    "    # Histogram normalization in v channel\n",
    "    img_hsv = cv2.cvtColor(img.astype(np.float32), cv2.COLOR_RGB2HSV).astype(np.float32)\n",
    "    \n",
    "    # Applies CLAHE (Contrast Limited Adaptive Histogram Equalization) on V channel\n",
    "    clahe = cv2.createCLAHE(clipLimit=1.0, tileGridSize=(2,2))\n",
    "    img_hsv[:,:,2] = clahe.apply(img_hsv[:,:,2].astype(np.uint8)).astype(np.float32)\n",
    "    \n",
    "    # convert the HSV image back to RGB format\n",
    "    img = cv2.cvtColor(img_hsv, cv2.COLOR_HSV2RGB).astype(np.float32)\n",
    "    \n",
    "    return img\n",
    "\n",
    "# Print iterations progress\n",
    "def printProgressBar (iteration, total, prefix = '', suffix = '', decimals = 1, length = 100, fill = '█'):\n",
    "    \"\"\"\n",
    "    Call in a loop to create terminal progress bar\n",
    "    @params:\n",
    "        iteration   - Required  : current iteration (Int)\n",
    "        total       - Required  : total iterations (Int)\n",
    "        prefix      - Optional  : prefix string (Str)\n",
    "        suffix      - Optional  : suffix string (Str)\n",
    "        decimals    - Optional  : positive number of decimals in percent complete (Int)\n",
    "        length      - Optional  : character length of bar (Int)\n",
    "        fill        - Optional  : bar fill character (Str)\n",
    "    \"\"\"\n",
    "    percent = (\"{0:.\" + str(decimals) + \"f}\").format(100 * (iteration / float(total)))\n",
    "    filledLength = int(length * iteration // total)\n",
    "    bar = fill * filledLength + '-' * (length - filledLength)\n",
    "    print('\\r%s |%s| %s%% %s' % (prefix, bar, percent, suffix), end = '\\r')\n",
    "    # Print New Line on Complete\n",
    "    if iteration == total: \n",
    "        print()"
   ]
  },
  {
   "cell_type": "code",
   "execution_count": null,
   "metadata": {},
   "outputs": [],
   "source": [
    "\"\"\"\n",
    " IMAGE CLAHE PRE-PROCESSING CODE\n",
    " ---------------------------------\n",
    " by Luis R Soenksen\n",
    " Last Update: 2017/04/16\n",
    " Adapted from script for offline image augmentation using Keras\n",
    "\"\"\"\n",
    "import glob\n",
    "import cv2\n",
    "import os\n",
    "import matplotlib.pyplot as plt\n",
    "import matplotlib.image as mpimg\n",
    "import numpy as np\n",
    "\n",
    "#Creation of folder tree structure for converted files\n",
    "inputpath = './data/single_lesion_database/original_data/'\n",
    "outputpath = './data/single_lesion_database/clahe_data/'\n",
    "\n",
    "for dirpath, dirnames, filenames in os.walk(inputpath):\n",
    "    structure = os.path.join(outputpath, dirpath[len(inputpath):])\n",
    "    if not os.path.isdir(structure):\n",
    "        os.mkdir(structure)\n",
    "    else:\n",
    "        print(\"Folder does already exits!\")\n",
    "        \n",
    "#CLAHE CONVERTER\n",
    "print('Processing CLAHE conversion')\n",
    "n = 0\n",
    "d = 0\n",
    "l = sum([len(files) for r, d, files in os.walk(inputpath)])-1\n",
    "for directory in glob.iglob(inputpath + '*', recursive=True):\n",
    "    d += 1\n",
    "    for filename in glob.iglob(directory + '/' +'*.png', recursive=True):\n",
    "        img = cv2.imread(filename)\n",
    "        n += 1\n",
    "        printProgressBar(n , l, prefix = 'Progress:', suffix = 'Complete', length = 50)\n",
    "        cv2.imwrite(outputpath + filename.replace(inputpath,''), CLAHE_preprocess_img(img))\n",
    "        del img\n",
    "\n",
    "print('Database had ' + str(l) + ' original files, divided into ' + str(d) + ' categories')\n",
    "print('Finished!', sep='', end='', flush=True)"
   ]
  }
 ],
 "metadata": {
  "language_info": {
   "name": "python"
  }
 },
 "nbformat": 4,
 "nbformat_minor": 4
}
